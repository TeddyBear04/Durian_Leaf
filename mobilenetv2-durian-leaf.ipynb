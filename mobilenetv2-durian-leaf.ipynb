{
 "cells": [
  {
   "cell_type": "code",
   "execution_count": 1,
   "id": "a5e50180",
   "metadata": {
    "execution": {
     "iopub.execute_input": "2025-06-03T10:22:30.783521Z",
     "iopub.status.busy": "2025-06-03T10:22:30.783264Z",
     "iopub.status.idle": "2025-06-03T10:24:02.206990Z",
     "shell.execute_reply": "2025-06-03T10:24:02.206125Z"
    },
    "papermill": {
     "duration": 91.429258,
     "end_time": "2025-06-03T10:24:02.208374",
     "exception": false,
     "start_time": "2025-06-03T10:22:30.779116",
     "status": "completed"
    },
    "tags": []
   },
   "outputs": [
    {
     "name": "stdout",
     "output_type": "stream",
     "text": [
      "Collecting ptflops\r\n",
      "  Downloading ptflops-0.7.4-py3-none-any.whl.metadata (9.4 kB)\r\n",
      "Requirement already satisfied: torch>=2.0 in /usr/local/lib/python3.11/dist-packages (from ptflops) (2.6.0+cu124)\r\n",
      "Requirement already satisfied: filelock in /usr/local/lib/python3.11/dist-packages (from torch>=2.0->ptflops) (3.18.0)\r\n",
      "Requirement already satisfied: typing-extensions>=4.10.0 in /usr/local/lib/python3.11/dist-packages (from torch>=2.0->ptflops) (4.13.2)\r\n",
      "Requirement already satisfied: networkx in /usr/local/lib/python3.11/dist-packages (from torch>=2.0->ptflops) (3.4.2)\r\n",
      "Requirement already satisfied: jinja2 in /usr/local/lib/python3.11/dist-packages (from torch>=2.0->ptflops) (3.1.6)\r\n",
      "Requirement already satisfied: fsspec in /usr/local/lib/python3.11/dist-packages (from torch>=2.0->ptflops) (2025.3.2)\r\n",
      "Requirement already satisfied: nvidia-cuda-nvrtc-cu12==12.4.127 in /usr/local/lib/python3.11/dist-packages (from torch>=2.0->ptflops) (12.4.127)\r\n",
      "Requirement already satisfied: nvidia-cuda-runtime-cu12==12.4.127 in /usr/local/lib/python3.11/dist-packages (from torch>=2.0->ptflops) (12.4.127)\r\n",
      "Requirement already satisfied: nvidia-cuda-cupti-cu12==12.4.127 in /usr/local/lib/python3.11/dist-packages (from torch>=2.0->ptflops) (12.4.127)\r\n",
      "Collecting nvidia-cudnn-cu12==9.1.0.70 (from torch>=2.0->ptflops)\r\n",
      "  Downloading nvidia_cudnn_cu12-9.1.0.70-py3-none-manylinux2014_x86_64.whl.metadata (1.6 kB)\r\n",
      "Collecting nvidia-cublas-cu12==12.4.5.8 (from torch>=2.0->ptflops)\r\n",
      "  Downloading nvidia_cublas_cu12-12.4.5.8-py3-none-manylinux2014_x86_64.whl.metadata (1.5 kB)\r\n",
      "Collecting nvidia-cufft-cu12==11.2.1.3 (from torch>=2.0->ptflops)\r\n",
      "  Downloading nvidia_cufft_cu12-11.2.1.3-py3-none-manylinux2014_x86_64.whl.metadata (1.5 kB)\r\n",
      "Collecting nvidia-curand-cu12==10.3.5.147 (from torch>=2.0->ptflops)\r\n",
      "  Downloading nvidia_curand_cu12-10.3.5.147-py3-none-manylinux2014_x86_64.whl.metadata (1.5 kB)\r\n",
      "Collecting nvidia-cusolver-cu12==11.6.1.9 (from torch>=2.0->ptflops)\r\n",
      "  Downloading nvidia_cusolver_cu12-11.6.1.9-py3-none-manylinux2014_x86_64.whl.metadata (1.6 kB)\r\n",
      "Collecting nvidia-cusparse-cu12==12.3.1.170 (from torch>=2.0->ptflops)\r\n",
      "  Downloading nvidia_cusparse_cu12-12.3.1.170-py3-none-manylinux2014_x86_64.whl.metadata (1.6 kB)\r\n",
      "Requirement already satisfied: nvidia-cusparselt-cu12==0.6.2 in /usr/local/lib/python3.11/dist-packages (from torch>=2.0->ptflops) (0.6.2)\r\n",
      "Requirement already satisfied: nvidia-nccl-cu12==2.21.5 in /usr/local/lib/python3.11/dist-packages (from torch>=2.0->ptflops) (2.21.5)\r\n",
      "Requirement already satisfied: nvidia-nvtx-cu12==12.4.127 in /usr/local/lib/python3.11/dist-packages (from torch>=2.0->ptflops) (12.4.127)\r\n",
      "Collecting nvidia-nvjitlink-cu12==12.4.127 (from torch>=2.0->ptflops)\r\n",
      "  Downloading nvidia_nvjitlink_cu12-12.4.127-py3-none-manylinux2014_x86_64.whl.metadata (1.5 kB)\r\n",
      "Requirement already satisfied: triton==3.2.0 in /usr/local/lib/python3.11/dist-packages (from torch>=2.0->ptflops) (3.2.0)\r\n",
      "Requirement already satisfied: sympy==1.13.1 in /usr/local/lib/python3.11/dist-packages (from torch>=2.0->ptflops) (1.13.1)\r\n",
      "Requirement already satisfied: mpmath<1.4,>=1.1.0 in /usr/local/lib/python3.11/dist-packages (from sympy==1.13.1->torch>=2.0->ptflops) (1.3.0)\r\n",
      "Requirement already satisfied: MarkupSafe>=2.0 in /usr/local/lib/python3.11/dist-packages (from jinja2->torch>=2.0->ptflops) (3.0.2)\r\n",
      "Downloading ptflops-0.7.4-py3-none-any.whl (19 kB)\r\n",
      "Downloading nvidia_cublas_cu12-12.4.5.8-py3-none-manylinux2014_x86_64.whl (363.4 MB)\r\n",
      "\u001b[2K   \u001b[90m━━━━━━━━━━━━━━━━━━━━━━━━━━━━━━━━━━━━━━━━\u001b[0m \u001b[32m363.4/363.4 MB\u001b[0m \u001b[31m3.9 MB/s\u001b[0m eta \u001b[36m0:00:00\u001b[0m\r\n",
      "\u001b[?25hDownloading nvidia_cudnn_cu12-9.1.0.70-py3-none-manylinux2014_x86_64.whl (664.8 MB)\r\n",
      "\u001b[2K   \u001b[90m━━━━━━━━━━━━━━━━━━━━━━━━━━━━━━━━━━━━━━━━\u001b[0m \u001b[32m664.8/664.8 MB\u001b[0m \u001b[31m2.1 MB/s\u001b[0m eta \u001b[36m0:00:00\u001b[0m\r\n",
      "\u001b[?25hDownloading nvidia_cufft_cu12-11.2.1.3-py3-none-manylinux2014_x86_64.whl (211.5 MB)\r\n",
      "\u001b[2K   \u001b[90m━━━━━━━━━━━━━━━━━━━━━━━━━━━━━━━━━━━━━━━━\u001b[0m \u001b[32m211.5/211.5 MB\u001b[0m \u001b[31m7.8 MB/s\u001b[0m eta \u001b[36m0:00:00\u001b[0m\r\n",
      "\u001b[?25hDownloading nvidia_curand_cu12-10.3.5.147-py3-none-manylinux2014_x86_64.whl (56.3 MB)\r\n",
      "\u001b[2K   \u001b[90m━━━━━━━━━━━━━━━━━━━━━━━━━━━━━━━━━━━━━━━━\u001b[0m \u001b[32m56.3/56.3 MB\u001b[0m \u001b[31m29.9 MB/s\u001b[0m eta \u001b[36m0:00:00\u001b[0m\r\n",
      "\u001b[?25hDownloading nvidia_cusolver_cu12-11.6.1.9-py3-none-manylinux2014_x86_64.whl (127.9 MB)\r\n",
      "\u001b[2K   \u001b[90m━━━━━━━━━━━━━━━━━━━━━━━━━━━━━━━━━━━━━━━━\u001b[0m \u001b[32m127.9/127.9 MB\u001b[0m \u001b[31m13.2 MB/s\u001b[0m eta \u001b[36m0:00:00\u001b[0m\r\n",
      "\u001b[?25hDownloading nvidia_cusparse_cu12-12.3.1.170-py3-none-manylinux2014_x86_64.whl (207.5 MB)\r\n",
      "\u001b[2K   \u001b[90m━━━━━━━━━━━━━━━━━━━━━━━━━━━━━━━━━━━━━━━━\u001b[0m \u001b[32m207.5/207.5 MB\u001b[0m \u001b[31m8.1 MB/s\u001b[0m eta \u001b[36m0:00:00\u001b[0m\r\n",
      "\u001b[?25hDownloading nvidia_nvjitlink_cu12-12.4.127-py3-none-manylinux2014_x86_64.whl (21.1 MB)\r\n",
      "\u001b[2K   \u001b[90m━━━━━━━━━━━━━━━━━━━━━━━━━━━━━━━━━━━━━━━━\u001b[0m \u001b[32m21.1/21.1 MB\u001b[0m \u001b[31m81.2 MB/s\u001b[0m eta \u001b[36m0:00:00\u001b[0m\r\n",
      "\u001b[?25hInstalling collected packages: nvidia-nvjitlink-cu12, nvidia-curand-cu12, nvidia-cufft-cu12, nvidia-cublas-cu12, nvidia-cusparse-cu12, nvidia-cudnn-cu12, nvidia-cusolver-cu12, ptflops\r\n",
      "  Attempting uninstall: nvidia-nvjitlink-cu12\r\n",
      "    Found existing installation: nvidia-nvjitlink-cu12 12.9.41\r\n",
      "    Uninstalling nvidia-nvjitlink-cu12-12.9.41:\r\n",
      "      Successfully uninstalled nvidia-nvjitlink-cu12-12.9.41\r\n",
      "  Attempting uninstall: nvidia-curand-cu12\r\n",
      "    Found existing installation: nvidia-curand-cu12 10.3.10.19\r\n",
      "    Uninstalling nvidia-curand-cu12-10.3.10.19:\r\n",
      "      Successfully uninstalled nvidia-curand-cu12-10.3.10.19\r\n",
      "  Attempting uninstall: nvidia-cufft-cu12\r\n",
      "    Found existing installation: nvidia-cufft-cu12 11.4.0.6\r\n",
      "    Uninstalling nvidia-cufft-cu12-11.4.0.6:\r\n",
      "      Successfully uninstalled nvidia-cufft-cu12-11.4.0.6\r\n",
      "  Attempting uninstall: nvidia-cublas-cu12\r\n",
      "    Found existing installation: nvidia-cublas-cu12 12.9.0.13\r\n",
      "    Uninstalling nvidia-cublas-cu12-12.9.0.13:\r\n",
      "      Successfully uninstalled nvidia-cublas-cu12-12.9.0.13\r\n",
      "  Attempting uninstall: nvidia-cusparse-cu12\r\n",
      "    Found existing installation: nvidia-cusparse-cu12 12.5.9.5\r\n",
      "    Uninstalling nvidia-cusparse-cu12-12.5.9.5:\r\n",
      "      Successfully uninstalled nvidia-cusparse-cu12-12.5.9.5\r\n",
      "  Attempting uninstall: nvidia-cudnn-cu12\r\n",
      "    Found existing installation: nvidia-cudnn-cu12 9.3.0.75\r\n",
      "    Uninstalling nvidia-cudnn-cu12-9.3.0.75:\r\n",
      "      Successfully uninstalled nvidia-cudnn-cu12-9.3.0.75\r\n",
      "  Attempting uninstall: nvidia-cusolver-cu12\r\n",
      "    Found existing installation: nvidia-cusolver-cu12 11.7.4.40\r\n",
      "    Uninstalling nvidia-cusolver-cu12-11.7.4.40:\r\n",
      "      Successfully uninstalled nvidia-cusolver-cu12-11.7.4.40\r\n",
      "Successfully installed nvidia-cublas-cu12-12.4.5.8 nvidia-cudnn-cu12-9.1.0.70 nvidia-cufft-cu12-11.2.1.3 nvidia-curand-cu12-10.3.5.147 nvidia-cusolver-cu12-11.6.1.9 nvidia-cusparse-cu12-12.3.1.170 nvidia-nvjitlink-cu12-12.4.127 ptflops-0.7.4\r\n"
     ]
    }
   ],
   "source": [
    "!pip install ptflops"
   ]
  },
  {
   "cell_type": "code",
   "execution_count": 2,
   "id": "eebcc5c9",
   "metadata": {
    "_cell_guid": "b1076dfc-b9ad-4769-8c92-a6c4dae69d19",
    "_uuid": "8f2839f25d086af736a60e9eeb907d3b93b6e0e5",
    "execution": {
     "iopub.execute_input": "2025-06-03T10:24:02.257779Z",
     "iopub.status.busy": "2025-06-03T10:24:02.257444Z",
     "iopub.status.idle": "2025-06-03T10:24:24.736850Z",
     "shell.execute_reply": "2025-06-03T10:24:24.736193Z"
    },
    "papermill": {
     "duration": 22.507175,
     "end_time": "2025-06-03T10:24:24.738300",
     "exception": false,
     "start_time": "2025-06-03T10:24:02.231125",
     "status": "completed"
    },
    "tags": []
   },
   "outputs": [],
   "source": [
    "import pandas as pd\n",
    "import numpy as np\n",
    "import torch\n",
    "import torchvision\n",
    "import torch.nn as nn\n",
    "from torchvision import datasets, transforms, models\n",
    "from torch.utils.data import Dataset, DataLoader\n",
    "import matplotlib.pyplot as plt\n",
    "from torchvision.io import read_image\n",
    "from PIL import Image\n",
    "import copy\n",
    "import time\n",
    "import os\n",
    "from sklearn.preprocessing import LabelEncoder\n",
    "from sklearn.metrics import classification_report, accuracy_score, f1_score, precision_score, recall_score, confusion_matrix\n",
    "from tqdm import tqdm\n",
    "import seaborn as sns\n",
    "from ptflops import get_model_complexity_info"
   ]
  },
  {
   "cell_type": "code",
   "execution_count": 3,
   "id": "374ee54a",
   "metadata": {
    "execution": {
     "iopub.execute_input": "2025-06-03T10:24:24.780672Z",
     "iopub.status.busy": "2025-06-03T10:24:24.779886Z",
     "iopub.status.idle": "2025-06-03T10:24:24.783567Z",
     "shell.execute_reply": "2025-06-03T10:24:24.782994Z"
    },
    "papermill": {
     "duration": 0.026149,
     "end_time": "2025-06-03T10:24:24.784777",
     "exception": false,
     "start_time": "2025-06-03T10:24:24.758628",
     "status": "completed"
    },
    "tags": []
   },
   "outputs": [],
   "source": [
    "LEARNING_RATE = 1e-4\n",
    "BATCH_SIZE = 32\n",
    "EPOCHS = 100\n",
    "model_name = \"MobileNetV2\""
   ]
  },
  {
   "cell_type": "code",
   "execution_count": 4,
   "id": "2507f6cd",
   "metadata": {
    "execution": {
     "iopub.execute_input": "2025-06-03T10:24:24.825386Z",
     "iopub.status.busy": "2025-06-03T10:24:24.825142Z",
     "iopub.status.idle": "2025-06-03T10:24:24.829068Z",
     "shell.execute_reply": "2025-06-03T10:24:24.828569Z"
    },
    "papermill": {
     "duration": 0.025292,
     "end_time": "2025-06-03T10:24:24.830135",
     "exception": false,
     "start_time": "2025-06-03T10:24:24.804843",
     "status": "completed"
    },
    "tags": []
   },
   "outputs": [],
   "source": [
    "path = r\"/kaggle/working/\" + f\"result_{model_name}\"\n",
    "if not os.path.exists(path):\n",
    "    os.mkdir(path)"
   ]
  },
  {
   "cell_type": "code",
   "execution_count": 5,
   "id": "c3db232f",
   "metadata": {
    "execution": {
     "iopub.execute_input": "2025-06-03T10:24:24.871410Z",
     "iopub.status.busy": "2025-06-03T10:24:24.870841Z",
     "iopub.status.idle": "2025-06-03T10:24:29.952208Z",
     "shell.execute_reply": "2025-06-03T10:24:29.951353Z"
    },
    "papermill": {
     "duration": 5.103028,
     "end_time": "2025-06-03T10:24:29.953392",
     "exception": false,
     "start_time": "2025-06-03T10:24:24.850364",
     "status": "completed"
    },
    "tags": []
   },
   "outputs": [
    {
     "name": "stdout",
     "output_type": "stream",
     "text": [
      "Classes: ['Leaf_Algal', 'Leaf_Blight', 'Leaf_Colletotrichum', 'Leaf_Healthy', 'Leaf_Phomopsis', 'Leaf_Rhizoctonia']\n",
      "Số lượng ảnh trong tập train: 1814\n",
      "Số lượng ảnh trong tập val: 1814\n",
      "Số lượng ảnh trong tập test: 394\n"
     ]
    }
   ],
   "source": [
    "train_path = r\"/kaggle/input/durian-dataset/A Durian Leaf/A Durian Leaf/A_Durian_Leaf_Image_Dataset/Durian_Leaf_Diseases/train\"\n",
    "val_path = r\"/kaggle/input/durian-dataset/A Durian Leaf/A Durian Leaf/A_Durian_Leaf_Image_Dataset/Durian_Leaf_Diseases/train\"\n",
    "test_path = r\"/kaggle/input/durian-dataset/A Durian Leaf/A Durian Leaf/A_Durian_Leaf_Image_Dataset/Durian_Leaf_Diseases/test\"\n",
    "\n",
    "mean=[0.485, 0.456, 0.406]\n",
    "std=[0.229, 0.224, 0.225]\n",
    "\n",
    "data_transform = {\n",
    "    \"Train\": transforms.Compose([\n",
    "        transforms.Resize((224, 224), interpolation=transforms.InterpolationMode.LANCZOS),\n",
    "        transforms.RandomHorizontalFlip(p=0.5),\n",
    "        transforms.RandomVerticalFlip(p=0.5),\n",
    "        transforms.RandomRotation(30),\n",
    "        transforms.ToTensor(),\n",
    "        transforms.Normalize(mean, std)\n",
    "    ]),\n",
    "    \n",
    "    \"Validation\": transforms.Compose([\n",
    "        transforms.Resize((224, 224), interpolation=transforms.InterpolationMode.LANCZOS),\n",
    "        transforms.ToTensor(),\n",
    "        transforms.Normalize(mean, std)\n",
    "    ]),\n",
    "    \n",
    "    \"Test\": transforms.Compose([\n",
    "        transforms.Resize((224, 224), interpolation=transforms.InterpolationMode.LANCZOS),\n",
    "        transforms.ToTensor(),\n",
    "        transforms.Normalize(mean, std)\n",
    "    ]),\n",
    "}\n",
    "\n",
    "train_dataset = datasets.ImageFolder(root=train_path, transform=data_transform[\"Train\"])\n",
    "val_dataset   = datasets.ImageFolder(root=val_path, transform=data_transform[\"Validation\"])\n",
    "test_dataset  = datasets.ImageFolder(root=test_path, transform=data_transform[\"Test\"])\n",
    "\n",
    "print(\"Classes:\", train_dataset.classes)\n",
    "\n",
    "print(f\"Số lượng ảnh trong tập train: {len(train_dataset)}\")\n",
    "print(f\"Số lượng ảnh trong tập val: {len(val_dataset)}\")\n",
    "print(f\"Số lượng ảnh trong tập test: {len(test_dataset)}\")"
   ]
  },
  {
   "cell_type": "code",
   "execution_count": 6,
   "id": "e8d7e62e",
   "metadata": {
    "execution": {
     "iopub.execute_input": "2025-06-03T10:24:29.996478Z",
     "iopub.status.busy": "2025-06-03T10:24:29.996230Z",
     "iopub.status.idle": "2025-06-03T10:24:30.000638Z",
     "shell.execute_reply": "2025-06-03T10:24:29.999928Z"
    },
    "papermill": {
     "duration": 0.027256,
     "end_time": "2025-06-03T10:24:30.001690",
     "exception": false,
     "start_time": "2025-06-03T10:24:29.974434",
     "status": "completed"
    },
    "tags": []
   },
   "outputs": [],
   "source": [
    "train_loader = DataLoader(train_dataset, batch_size=BATCH_SIZE, shuffle=True)\n",
    "\n",
    "val_loader   = DataLoader(val_dataset, batch_size=BATCH_SIZE, shuffle=False)\n",
    "\n",
    "test_loader  = DataLoader(test_dataset, batch_size=BATCH_SIZE, shuffle=False)\n",
    "\n",
    "data_loader = {\"Train\": train_loader,\n",
    "               \n",
    "              \"Validation\": val_loader}"
   ]
  },
  {
   "cell_type": "code",
   "execution_count": 7,
   "id": "cccabf36",
   "metadata": {
    "execution": {
     "iopub.execute_input": "2025-06-03T10:24:30.042369Z",
     "iopub.status.busy": "2025-06-03T10:24:30.042153Z",
     "iopub.status.idle": "2025-06-03T10:24:30.133987Z",
     "shell.execute_reply": "2025-06-03T10:24:30.133190Z"
    },
    "papermill": {
     "duration": 0.113436,
     "end_time": "2025-06-03T10:24:30.135209",
     "exception": false,
     "start_time": "2025-06-03T10:24:30.021773",
     "status": "completed"
    },
    "tags": []
   },
   "outputs": [
    {
     "data": {
      "text/plain": [
       "device(type='cuda')"
      ]
     },
     "execution_count": 7,
     "metadata": {},
     "output_type": "execute_result"
    }
   ],
   "source": [
    "device = torch.device(\"cuda\" if torch.cuda.is_available() else \"cpu\")\n",
    "device"
   ]
  },
  {
   "cell_type": "code",
   "execution_count": 8,
   "id": "6762cd08",
   "metadata": {
    "execution": {
     "iopub.execute_input": "2025-06-03T10:24:30.224242Z",
     "iopub.status.busy": "2025-06-03T10:24:30.223757Z",
     "iopub.status.idle": "2025-06-03T10:24:30.583885Z",
     "shell.execute_reply": "2025-06-03T10:24:30.583138Z"
    },
    "papermill": {
     "duration": 0.382478,
     "end_time": "2025-06-03T10:24:30.585219",
     "exception": false,
     "start_time": "2025-06-03T10:24:30.202741",
     "status": "completed"
    },
    "tags": []
   },
   "outputs": [
    {
     "name": "stderr",
     "output_type": "stream",
     "text": [
      "Downloading: \"https://download.pytorch.org/models/mobilenet_v2-b0353104.pth\" to /root/.cache/torch/hub/checkpoints/mobilenet_v2-b0353104.pth\n",
      "100%|██████████| 13.6M/13.6M [00:00<00:00, 120MB/s]\n"
     ]
    },
    {
     "data": {
      "text/plain": [
       "MobileNetV2(\n",
       "  (features): Sequential(\n",
       "    (0): Conv2dNormActivation(\n",
       "      (0): Conv2d(3, 32, kernel_size=(3, 3), stride=(2, 2), padding=(1, 1), bias=False)\n",
       "      (1): BatchNorm2d(32, eps=1e-05, momentum=0.1, affine=True, track_running_stats=True)\n",
       "      (2): ReLU6(inplace=True)\n",
       "    )\n",
       "    (1): InvertedResidual(\n",
       "      (conv): Sequential(\n",
       "        (0): Conv2dNormActivation(\n",
       "          (0): Conv2d(32, 32, kernel_size=(3, 3), stride=(1, 1), padding=(1, 1), groups=32, bias=False)\n",
       "          (1): BatchNorm2d(32, eps=1e-05, momentum=0.1, affine=True, track_running_stats=True)\n",
       "          (2): ReLU6(inplace=True)\n",
       "        )\n",
       "        (1): Conv2d(32, 16, kernel_size=(1, 1), stride=(1, 1), bias=False)\n",
       "        (2): BatchNorm2d(16, eps=1e-05, momentum=0.1, affine=True, track_running_stats=True)\n",
       "      )\n",
       "    )\n",
       "    (2): InvertedResidual(\n",
       "      (conv): Sequential(\n",
       "        (0): Conv2dNormActivation(\n",
       "          (0): Conv2d(16, 96, kernel_size=(1, 1), stride=(1, 1), bias=False)\n",
       "          (1): BatchNorm2d(96, eps=1e-05, momentum=0.1, affine=True, track_running_stats=True)\n",
       "          (2): ReLU6(inplace=True)\n",
       "        )\n",
       "        (1): Conv2dNormActivation(\n",
       "          (0): Conv2d(96, 96, kernel_size=(3, 3), stride=(2, 2), padding=(1, 1), groups=96, bias=False)\n",
       "          (1): BatchNorm2d(96, eps=1e-05, momentum=0.1, affine=True, track_running_stats=True)\n",
       "          (2): ReLU6(inplace=True)\n",
       "        )\n",
       "        (2): Conv2d(96, 24, kernel_size=(1, 1), stride=(1, 1), bias=False)\n",
       "        (3): BatchNorm2d(24, eps=1e-05, momentum=0.1, affine=True, track_running_stats=True)\n",
       "      )\n",
       "    )\n",
       "    (3): InvertedResidual(\n",
       "      (conv): Sequential(\n",
       "        (0): Conv2dNormActivation(\n",
       "          (0): Conv2d(24, 144, kernel_size=(1, 1), stride=(1, 1), bias=False)\n",
       "          (1): BatchNorm2d(144, eps=1e-05, momentum=0.1, affine=True, track_running_stats=True)\n",
       "          (2): ReLU6(inplace=True)\n",
       "        )\n",
       "        (1): Conv2dNormActivation(\n",
       "          (0): Conv2d(144, 144, kernel_size=(3, 3), stride=(1, 1), padding=(1, 1), groups=144, bias=False)\n",
       "          (1): BatchNorm2d(144, eps=1e-05, momentum=0.1, affine=True, track_running_stats=True)\n",
       "          (2): ReLU6(inplace=True)\n",
       "        )\n",
       "        (2): Conv2d(144, 24, kernel_size=(1, 1), stride=(1, 1), bias=False)\n",
       "        (3): BatchNorm2d(24, eps=1e-05, momentum=0.1, affine=True, track_running_stats=True)\n",
       "      )\n",
       "    )\n",
       "    (4): InvertedResidual(\n",
       "      (conv): Sequential(\n",
       "        (0): Conv2dNormActivation(\n",
       "          (0): Conv2d(24, 144, kernel_size=(1, 1), stride=(1, 1), bias=False)\n",
       "          (1): BatchNorm2d(144, eps=1e-05, momentum=0.1, affine=True, track_running_stats=True)\n",
       "          (2): ReLU6(inplace=True)\n",
       "        )\n",
       "        (1): Conv2dNormActivation(\n",
       "          (0): Conv2d(144, 144, kernel_size=(3, 3), stride=(2, 2), padding=(1, 1), groups=144, bias=False)\n",
       "          (1): BatchNorm2d(144, eps=1e-05, momentum=0.1, affine=True, track_running_stats=True)\n",
       "          (2): ReLU6(inplace=True)\n",
       "        )\n",
       "        (2): Conv2d(144, 32, kernel_size=(1, 1), stride=(1, 1), bias=False)\n",
       "        (3): BatchNorm2d(32, eps=1e-05, momentum=0.1, affine=True, track_running_stats=True)\n",
       "      )\n",
       "    )\n",
       "    (5): InvertedResidual(\n",
       "      (conv): Sequential(\n",
       "        (0): Conv2dNormActivation(\n",
       "          (0): Conv2d(32, 192, kernel_size=(1, 1), stride=(1, 1), bias=False)\n",
       "          (1): BatchNorm2d(192, eps=1e-05, momentum=0.1, affine=True, track_running_stats=True)\n",
       "          (2): ReLU6(inplace=True)\n",
       "        )\n",
       "        (1): Conv2dNormActivation(\n",
       "          (0): Conv2d(192, 192, kernel_size=(3, 3), stride=(1, 1), padding=(1, 1), groups=192, bias=False)\n",
       "          (1): BatchNorm2d(192, eps=1e-05, momentum=0.1, affine=True, track_running_stats=True)\n",
       "          (2): ReLU6(inplace=True)\n",
       "        )\n",
       "        (2): Conv2d(192, 32, kernel_size=(1, 1), stride=(1, 1), bias=False)\n",
       "        (3): BatchNorm2d(32, eps=1e-05, momentum=0.1, affine=True, track_running_stats=True)\n",
       "      )\n",
       "    )\n",
       "    (6): InvertedResidual(\n",
       "      (conv): Sequential(\n",
       "        (0): Conv2dNormActivation(\n",
       "          (0): Conv2d(32, 192, kernel_size=(1, 1), stride=(1, 1), bias=False)\n",
       "          (1): BatchNorm2d(192, eps=1e-05, momentum=0.1, affine=True, track_running_stats=True)\n",
       "          (2): ReLU6(inplace=True)\n",
       "        )\n",
       "        (1): Conv2dNormActivation(\n",
       "          (0): Conv2d(192, 192, kernel_size=(3, 3), stride=(1, 1), padding=(1, 1), groups=192, bias=False)\n",
       "          (1): BatchNorm2d(192, eps=1e-05, momentum=0.1, affine=True, track_running_stats=True)\n",
       "          (2): ReLU6(inplace=True)\n",
       "        )\n",
       "        (2): Conv2d(192, 32, kernel_size=(1, 1), stride=(1, 1), bias=False)\n",
       "        (3): BatchNorm2d(32, eps=1e-05, momentum=0.1, affine=True, track_running_stats=True)\n",
       "      )\n",
       "    )\n",
       "    (7): InvertedResidual(\n",
       "      (conv): Sequential(\n",
       "        (0): Conv2dNormActivation(\n",
       "          (0): Conv2d(32, 192, kernel_size=(1, 1), stride=(1, 1), bias=False)\n",
       "          (1): BatchNorm2d(192, eps=1e-05, momentum=0.1, affine=True, track_running_stats=True)\n",
       "          (2): ReLU6(inplace=True)\n",
       "        )\n",
       "        (1): Conv2dNormActivation(\n",
       "          (0): Conv2d(192, 192, kernel_size=(3, 3), stride=(2, 2), padding=(1, 1), groups=192, bias=False)\n",
       "          (1): BatchNorm2d(192, eps=1e-05, momentum=0.1, affine=True, track_running_stats=True)\n",
       "          (2): ReLU6(inplace=True)\n",
       "        )\n",
       "        (2): Conv2d(192, 64, kernel_size=(1, 1), stride=(1, 1), bias=False)\n",
       "        (3): BatchNorm2d(64, eps=1e-05, momentum=0.1, affine=True, track_running_stats=True)\n",
       "      )\n",
       "    )\n",
       "    (8): InvertedResidual(\n",
       "      (conv): Sequential(\n",
       "        (0): Conv2dNormActivation(\n",
       "          (0): Conv2d(64, 384, kernel_size=(1, 1), stride=(1, 1), bias=False)\n",
       "          (1): BatchNorm2d(384, eps=1e-05, momentum=0.1, affine=True, track_running_stats=True)\n",
       "          (2): ReLU6(inplace=True)\n",
       "        )\n",
       "        (1): Conv2dNormActivation(\n",
       "          (0): Conv2d(384, 384, kernel_size=(3, 3), stride=(1, 1), padding=(1, 1), groups=384, bias=False)\n",
       "          (1): BatchNorm2d(384, eps=1e-05, momentum=0.1, affine=True, track_running_stats=True)\n",
       "          (2): ReLU6(inplace=True)\n",
       "        )\n",
       "        (2): Conv2d(384, 64, kernel_size=(1, 1), stride=(1, 1), bias=False)\n",
       "        (3): BatchNorm2d(64, eps=1e-05, momentum=0.1, affine=True, track_running_stats=True)\n",
       "      )\n",
       "    )\n",
       "    (9): InvertedResidual(\n",
       "      (conv): Sequential(\n",
       "        (0): Conv2dNormActivation(\n",
       "          (0): Conv2d(64, 384, kernel_size=(1, 1), stride=(1, 1), bias=False)\n",
       "          (1): BatchNorm2d(384, eps=1e-05, momentum=0.1, affine=True, track_running_stats=True)\n",
       "          (2): ReLU6(inplace=True)\n",
       "        )\n",
       "        (1): Conv2dNormActivation(\n",
       "          (0): Conv2d(384, 384, kernel_size=(3, 3), stride=(1, 1), padding=(1, 1), groups=384, bias=False)\n",
       "          (1): BatchNorm2d(384, eps=1e-05, momentum=0.1, affine=True, track_running_stats=True)\n",
       "          (2): ReLU6(inplace=True)\n",
       "        )\n",
       "        (2): Conv2d(384, 64, kernel_size=(1, 1), stride=(1, 1), bias=False)\n",
       "        (3): BatchNorm2d(64, eps=1e-05, momentum=0.1, affine=True, track_running_stats=True)\n",
       "      )\n",
       "    )\n",
       "    (10): InvertedResidual(\n",
       "      (conv): Sequential(\n",
       "        (0): Conv2dNormActivation(\n",
       "          (0): Conv2d(64, 384, kernel_size=(1, 1), stride=(1, 1), bias=False)\n",
       "          (1): BatchNorm2d(384, eps=1e-05, momentum=0.1, affine=True, track_running_stats=True)\n",
       "          (2): ReLU6(inplace=True)\n",
       "        )\n",
       "        (1): Conv2dNormActivation(\n",
       "          (0): Conv2d(384, 384, kernel_size=(3, 3), stride=(1, 1), padding=(1, 1), groups=384, bias=False)\n",
       "          (1): BatchNorm2d(384, eps=1e-05, momentum=0.1, affine=True, track_running_stats=True)\n",
       "          (2): ReLU6(inplace=True)\n",
       "        )\n",
       "        (2): Conv2d(384, 64, kernel_size=(1, 1), stride=(1, 1), bias=False)\n",
       "        (3): BatchNorm2d(64, eps=1e-05, momentum=0.1, affine=True, track_running_stats=True)\n",
       "      )\n",
       "    )\n",
       "    (11): InvertedResidual(\n",
       "      (conv): Sequential(\n",
       "        (0): Conv2dNormActivation(\n",
       "          (0): Conv2d(64, 384, kernel_size=(1, 1), stride=(1, 1), bias=False)\n",
       "          (1): BatchNorm2d(384, eps=1e-05, momentum=0.1, affine=True, track_running_stats=True)\n",
       "          (2): ReLU6(inplace=True)\n",
       "        )\n",
       "        (1): Conv2dNormActivation(\n",
       "          (0): Conv2d(384, 384, kernel_size=(3, 3), stride=(1, 1), padding=(1, 1), groups=384, bias=False)\n",
       "          (1): BatchNorm2d(384, eps=1e-05, momentum=0.1, affine=True, track_running_stats=True)\n",
       "          (2): ReLU6(inplace=True)\n",
       "        )\n",
       "        (2): Conv2d(384, 96, kernel_size=(1, 1), stride=(1, 1), bias=False)\n",
       "        (3): BatchNorm2d(96, eps=1e-05, momentum=0.1, affine=True, track_running_stats=True)\n",
       "      )\n",
       "    )\n",
       "    (12): InvertedResidual(\n",
       "      (conv): Sequential(\n",
       "        (0): Conv2dNormActivation(\n",
       "          (0): Conv2d(96, 576, kernel_size=(1, 1), stride=(1, 1), bias=False)\n",
       "          (1): BatchNorm2d(576, eps=1e-05, momentum=0.1, affine=True, track_running_stats=True)\n",
       "          (2): ReLU6(inplace=True)\n",
       "        )\n",
       "        (1): Conv2dNormActivation(\n",
       "          (0): Conv2d(576, 576, kernel_size=(3, 3), stride=(1, 1), padding=(1, 1), groups=576, bias=False)\n",
       "          (1): BatchNorm2d(576, eps=1e-05, momentum=0.1, affine=True, track_running_stats=True)\n",
       "          (2): ReLU6(inplace=True)\n",
       "        )\n",
       "        (2): Conv2d(576, 96, kernel_size=(1, 1), stride=(1, 1), bias=False)\n",
       "        (3): BatchNorm2d(96, eps=1e-05, momentum=0.1, affine=True, track_running_stats=True)\n",
       "      )\n",
       "    )\n",
       "    (13): InvertedResidual(\n",
       "      (conv): Sequential(\n",
       "        (0): Conv2dNormActivation(\n",
       "          (0): Conv2d(96, 576, kernel_size=(1, 1), stride=(1, 1), bias=False)\n",
       "          (1): BatchNorm2d(576, eps=1e-05, momentum=0.1, affine=True, track_running_stats=True)\n",
       "          (2): ReLU6(inplace=True)\n",
       "        )\n",
       "        (1): Conv2dNormActivation(\n",
       "          (0): Conv2d(576, 576, kernel_size=(3, 3), stride=(1, 1), padding=(1, 1), groups=576, bias=False)\n",
       "          (1): BatchNorm2d(576, eps=1e-05, momentum=0.1, affine=True, track_running_stats=True)\n",
       "          (2): ReLU6(inplace=True)\n",
       "        )\n",
       "        (2): Conv2d(576, 96, kernel_size=(1, 1), stride=(1, 1), bias=False)\n",
       "        (3): BatchNorm2d(96, eps=1e-05, momentum=0.1, affine=True, track_running_stats=True)\n",
       "      )\n",
       "    )\n",
       "    (14): InvertedResidual(\n",
       "      (conv): Sequential(\n",
       "        (0): Conv2dNormActivation(\n",
       "          (0): Conv2d(96, 576, kernel_size=(1, 1), stride=(1, 1), bias=False)\n",
       "          (1): BatchNorm2d(576, eps=1e-05, momentum=0.1, affine=True, track_running_stats=True)\n",
       "          (2): ReLU6(inplace=True)\n",
       "        )\n",
       "        (1): Conv2dNormActivation(\n",
       "          (0): Conv2d(576, 576, kernel_size=(3, 3), stride=(2, 2), padding=(1, 1), groups=576, bias=False)\n",
       "          (1): BatchNorm2d(576, eps=1e-05, momentum=0.1, affine=True, track_running_stats=True)\n",
       "          (2): ReLU6(inplace=True)\n",
       "        )\n",
       "        (2): Conv2d(576, 160, kernel_size=(1, 1), stride=(1, 1), bias=False)\n",
       "        (3): BatchNorm2d(160, eps=1e-05, momentum=0.1, affine=True, track_running_stats=True)\n",
       "      )\n",
       "    )\n",
       "    (15): InvertedResidual(\n",
       "      (conv): Sequential(\n",
       "        (0): Conv2dNormActivation(\n",
       "          (0): Conv2d(160, 960, kernel_size=(1, 1), stride=(1, 1), bias=False)\n",
       "          (1): BatchNorm2d(960, eps=1e-05, momentum=0.1, affine=True, track_running_stats=True)\n",
       "          (2): ReLU6(inplace=True)\n",
       "        )\n",
       "        (1): Conv2dNormActivation(\n",
       "          (0): Conv2d(960, 960, kernel_size=(3, 3), stride=(1, 1), padding=(1, 1), groups=960, bias=False)\n",
       "          (1): BatchNorm2d(960, eps=1e-05, momentum=0.1, affine=True, track_running_stats=True)\n",
       "          (2): ReLU6(inplace=True)\n",
       "        )\n",
       "        (2): Conv2d(960, 160, kernel_size=(1, 1), stride=(1, 1), bias=False)\n",
       "        (3): BatchNorm2d(160, eps=1e-05, momentum=0.1, affine=True, track_running_stats=True)\n",
       "      )\n",
       "    )\n",
       "    (16): InvertedResidual(\n",
       "      (conv): Sequential(\n",
       "        (0): Conv2dNormActivation(\n",
       "          (0): Conv2d(160, 960, kernel_size=(1, 1), stride=(1, 1), bias=False)\n",
       "          (1): BatchNorm2d(960, eps=1e-05, momentum=0.1, affine=True, track_running_stats=True)\n",
       "          (2): ReLU6(inplace=True)\n",
       "        )\n",
       "        (1): Conv2dNormActivation(\n",
       "          (0): Conv2d(960, 960, kernel_size=(3, 3), stride=(1, 1), padding=(1, 1), groups=960, bias=False)\n",
       "          (1): BatchNorm2d(960, eps=1e-05, momentum=0.1, affine=True, track_running_stats=True)\n",
       "          (2): ReLU6(inplace=True)\n",
       "        )\n",
       "        (2): Conv2d(960, 160, kernel_size=(1, 1), stride=(1, 1), bias=False)\n",
       "        (3): BatchNorm2d(160, eps=1e-05, momentum=0.1, affine=True, track_running_stats=True)\n",
       "      )\n",
       "    )\n",
       "    (17): InvertedResidual(\n",
       "      (conv): Sequential(\n",
       "        (0): Conv2dNormActivation(\n",
       "          (0): Conv2d(160, 960, kernel_size=(1, 1), stride=(1, 1), bias=False)\n",
       "          (1): BatchNorm2d(960, eps=1e-05, momentum=0.1, affine=True, track_running_stats=True)\n",
       "          (2): ReLU6(inplace=True)\n",
       "        )\n",
       "        (1): Conv2dNormActivation(\n",
       "          (0): Conv2d(960, 960, kernel_size=(3, 3), stride=(1, 1), padding=(1, 1), groups=960, bias=False)\n",
       "          (1): BatchNorm2d(960, eps=1e-05, momentum=0.1, affine=True, track_running_stats=True)\n",
       "          (2): ReLU6(inplace=True)\n",
       "        )\n",
       "        (2): Conv2d(960, 320, kernel_size=(1, 1), stride=(1, 1), bias=False)\n",
       "        (3): BatchNorm2d(320, eps=1e-05, momentum=0.1, affine=True, track_running_stats=True)\n",
       "      )\n",
       "    )\n",
       "    (18): Conv2dNormActivation(\n",
       "      (0): Conv2d(320, 1280, kernel_size=(1, 1), stride=(1, 1), bias=False)\n",
       "      (1): BatchNorm2d(1280, eps=1e-05, momentum=0.1, affine=True, track_running_stats=True)\n",
       "      (2): ReLU6(inplace=True)\n",
       "    )\n",
       "  )\n",
       "  (classifier): Sequential(\n",
       "    (0): Dropout(p=0.2, inplace=False)\n",
       "    (1): Linear(in_features=1280, out_features=6, bias=True)\n",
       "  )\n",
       ")"
      ]
     },
     "execution_count": 8,
     "metadata": {},
     "output_type": "execute_result"
    }
   ],
   "source": [
    "model = models.mobilenet_v2(weights=models.MobileNet_V2_Weights.IMAGENET1K_V1)\n",
    "num_features = model.classifier[1].in_features\n",
    "model.classifier[1] = nn.Linear(num_features, 6)\n",
    "\n",
    "criterion = nn.CrossEntropyLoss()\n",
    "optimizer = torch.optim.Adam(model.parameters(), lr=LEARNING_RATE)\n",
    "\n",
    "model"
   ]
  },
  {
   "cell_type": "code",
   "execution_count": 9,
   "id": "8199e98c",
   "metadata": {
    "execution": {
     "iopub.execute_input": "2025-06-03T10:24:30.629911Z",
     "iopub.status.busy": "2025-06-03T10:24:30.629660Z",
     "iopub.status.idle": "2025-06-03T10:24:30.639639Z",
     "shell.execute_reply": "2025-06-03T10:24:30.638862Z"
    },
    "papermill": {
     "duration": 0.033463,
     "end_time": "2025-06-03T10:24:30.640878",
     "exception": false,
     "start_time": "2025-06-03T10:24:30.607415",
     "status": "completed"
    },
    "tags": []
   },
   "outputs": [],
   "source": [
    "def train_model(data_loader, model, criterion, optimizer, num_epochs, device, early_stop=True, patience=10):\n",
    "    model = model.to(device)\n",
    "    \n",
    "    model = torch.nn.DataParallel(model)\n",
    "    \n",
    "    since= time.time()\n",
    "\n",
    "    best_model_wts = copy.deepcopy(model.state_dict())\n",
    "    \n",
    "    best_val_acc = 0.0\n",
    "    best_epoch = 0\n",
    "    wait = 0\n",
    "    \n",
    "    history = {'Train_Loss': [], 'Train_Acc': [], 'Validation_Loss': [], 'Validation_Acc': [], 'Time': []}\n",
    "    \n",
    "    result_current = {\"Train_Loss\": None,\n",
    "                     \"Train_Acc\": None,\n",
    "                     \"Validation_Loss\": None,\n",
    "                     \"Validation_Acc\": None}\n",
    "    \n",
    "    for epoch in range(num_epochs):\n",
    "        \n",
    "        print(\"-----------------------------------------------------------------------\")\n",
    "        print(f\"Epoch {epoch+1}/{num_epochs}\")\n",
    "        epoch_start = time.time()\n",
    "        \n",
    "        for phase in [\"Train\", \"Validation\"]:\n",
    "            if phase == \"Train\":\n",
    "                model.train()\n",
    "            else:\n",
    "                model.eval()\n",
    "\n",
    "            running_loss, running_correct = 0.0, 0\n",
    "            total_samples = 0\n",
    "            \n",
    "            for images, labels in tqdm(data_loader[phase], desc=\"Training And Evaluation\"):\n",
    "                images = images.to(device)\n",
    "                labels = labels.to(device)\n",
    "                \n",
    "                with torch.set_grad_enabled(phase==\"Train\"):\n",
    "                    outputs = model(images)\n",
    "                    _, predicts = torch.max(outputs, dim=1)\n",
    "                    loss = criterion(outputs, labels)\n",
    "                    \n",
    "                    if phase == \"Train\":\n",
    "                        optimizer.zero_grad()\n",
    "                        loss.backward()\n",
    "                        optimizer.step()\n",
    "                        \n",
    "                running_loss += loss.item() * images.size(0)\n",
    "                running_correct += torch.sum(predicts == labels).item()\n",
    "                total_samples += images.size(0)\n",
    "                \n",
    "            epoch_loss = running_loss / total_samples\n",
    "            epoch_acc = running_correct / total_samples\n",
    "\n",
    "            result_current[f\"{phase}_Loss\"] = epoch_loss\n",
    "            result_current[f\"{phase}_Acc\"] = epoch_acc\n",
    "            \n",
    "            history[f\"{phase}_Loss\"].append(epoch_loss)\n",
    "            history[f\"{phase}_Acc\"].append(epoch_acc)\n",
    "\n",
    "            if phase == \"Validation\":\n",
    "                if epoch_acc > best_val_acc:\n",
    "                    best_val_acc = epoch_acc\n",
    "                    best_model_wts = copy.deepcopy(model.state_dict())\n",
    "                    best_epoch = epoch\n",
    "                    wait = 0\n",
    "                else:\n",
    "                    wait += 1\n",
    "                \n",
    "        epoch_duration = time.time() - epoch_start\n",
    "        history[\"Time\"].append(epoch_duration)\n",
    "        print(f\"Train Loss: {result_current['Train_Loss']:.4f}, Train Acc: {result_current['Train_Acc']:.4f}\")\n",
    "        print(f\"Valid Loss: {result_current['Validation_Loss']:.4f}, Valid Acc: {result_current['Validation_Acc']:.4f}\")\n",
    "        print(f\"Epoch {epoch+1} finished in {epoch_duration:.2f}s\")\n",
    "\n",
    "        if early_stop and wait >= patience:\n",
    "            print(f\"Early stopping at epoch {epoch+1} (no improvement in {patience} epochs).\")\n",
    "            break\n",
    "    \n",
    "    print(\"-----------------------------------------------------------------------\")\n",
    "    time_elapse = time.time() - since\n",
    "    print(f\"Training Complete In {time_elapse}s\")\n",
    "    \n",
    "    model.load_state_dict(best_model_wts)\n",
    "\n",
    "    return model, pd.DataFrame(history), time_elapse, best_val_acc, best_epoch"
   ]
  },
  {
   "cell_type": "code",
   "execution_count": 10,
   "id": "5f807e32",
   "metadata": {
    "execution": {
     "iopub.execute_input": "2025-06-03T10:24:30.683471Z",
     "iopub.status.busy": "2025-06-03T10:24:30.683271Z",
     "iopub.status.idle": "2025-06-03T10:44:06.295497Z",
     "shell.execute_reply": "2025-06-03T10:44:06.294588Z"
    },
    "papermill": {
     "duration": 1175.635138,
     "end_time": "2025-06-03T10:44:06.296888",
     "exception": false,
     "start_time": "2025-06-03T10:24:30.661750",
     "status": "completed"
    },
    "tags": []
   },
   "outputs": [
    {
     "name": "stdout",
     "output_type": "stream",
     "text": [
      "-----------------------------------------------------------------------\n",
      "Epoch 1/100\n"
     ]
    },
    {
     "name": "stderr",
     "output_type": "stream",
     "text": [
      "Training And Evaluation: 100%|██████████| 57/57 [00:30<00:00,  1.85it/s]\n",
      "Training And Evaluation: 100%|██████████| 57/57 [00:16<00:00,  3.47it/s]\n"
     ]
    },
    {
     "name": "stdout",
     "output_type": "stream",
     "text": [
      "Train Loss: 0.8421, Train Acc: 0.7343\n",
      "Valid Loss: 0.2432, Valid Acc: 0.9234\n",
      "Epoch 1 finished in 47.21s\n",
      "-----------------------------------------------------------------------\n",
      "Epoch 2/100\n"
     ]
    },
    {
     "name": "stderr",
     "output_type": "stream",
     "text": [
      "Training And Evaluation: 100%|██████████| 57/57 [00:20<00:00,  2.77it/s]\n",
      "Training And Evaluation: 100%|██████████| 57/57 [00:15<00:00,  3.58it/s]\n"
     ]
    },
    {
     "name": "stdout",
     "output_type": "stream",
     "text": [
      "Train Loss: 0.3075, Train Acc: 0.9052\n",
      "Valid Loss: 0.1452, Valid Acc: 0.9526\n",
      "Epoch 2 finished in 36.58s\n",
      "-----------------------------------------------------------------------\n",
      "Epoch 3/100\n"
     ]
    },
    {
     "name": "stderr",
     "output_type": "stream",
     "text": [
      "Training And Evaluation: 100%|██████████| 57/57 [00:20<00:00,  2.74it/s]\n",
      "Training And Evaluation: 100%|██████████| 57/57 [00:16<00:00,  3.53it/s]\n"
     ]
    },
    {
     "name": "stdout",
     "output_type": "stream",
     "text": [
      "Train Loss: 0.2266, Train Acc: 0.9278\n",
      "Valid Loss: 0.0914, Valid Acc: 0.9719\n",
      "Epoch 3 finished in 37.00s\n",
      "-----------------------------------------------------------------------\n",
      "Epoch 4/100\n"
     ]
    },
    {
     "name": "stderr",
     "output_type": "stream",
     "text": [
      "Training And Evaluation: 100%|██████████| 57/57 [00:20<00:00,  2.74it/s]\n",
      "Training And Evaluation: 100%|██████████| 57/57 [00:16<00:00,  3.53it/s]\n"
     ]
    },
    {
     "name": "stdout",
     "output_type": "stream",
     "text": [
      "Train Loss: 0.1833, Train Acc: 0.9410\n",
      "Valid Loss: 0.1161, Valid Acc: 0.9620\n",
      "Epoch 4 finished in 36.95s\n",
      "-----------------------------------------------------------------------\n",
      "Epoch 5/100\n"
     ]
    },
    {
     "name": "stderr",
     "output_type": "stream",
     "text": [
      "Training And Evaluation: 100%|██████████| 57/57 [00:20<00:00,  2.78it/s]\n",
      "Training And Evaluation: 100%|██████████| 57/57 [00:16<00:00,  3.45it/s]\n"
     ]
    },
    {
     "name": "stdout",
     "output_type": "stream",
     "text": [
      "Train Loss: 0.1537, Train Acc: 0.9487\n",
      "Valid Loss: 0.0678, Valid Acc: 0.9741\n",
      "Epoch 5 finished in 37.06s\n",
      "-----------------------------------------------------------------------\n",
      "Epoch 6/100\n"
     ]
    },
    {
     "name": "stderr",
     "output_type": "stream",
     "text": [
      "Training And Evaluation: 100%|██████████| 57/57 [00:20<00:00,  2.80it/s]\n",
      "Training And Evaluation: 100%|██████████| 57/57 [00:16<00:00,  3.36it/s]\n"
     ]
    },
    {
     "name": "stdout",
     "output_type": "stream",
     "text": [
      "Train Loss: 0.1220, Train Acc: 0.9587\n",
      "Valid Loss: 0.0424, Valid Acc: 0.9884\n",
      "Epoch 6 finished in 37.40s\n",
      "-----------------------------------------------------------------------\n",
      "Epoch 7/100\n"
     ]
    },
    {
     "name": "stderr",
     "output_type": "stream",
     "text": [
      "Training And Evaluation: 100%|██████████| 57/57 [00:20<00:00,  2.76it/s]\n",
      "Training And Evaluation: 100%|██████████| 57/57 [00:16<00:00,  3.49it/s]\n"
     ]
    },
    {
     "name": "stdout",
     "output_type": "stream",
     "text": [
      "Train Loss: 0.1139, Train Acc: 0.9664\n",
      "Valid Loss: 0.0375, Valid Acc: 0.9895\n",
      "Epoch 7 finished in 36.97s\n",
      "-----------------------------------------------------------------------\n",
      "Epoch 8/100\n"
     ]
    },
    {
     "name": "stderr",
     "output_type": "stream",
     "text": [
      "Training And Evaluation: 100%|██████████| 57/57 [00:20<00:00,  2.77it/s]\n",
      "Training And Evaluation: 100%|██████████| 57/57 [00:16<00:00,  3.52it/s]\n"
     ]
    },
    {
     "name": "stdout",
     "output_type": "stream",
     "text": [
      "Train Loss: 0.0885, Train Acc: 0.9697\n",
      "Valid Loss: 0.0239, Valid Acc: 0.9934\n",
      "Epoch 8 finished in 36.80s\n",
      "-----------------------------------------------------------------------\n",
      "Epoch 9/100\n"
     ]
    },
    {
     "name": "stderr",
     "output_type": "stream",
     "text": [
      "Training And Evaluation: 100%|██████████| 57/57 [00:20<00:00,  2.75it/s]\n",
      "Training And Evaluation: 100%|██████████| 57/57 [00:15<00:00,  3.60it/s]\n"
     ]
    },
    {
     "name": "stdout",
     "output_type": "stream",
     "text": [
      "Train Loss: 0.0622, Train Acc: 0.9796\n",
      "Valid Loss: 0.0214, Valid Acc: 0.9934\n",
      "Epoch 9 finished in 36.56s\n",
      "-----------------------------------------------------------------------\n",
      "Epoch 10/100\n"
     ]
    },
    {
     "name": "stderr",
     "output_type": "stream",
     "text": [
      "Training And Evaluation: 100%|██████████| 57/57 [00:20<00:00,  2.76it/s]\n",
      "Training And Evaluation: 100%|██████████| 57/57 [00:16<00:00,  3.56it/s]\n"
     ]
    },
    {
     "name": "stdout",
     "output_type": "stream",
     "text": [
      "Train Loss: 0.0866, Train Acc: 0.9708\n",
      "Valid Loss: 0.0189, Valid Acc: 0.9945\n",
      "Epoch 10 finished in 36.74s\n",
      "-----------------------------------------------------------------------\n",
      "Epoch 11/100\n"
     ]
    },
    {
     "name": "stderr",
     "output_type": "stream",
     "text": [
      "Training And Evaluation: 100%|██████████| 57/57 [00:20<00:00,  2.80it/s]\n",
      "Training And Evaluation: 100%|██████████| 57/57 [00:15<00:00,  3.65it/s]\n"
     ]
    },
    {
     "name": "stdout",
     "output_type": "stream",
     "text": [
      "Train Loss: 0.0740, Train Acc: 0.9779\n",
      "Valid Loss: 0.0186, Valid Acc: 0.9961\n",
      "Epoch 11 finished in 35.97s\n",
      "-----------------------------------------------------------------------\n",
      "Epoch 12/100\n"
     ]
    },
    {
     "name": "stderr",
     "output_type": "stream",
     "text": [
      "Training And Evaluation: 100%|██████████| 57/57 [00:20<00:00,  2.83it/s]\n",
      "Training And Evaluation: 100%|██████████| 57/57 [00:15<00:00,  3.60it/s]\n"
     ]
    },
    {
     "name": "stdout",
     "output_type": "stream",
     "text": [
      "Train Loss: 0.0685, Train Acc: 0.9802\n",
      "Valid Loss: 0.0191, Valid Acc: 0.9961\n",
      "Epoch 12 finished in 36.03s\n",
      "-----------------------------------------------------------------------\n",
      "Epoch 13/100\n"
     ]
    },
    {
     "name": "stderr",
     "output_type": "stream",
     "text": [
      "Training And Evaluation: 100%|██████████| 57/57 [00:20<00:00,  2.84it/s]\n",
      "Training And Evaluation: 100%|██████████| 57/57 [00:16<00:00,  3.55it/s]\n"
     ]
    },
    {
     "name": "stdout",
     "output_type": "stream",
     "text": [
      "Train Loss: 0.0741, Train Acc: 0.9735\n",
      "Valid Loss: 0.0164, Valid Acc: 0.9961\n",
      "Epoch 13 finished in 36.13s\n",
      "-----------------------------------------------------------------------\n",
      "Epoch 14/100\n"
     ]
    },
    {
     "name": "stderr",
     "output_type": "stream",
     "text": [
      "Training And Evaluation: 100%|██████████| 57/57 [00:20<00:00,  2.84it/s]\n",
      "Training And Evaluation: 100%|██████████| 57/57 [00:16<00:00,  3.44it/s]\n"
     ]
    },
    {
     "name": "stdout",
     "output_type": "stream",
     "text": [
      "Train Loss: 0.0794, Train Acc: 0.9785\n",
      "Valid Loss: 0.0141, Valid Acc: 0.9972\n",
      "Epoch 14 finished in 36.68s\n",
      "-----------------------------------------------------------------------\n",
      "Epoch 15/100\n"
     ]
    },
    {
     "name": "stderr",
     "output_type": "stream",
     "text": [
      "Training And Evaluation: 100%|██████████| 57/57 [00:20<00:00,  2.82it/s]\n",
      "Training And Evaluation: 100%|██████████| 57/57 [00:15<00:00,  3.60it/s]\n"
     ]
    },
    {
     "name": "stdout",
     "output_type": "stream",
     "text": [
      "Train Loss: 0.0436, Train Acc: 0.9862\n",
      "Valid Loss: 0.0096, Valid Acc: 0.9972\n",
      "Epoch 15 finished in 36.10s\n",
      "-----------------------------------------------------------------------\n",
      "Epoch 16/100\n"
     ]
    },
    {
     "name": "stderr",
     "output_type": "stream",
     "text": [
      "Training And Evaluation: 100%|██████████| 57/57 [00:20<00:00,  2.75it/s]\n",
      "Training And Evaluation: 100%|██████████| 57/57 [00:15<00:00,  3.61it/s]\n"
     ]
    },
    {
     "name": "stdout",
     "output_type": "stream",
     "text": [
      "Train Loss: 0.0395, Train Acc: 0.9879\n",
      "Valid Loss: 0.0095, Valid Acc: 0.9972\n",
      "Epoch 16 finished in 36.53s\n",
      "-----------------------------------------------------------------------\n",
      "Epoch 17/100\n"
     ]
    },
    {
     "name": "stderr",
     "output_type": "stream",
     "text": [
      "Training And Evaluation: 100%|██████████| 57/57 [00:20<00:00,  2.79it/s]\n",
      "Training And Evaluation: 100%|██████████| 57/57 [00:15<00:00,  3.61it/s]\n"
     ]
    },
    {
     "name": "stdout",
     "output_type": "stream",
     "text": [
      "Train Loss: 0.0434, Train Acc: 0.9890\n",
      "Valid Loss: 0.0068, Valid Acc: 0.9983\n",
      "Epoch 17 finished in 36.24s\n",
      "-----------------------------------------------------------------------\n",
      "Epoch 18/100\n"
     ]
    },
    {
     "name": "stderr",
     "output_type": "stream",
     "text": [
      "Training And Evaluation: 100%|██████████| 57/57 [00:20<00:00,  2.82it/s]\n",
      "Training And Evaluation: 100%|██████████| 57/57 [00:16<00:00,  3.55it/s]\n"
     ]
    },
    {
     "name": "stdout",
     "output_type": "stream",
     "text": [
      "Train Loss: 0.0332, Train Acc: 0.9912\n",
      "Valid Loss: 0.0069, Valid Acc: 0.9989\n",
      "Epoch 18 finished in 36.30s\n",
      "-----------------------------------------------------------------------\n",
      "Epoch 19/100\n"
     ]
    },
    {
     "name": "stderr",
     "output_type": "stream",
     "text": [
      "Training And Evaluation: 100%|██████████| 57/57 [00:20<00:00,  2.84it/s]\n",
      "Training And Evaluation: 100%|██████████| 57/57 [00:16<00:00,  3.56it/s]\n"
     ]
    },
    {
     "name": "stdout",
     "output_type": "stream",
     "text": [
      "Train Loss: 0.0232, Train Acc: 0.9945\n",
      "Valid Loss: 0.0141, Valid Acc: 0.9972\n",
      "Epoch 19 finished in 36.13s\n",
      "-----------------------------------------------------------------------\n",
      "Epoch 20/100\n"
     ]
    },
    {
     "name": "stderr",
     "output_type": "stream",
     "text": [
      "Training And Evaluation: 100%|██████████| 57/57 [00:19<00:00,  2.85it/s]\n",
      "Training And Evaluation: 100%|██████████| 57/57 [00:16<00:00,  3.43it/s]\n"
     ]
    },
    {
     "name": "stdout",
     "output_type": "stream",
     "text": [
      "Train Loss: 0.0254, Train Acc: 0.9928\n",
      "Valid Loss: 0.0053, Valid Acc: 0.9983\n",
      "Epoch 20 finished in 36.65s\n",
      "-----------------------------------------------------------------------\n",
      "Epoch 21/100\n"
     ]
    },
    {
     "name": "stderr",
     "output_type": "stream",
     "text": [
      "Training And Evaluation: 100%|██████████| 57/57 [00:19<00:00,  2.87it/s]\n",
      "Training And Evaluation: 100%|██████████| 57/57 [00:16<00:00,  3.56it/s]\n"
     ]
    },
    {
     "name": "stdout",
     "output_type": "stream",
     "text": [
      "Train Loss: 0.0326, Train Acc: 0.9884\n",
      "Valid Loss: 0.0049, Valid Acc: 0.9989\n",
      "Epoch 21 finished in 35.87s\n",
      "-----------------------------------------------------------------------\n",
      "Epoch 22/100\n"
     ]
    },
    {
     "name": "stderr",
     "output_type": "stream",
     "text": [
      "Training And Evaluation: 100%|██████████| 57/57 [00:19<00:00,  2.87it/s]\n",
      "Training And Evaluation: 100%|██████████| 57/57 [00:16<00:00,  3.52it/s]\n"
     ]
    },
    {
     "name": "stdout",
     "output_type": "stream",
     "text": [
      "Train Loss: 0.0311, Train Acc: 0.9901\n",
      "Valid Loss: 0.0044, Valid Acc: 0.9994\n",
      "Epoch 22 finished in 36.10s\n",
      "-----------------------------------------------------------------------\n",
      "Epoch 23/100\n"
     ]
    },
    {
     "name": "stderr",
     "output_type": "stream",
     "text": [
      "Training And Evaluation: 100%|██████████| 57/57 [00:20<00:00,  2.79it/s]\n",
      "Training And Evaluation: 100%|██████████| 57/57 [00:16<00:00,  3.55it/s]\n"
     ]
    },
    {
     "name": "stdout",
     "output_type": "stream",
     "text": [
      "Train Loss: 0.0362, Train Acc: 0.9884\n",
      "Valid Loss: 0.0142, Valid Acc: 0.9967\n",
      "Epoch 23 finished in 36.49s\n",
      "-----------------------------------------------------------------------\n",
      "Epoch 24/100\n"
     ]
    },
    {
     "name": "stderr",
     "output_type": "stream",
     "text": [
      "Training And Evaluation: 100%|██████████| 57/57 [00:20<00:00,  2.79it/s]\n",
      "Training And Evaluation: 100%|██████████| 57/57 [00:15<00:00,  3.62it/s]\n"
     ]
    },
    {
     "name": "stdout",
     "output_type": "stream",
     "text": [
      "Train Loss: 0.0397, Train Acc: 0.9879\n",
      "Valid Loss: 0.0103, Valid Acc: 0.9983\n",
      "Epoch 24 finished in 36.20s\n",
      "-----------------------------------------------------------------------\n",
      "Epoch 25/100\n"
     ]
    },
    {
     "name": "stderr",
     "output_type": "stream",
     "text": [
      "Training And Evaluation: 100%|██████████| 57/57 [00:20<00:00,  2.77it/s]\n",
      "Training And Evaluation: 100%|██████████| 57/57 [00:15<00:00,  3.58it/s]\n"
     ]
    },
    {
     "name": "stdout",
     "output_type": "stream",
     "text": [
      "Train Loss: 0.0385, Train Acc: 0.9884\n",
      "Valid Loss: 0.0044, Valid Acc: 0.9994\n",
      "Epoch 25 finished in 36.50s\n",
      "-----------------------------------------------------------------------\n",
      "Epoch 26/100\n"
     ]
    },
    {
     "name": "stderr",
     "output_type": "stream",
     "text": [
      "Training And Evaluation: 100%|██████████| 57/57 [00:20<00:00,  2.83it/s]\n",
      "Training And Evaluation: 100%|██████████| 57/57 [00:16<00:00,  3.53it/s]\n"
     ]
    },
    {
     "name": "stdout",
     "output_type": "stream",
     "text": [
      "Train Loss: 0.0319, Train Acc: 0.9890\n",
      "Valid Loss: 0.0056, Valid Acc: 0.9989\n",
      "Epoch 26 finished in 36.32s\n",
      "-----------------------------------------------------------------------\n",
      "Epoch 27/100\n"
     ]
    },
    {
     "name": "stderr",
     "output_type": "stream",
     "text": [
      "Training And Evaluation: 100%|██████████| 57/57 [00:20<00:00,  2.84it/s]\n",
      "Training And Evaluation: 100%|██████████| 57/57 [00:15<00:00,  3.60it/s]\n"
     ]
    },
    {
     "name": "stdout",
     "output_type": "stream",
     "text": [
      "Train Loss: 0.0359, Train Acc: 0.9884\n",
      "Valid Loss: 0.0060, Valid Acc: 0.9994\n",
      "Epoch 27 finished in 35.92s\n",
      "-----------------------------------------------------------------------\n",
      "Epoch 28/100\n"
     ]
    },
    {
     "name": "stderr",
     "output_type": "stream",
     "text": [
      "Training And Evaluation: 100%|██████████| 57/57 [00:19<00:00,  2.89it/s]\n",
      "Training And Evaluation: 100%|██████████| 57/57 [00:16<00:00,  3.51it/s]\n"
     ]
    },
    {
     "name": "stdout",
     "output_type": "stream",
     "text": [
      "Train Loss: 0.0293, Train Acc: 0.9945\n",
      "Valid Loss: 0.0041, Valid Acc: 0.9994\n",
      "Epoch 28 finished in 35.98s\n",
      "-----------------------------------------------------------------------\n",
      "Epoch 29/100\n"
     ]
    },
    {
     "name": "stderr",
     "output_type": "stream",
     "text": [
      "Training And Evaluation: 100%|██████████| 57/57 [00:19<00:00,  2.85it/s]\n",
      "Training And Evaluation: 100%|██████████| 57/57 [00:15<00:00,  3.60it/s]\n"
     ]
    },
    {
     "name": "stdout",
     "output_type": "stream",
     "text": [
      "Train Loss: 0.0252, Train Acc: 0.9912\n",
      "Valid Loss: 0.0066, Valid Acc: 0.9972\n",
      "Epoch 29 finished in 35.84s\n",
      "-----------------------------------------------------------------------\n",
      "Epoch 30/100\n"
     ]
    },
    {
     "name": "stderr",
     "output_type": "stream",
     "text": [
      "Training And Evaluation: 100%|██████████| 57/57 [00:20<00:00,  2.80it/s]\n",
      "Training And Evaluation: 100%|██████████| 57/57 [00:15<00:00,  3.63it/s]\n"
     ]
    },
    {
     "name": "stdout",
     "output_type": "stream",
     "text": [
      "Train Loss: 0.0256, Train Acc: 0.9906\n",
      "Valid Loss: 0.0071, Valid Acc: 0.9983\n",
      "Epoch 30 finished in 36.07s\n",
      "-----------------------------------------------------------------------\n",
      "Epoch 31/100\n"
     ]
    },
    {
     "name": "stderr",
     "output_type": "stream",
     "text": [
      "Training And Evaluation: 100%|██████████| 57/57 [00:20<00:00,  2.83it/s]\n",
      "Training And Evaluation: 100%|██████████| 57/57 [00:15<00:00,  3.59it/s]\n"
     ]
    },
    {
     "name": "stdout",
     "output_type": "stream",
     "text": [
      "Train Loss: 0.0163, Train Acc: 0.9972\n",
      "Valid Loss: 0.0042, Valid Acc: 0.9983\n",
      "Epoch 31 finished in 36.01s\n",
      "-----------------------------------------------------------------------\n",
      "Epoch 32/100\n"
     ]
    },
    {
     "name": "stderr",
     "output_type": "stream",
     "text": [
      "Training And Evaluation: 100%|██████████| 57/57 [00:20<00:00,  2.77it/s]\n",
      "Training And Evaluation: 100%|██████████| 57/57 [00:15<00:00,  3.69it/s]"
     ]
    },
    {
     "name": "stdout",
     "output_type": "stream",
     "text": [
      "Train Loss: 0.0194, Train Acc: 0.9939\n",
      "Valid Loss: 0.0042, Valid Acc: 0.9989\n",
      "Epoch 32 finished in 35.99s\n",
      "Early stopping at epoch 32 (no improvement in 10 epochs).\n",
      "-----------------------------------------------------------------------\n",
      "Training Complete In 1175.3647077083588s\n"
     ]
    },
    {
     "name": "stderr",
     "output_type": "stream",
     "text": [
      "\n"
     ]
    }
   ],
   "source": [
    "model, history, time_elapse, best_val_acc, best_epoch = train_model(data_loader=data_loader, model=model, \n",
    "                                                                    criterion=criterion, optimizer=optimizer, \n",
    "                                                                    num_epochs=EPOCHS, device=device, \n",
    "                                                                    early_stop=True, patience=10)"
   ]
  },
  {
   "cell_type": "code",
   "execution_count": 11,
   "id": "3ebcbbf0",
   "metadata": {
    "execution": {
     "iopub.execute_input": "2025-06-03T10:44:06.667638Z",
     "iopub.status.busy": "2025-06-03T10:44:06.666964Z",
     "iopub.status.idle": "2025-06-03T10:44:07.518284Z",
     "shell.execute_reply": "2025-06-03T10:44:07.517593Z"
    },
    "papermill": {
     "duration": 1.038704,
     "end_time": "2025-06-03T10:44:07.520032",
     "exception": false,
     "start_time": "2025-06-03T10:44:06.481328",
     "status": "completed"
    },
    "tags": []
   },
   "outputs": [
    {
     "data": {
      "image/png": "[encoded data removed]",
      "text/plain": [
       "<Figure size 1500x500 with 2 Axes>"
      ]
     },
     "metadata": {},
     "output_type": "display_data"
    }
   ],
   "source": [
    "fig, axs = plt.subplots(nrows=1, ncols=2, figsize=(15, 5))\n",
    "\n",
    "axs[0].plot(history['Train_Acc'], label='Train Accuracy')\n",
    "axs[0].plot(history['Validation_Acc'], label='Validation Accuracy')\n",
    "axs[0].set_xlabel('Epoch')\n",
    "axs[0].set_ylabel('Accuracy')\n",
    "axs[0].set_title('Training and Validation Accuracy')\n",
    "axs[0].legend()\n",
    "\n",
    "axs[1].plot(history['Train_Loss'], label='Train Loss')\n",
    "axs[1].plot(history['Validation_Loss'], label='Validation Loss')\n",
    "axs[1].set_xlabel('Epoch')\n",
    "axs[1].set_ylabel('Loss')\n",
    "axs[1].set_title('Training and Validation Loss')\n",
    "axs[1].legend()\n",
    "\n",
    "plt.tight_layout()\n",
    "plt.savefig(os.path.join(path, \"plot_loss_acc.png\"))\n",
    "plt.show()"
   ]
  },
  {
   "cell_type": "code",
   "execution_count": 12,
   "id": "d8f39887",
   "metadata": {
    "execution": {
     "iopub.execute_input": "2025-06-03T10:44:07.951911Z",
     "iopub.status.busy": "2025-06-03T10:44:07.951395Z",
     "iopub.status.idle": "2025-06-03T10:44:14.111329Z",
     "shell.execute_reply": "2025-06-03T10:44:14.110588Z"
    },
    "papermill": {
     "duration": 6.347292,
     "end_time": "2025-06-03T10:44:14.113053",
     "exception": false,
     "start_time": "2025-06-03T10:44:07.765761",
     "status": "completed"
    },
    "tags": []
   },
   "outputs": [
    {
     "name": "stdout",
     "output_type": "stream",
     "text": [
      "Accuracy: 0.9593908629441624\n",
      "Precision: 0.9593453578061404\n",
      "Recall: 0.9593908629441624\n",
      "F1-Score: 0.9589153451181616\n",
      "                     precision    recall  f1-score   support\n",
      "\n",
      "         Leaf_Algal     1.0000    1.0000    1.0000        70\n",
      "        Leaf_Blight     0.9333    0.8485    0.8889        66\n",
      "Leaf_Colletotrichum     0.9032    0.9333    0.9180        60\n",
      "       Leaf_Healthy     1.0000    1.0000    1.0000        74\n",
      "     Leaf_Phomopsis     0.9692    1.0000    0.9844        63\n",
      "   Leaf_Rhizoctonia     0.9365    0.9672    0.9516        61\n",
      "\n",
      "           accuracy                         0.9594       394\n",
      "          macro avg     0.9570    0.9582    0.9572       394\n",
      "       weighted avg     0.9593    0.9594    0.9589       394\n",
      "\n"
     ]
    },
    {
     "data": {
      "image/png": "[encoded data removed]",
      "text/plain": [
       "<Figure size 1000x800 with 2 Axes>"
      ]
     },
     "metadata": {},
     "output_type": "display_data"
    }
   ],
   "source": [
    "model.eval()\n",
    "\n",
    "with torch.no_grad():\n",
    "    \n",
    "    all_correct = []\n",
    "    all_predict = []\n",
    "    \n",
    "    for images, labels in test_loader:\n",
    "        images, labels = images.to(device), labels.to(device)\n",
    "        outputs = model(images)\n",
    "        _, predicts = torch.max(outputs, dim=1)\n",
    "\n",
    "        all_correct.extend(labels.cpu().numpy())\n",
    "        all_predict.extend(predicts.cpu().numpy())\n",
    "\n",
    "    acc = accuracy_score(all_correct, all_predict)\n",
    "    precision = precision_score(all_correct, all_predict, average='weighted')\n",
    "    recall = recall_score(all_correct, all_predict, average='weighted')\n",
    "    f1 = f1_score(all_correct, all_predict, average='weighted')\n",
    "    \n",
    "    input_res = (3, 224, 224)\n",
    "    flops, params = get_model_complexity_info(model, input_res, as_strings=True, print_per_layer_stat=False)\n",
    "    \n",
    "    total_params = sum(p.numel() for p in model.parameters())\n",
    "    trainable_params = sum(p.numel() for p in model.parameters() if p.requires_grad)\n",
    "    \n",
    "    print(f\"Accuracy: {acc}\")\n",
    "    print(f\"Precision: {precision}\")\n",
    "    print(f\"Recall: {recall}\")\n",
    "    print(f\"F1-Score: {f1}\")\n",
    "\n",
    "    result = {\n",
    "        \"Model\": model_name,\n",
    "        \"Optimizer\": \"Adam\",\n",
    "        \"Learning_Rate\": LEARNING_RATE,\n",
    "        \"Batch_Size\": BATCH_SIZE,\n",
    "        \"Num_Epoch\": EPOCHS,\n",
    "        \"Early_Stop\": best_epoch,\n",
    "        \"Training_Time\": time_elapse,\n",
    "        \"Best_Val_Acc\": best_val_acc,\n",
    "        \"Accuracy\": acc,\n",
    "        \"Precision\": precision,\n",
    "        \"Recall\": recall,\n",
    "        \"F1-Score\": f1,\n",
    "        \"FLOPs\": flops,\n",
    "        \"Params\": params,\n",
    "        \"Total_Params\": total_params,\n",
    "        \"Trainable_Params\": trainable_params,\n",
    "             }\n",
    "    \n",
    "    result_df = pd.DataFrame([result])\n",
    "    result_df.to_csv(os.path.join(path, \"result.csv\"), index=False)\n",
    "    \n",
    "    report = classification_report(all_correct, all_predict, target_names=train_dataset.classes, digits=4)\n",
    "    print(report)\n",
    "    with open(os.path.join(path, \"classification_report.txt\"), \"w\") as f:\n",
    "        f.write(report)\n",
    "        \n",
    "    cm = confusion_matrix(all_correct, all_predict)\n",
    "    \n",
    "    # Hiển thị confusion matrix dưới dạng heatmap\n",
    "    plt.figure(figsize=(10, 8))\n",
    "    sns.heatmap(cm, annot=True, fmt='d', cmap='Blues', xticklabels=train_dataset.classes, yticklabels=train_dataset.classes)\n",
    "    plt.xlabel('Predicted')\n",
    "    plt.ylabel('Actual')\n",
    "    plt.title('Confusion Matrix')\n",
    "\n",
    "    plt.tight_layout()\n",
    "    plt.savefig(os.path.join(path, 'confusion_matrix.png'))\n",
    "    plt.show()\n",
    "    \n",
    "    plt.close()"
   ]
  },
  {
   "cell_type": "code",
   "execution_count": 13,
   "id": "83b43428",
   "metadata": {
    "execution": {
     "iopub.execute_input": "2025-06-03T10:44:14.494164Z",
     "iopub.status.busy": "2025-06-03T10:44:14.493903Z",
     "iopub.status.idle": "2025-06-03T10:44:14.536996Z",
     "shell.execute_reply": "2025-06-03T10:44:14.536398Z"
    },
    "papermill": {
     "duration": 0.231506,
     "end_time": "2025-06-03T10:44:14.538206",
     "exception": false,
     "start_time": "2025-06-03T10:44:14.306700",
     "status": "completed"
    },
    "tags": []
   },
   "outputs": [],
   "source": [
    "torch.save(model.state_dict(), os.path.join(path, f'{model_name}_weights.pth'))\n",
    "history.to_csv(os.path.join(path, \"history.csv\"), index=False)"
   ]
  },
  {
   "cell_type": "code",
   "execution_count": 14,
   "id": "c334a3bd",
   "metadata": {
    "execution": {
     "iopub.execute_input": "2025-06-03T10:44:14.916936Z",
     "iopub.status.busy": "2025-06-03T10:44:14.916637Z",
     "iopub.status.idle": "2025-06-03T10:44:15.414510Z",
     "shell.execute_reply": "2025-06-03T10:44:15.413842Z"
    },
    "papermill": {
     "duration": 0.6879,
     "end_time": "2025-06-03T10:44:15.415831",
     "exception": false,
     "start_time": "2025-06-03T10:44:14.727931",
     "status": "completed"
    },
    "tags": []
   },
   "outputs": [
    {
     "data": {
      "text/plain": [
       "'/kaggle/working/result_MobileNetV2.zip'"
      ]
     },
     "execution_count": 14,
     "metadata": {},
     "output_type": "execute_result"
    }
   ],
   "source": [
    "import shutil\n",
    "\n",
    "shutil.make_archive(path, 'zip', path)"
   ]
  }
 ],
 "metadata": {
  "kaggle": {
   "accelerator": "nvidiaTeslaT4",
   "dataSources": [
    {
     "datasetId": 7548148,
     "sourceId": 11999347,
     "sourceType": "datasetVersion"
    }
   ],
   "isGpuEnabled": true,
   "isInternetEnabled": true,
   "language": "python",
   "sourceType": "notebook"
  },
  "kernelspec": {
   "display_name": "Python 3",
   "language": "python",
   "name": "python3"
  },
  "language_info": {
   "codemirror_mode": {
    "name": "ipython",
    "version": 3
   },
   "file_extension": ".py",
   "mimetype": "text/x-python",
   "name": "python",
   "nbconvert_exporter": "python",
   "pygments_lexer": "ipython3",
   "version": "3.11.11"
  },
  "papermill": {
   "default_parameters": {},
   "duration": 1314.868701,
   "end_time": "2025-06-03T10:44:18.913860",
   "environment_variables": {},
   "exception": null,
   "input_path": "__notebook__.ipynb",
   "output_path": "__notebook__.ipynb",
   "parameters": {},
   "start_time": "2025-06-03T10:22:24.045159",
   "version": "2.6.0"
  }
 },
 "nbformat": 4,
 "nbformat_minor": 5
}
