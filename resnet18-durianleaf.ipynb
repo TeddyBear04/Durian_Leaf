{
 "cells": [
  {
   "cell_type": "code",
   "execution_count": 1,
   "id": "f5f898d9",
   "metadata": {
    "_cell_guid": "b1076dfc-b9ad-4769-8c92-a6c4dae69d19",
    "_uuid": "8f2839f25d086af736a60e9eeb907d3b93b6e0e5",
    "execution": {
     "iopub.execute_input": "2025-06-03T02:37:34.019015Z",
     "iopub.status.busy": "2025-06-03T02:37:34.018777Z",
     "iopub.status.idle": "2025-06-03T02:38:42.436542Z",
     "shell.execute_reply": "2025-06-03T02:38:42.435736Z"
    },
    "papermill": {
     "duration": 68.422988,
     "end_time": "2025-06-03T02:38:42.437855",
     "exception": false,
     "start_time": "2025-06-03T02:37:34.014867",
     "status": "completed"
    },
    "tags": []
   },
   "outputs": [
    {
     "name": "stdout",
     "output_type": "stream",
     "text": [
      "Collecting ptflops\r\n",
      "  Downloading ptflops-0.7.4-py3-none-any.whl.metadata (9.4 kB)\r\n",
      "Requirement already satisfied: torch>=2.0 in /usr/local/lib/python3.11/dist-packages (from ptflops) (2.6.0+cu124)\r\n",
      "Requirement already satisfied: filelock in /usr/local/lib/python3.11/dist-packages (from torch>=2.0->ptflops) (3.18.0)\r\n",
      "Requirement already satisfied: typing-extensions>=4.10.0 in /usr/local/lib/python3.11/dist-packages (from torch>=2.0->ptflops) (4.13.2)\r\n",
      "Requirement already satisfied: networkx in /usr/local/lib/python3.11/dist-packages (from torch>=2.0->ptflops) (3.4.2)\r\n",
      "Requirement already satisfied: jinja2 in /usr/local/lib/python3.11/dist-packages (from torch>=2.0->ptflops) (3.1.6)\r\n",
      "Requirement already satisfied: fsspec in /usr/local/lib/python3.11/dist-packages (from torch>=2.0->ptflops) (2025.3.2)\r\n",
      "Requirement already satisfied: nvidia-cuda-nvrtc-cu12==12.4.127 in /usr/local/lib/python3.11/dist-packages (from torch>=2.0->ptflops) (12.4.127)\r\n",
      "Requirement already satisfied: nvidia-cuda-runtime-cu12==12.4.127 in /usr/local/lib/python3.11/dist-packages (from torch>=2.0->ptflops) (12.4.127)\r\n",
      "Requirement already satisfied: nvidia-cuda-cupti-cu12==12.4.127 in /usr/local/lib/python3.11/dist-packages (from torch>=2.0->ptflops) (12.4.127)\r\n",
      "Collecting nvidia-cudnn-cu12==9.1.0.70 (from torch>=2.0->ptflops)\r\n",
      "  Downloading nvidia_cudnn_cu12-9.1.0.70-py3-none-manylinux2014_x86_64.whl.metadata (1.6 kB)\r\n",
      "Collecting nvidia-cublas-cu12==12.4.5.8 (from torch>=2.0->ptflops)\r\n",
      "  Downloading nvidia_cublas_cu12-12.4.5.8-py3-none-manylinux2014_x86_64.whl.metadata (1.5 kB)\r\n",
      "Collecting nvidia-cufft-cu12==11.2.1.3 (from torch>=2.0->ptflops)\r\n",
      "  Downloading nvidia_cufft_cu12-11.2.1.3-py3-none-manylinux2014_x86_64.whl.metadata (1.5 kB)\r\n",
      "Collecting nvidia-curand-cu12==10.3.5.147 (from torch>=2.0->ptflops)\r\n",
      "  Downloading nvidia_curand_cu12-10.3.5.147-py3-none-manylinux2014_x86_64.whl.metadata (1.5 kB)\r\n",
      "Collecting nvidia-cusolver-cu12==11.6.1.9 (from torch>=2.0->ptflops)\r\n",
      "  Downloading nvidia_cusolver_cu12-11.6.1.9-py3-none-manylinux2014_x86_64.whl.metadata (1.6 kB)\r\n",
      "Collecting nvidia-cusparse-cu12==12.3.1.170 (from torch>=2.0->ptflops)\r\n",
      "  Downloading nvidia_cusparse_cu12-12.3.1.170-py3-none-manylinux2014_x86_64.whl.metadata (1.6 kB)\r\n",
      "Requirement already satisfied: nvidia-cusparselt-cu12==0.6.2 in /usr/local/lib/python3.11/dist-packages (from torch>=2.0->ptflops) (0.6.2)\r\n",
      "Requirement already satisfied: nvidia-nccl-cu12==2.21.5 in /usr/local/lib/python3.11/dist-packages (from torch>=2.0->ptflops) (2.21.5)\r\n",
      "Requirement already satisfied: nvidia-nvtx-cu12==12.4.127 in /usr/local/lib/python3.11/dist-packages (from torch>=2.0->ptflops) (12.4.127)\r\n",
      "Collecting nvidia-nvjitlink-cu12==12.4.127 (from torch>=2.0->ptflops)\r\n",
      "  Downloading nvidia_nvjitlink_cu12-12.4.127-py3-none-manylinux2014_x86_64.whl.metadata (1.5 kB)\r\n",
      "Requirement already satisfied: triton==3.2.0 in /usr/local/lib/python3.11/dist-packages (from torch>=2.0->ptflops) (3.2.0)\r\n",
      "Requirement already satisfied: sympy==1.13.1 in /usr/local/lib/python3.11/dist-packages (from torch>=2.0->ptflops) (1.13.1)\r\n",
      "Requirement already satisfied: mpmath<1.4,>=1.1.0 in /usr/local/lib/python3.11/dist-packages (from sympy==1.13.1->torch>=2.0->ptflops) (1.3.0)\r\n",
      "Requirement already satisfied: MarkupSafe>=2.0 in /usr/local/lib/python3.11/dist-packages (from jinja2->torch>=2.0->ptflops) (3.0.2)\r\n",
      "Downloading ptflops-0.7.4-py3-none-any.whl (19 kB)\r\n",
      "Downloading nvidia_cublas_cu12-12.4.5.8-py3-none-manylinux2014_x86_64.whl (363.4 MB)\r\n",
      "\u001b[2K   \u001b[90m━━━━━━━━━━━━━━━━━━━━━━━━━━━━━━━━━━━━━━━━\u001b[0m \u001b[32m363.4/363.4 MB\u001b[0m \u001b[31m4.1 MB/s\u001b[0m eta \u001b[36m0:00:00\u001b[0m\r\n",
      "\u001b[?25hDownloading nvidia_cudnn_cu12-9.1.0.70-py3-none-manylinux2014_x86_64.whl (664.8 MB)\r\n",
      "\u001b[2K   \u001b[90m━━━━━━━━━━━━━━━━━━━━━━━━━━━━━━━━━━━━━━━━\u001b[0m \u001b[32m664.8/664.8 MB\u001b[0m \u001b[31m2.2 MB/s\u001b[0m eta \u001b[36m0:00:00\u001b[0m\r\n",
      "\u001b[?25hDownloading nvidia_cufft_cu12-11.2.1.3-py3-none-manylinux2014_x86_64.whl (211.5 MB)\r\n",
      "\u001b[2K   \u001b[90m━━━━━━━━━━━━━━━━━━━━━━━━━━━━━━━━━━━━━━━━\u001b[0m \u001b[32m211.5/211.5 MB\u001b[0m \u001b[31m7.1 MB/s\u001b[0m eta \u001b[36m0:00:00\u001b[0m\r\n",
      "\u001b[?25hDownloading nvidia_curand_cu12-10.3.5.147-py3-none-manylinux2014_x86_64.whl (56.3 MB)\r\n",
      "\u001b[2K   \u001b[90m━━━━━━━━━━━━━━━━━━━━━━━━━━━━━━━━━━━━━━━━\u001b[0m \u001b[32m56.3/56.3 MB\u001b[0m \u001b[31m26.4 MB/s\u001b[0m eta \u001b[36m0:00:00\u001b[0m\r\n",
      "\u001b[?25hDownloading nvidia_cusolver_cu12-11.6.1.9-py3-none-manylinux2014_x86_64.whl (127.9 MB)\r\n",
      "\u001b[2K   \u001b[90m━━━━━━━━━━━━━━━━━━━━━━━━━━━━━━━━━━━━━━━━\u001b[0m \u001b[32m127.9/127.9 MB\u001b[0m \u001b[31m7.1 MB/s\u001b[0m eta \u001b[36m0:00:00\u001b[0m\r\n",
      "\u001b[?25hDownloading nvidia_cusparse_cu12-12.3.1.170-py3-none-manylinux2014_x86_64.whl (207.5 MB)\r\n",
      "\u001b[2K   \u001b[90m━━━━━━━━━━━━━━━━━━━━━━━━━━━━━━━━━━━━━━━━\u001b[0m \u001b[32m207.5/207.5 MB\u001b[0m \u001b[31m7.2 MB/s\u001b[0m eta \u001b[36m0:00:00\u001b[0m\r\n",
      "\u001b[?25hDownloading nvidia_nvjitlink_cu12-12.4.127-py3-none-manylinux2014_x86_64.whl (21.1 MB)\r\n",
      "\u001b[2K   \u001b[90m━━━━━━━━━━━━━━━━━━━━━━━━━━━━━━━━━━━━━━━━\u001b[0m \u001b[32m21.1/21.1 MB\u001b[0m \u001b[31m60.2 MB/s\u001b[0m eta \u001b[36m0:00:00\u001b[0m\r\n",
      "\u001b[?25hInstalling collected packages: nvidia-nvjitlink-cu12, nvidia-curand-cu12, nvidia-cufft-cu12, nvidia-cublas-cu12, nvidia-cusparse-cu12, nvidia-cudnn-cu12, nvidia-cusolver-cu12, ptflops\r\n",
      "  Attempting uninstall: nvidia-nvjitlink-cu12\r\n",
      "    Found existing installation: nvidia-nvjitlink-cu12 12.9.41\r\n",
      "    Uninstalling nvidia-nvjitlink-cu12-12.9.41:\r\n",
      "      Successfully uninstalled nvidia-nvjitlink-cu12-12.9.41\r\n",
      "  Attempting uninstall: nvidia-curand-cu12\r\n",
      "    Found existing installation: nvidia-curand-cu12 10.3.10.19\r\n",
      "    Uninstalling nvidia-curand-cu12-10.3.10.19:\r\n",
      "      Successfully uninstalled nvidia-curand-cu12-10.3.10.19\r\n",
      "  Attempting uninstall: nvidia-cufft-cu12\r\n",
      "    Found existing installation: nvidia-cufft-cu12 11.4.0.6\r\n",
      "    Uninstalling nvidia-cufft-cu12-11.4.0.6:\r\n",
      "      Successfully uninstalled nvidia-cufft-cu12-11.4.0.6\r\n",
      "  Attempting uninstall: nvidia-cublas-cu12\r\n",
      "    Found existing installation: nvidia-cublas-cu12 12.9.0.13\r\n",
      "    Uninstalling nvidia-cublas-cu12-12.9.0.13:\r\n",
      "      Successfully uninstalled nvidia-cublas-cu12-12.9.0.13\r\n",
      "  Attempting uninstall: nvidia-cusparse-cu12\r\n",
      "    Found existing installation: nvidia-cusparse-cu12 12.5.9.5\r\n",
      "    Uninstalling nvidia-cusparse-cu12-12.5.9.5:\r\n",
      "      Successfully uninstalled nvidia-cusparse-cu12-12.5.9.5\r\n",
      "  Attempting uninstall: nvidia-cudnn-cu12\r\n",
      "    Found existing installation: nvidia-cudnn-cu12 9.3.0.75\r\n",
      "    Uninstalling nvidia-cudnn-cu12-9.3.0.75:\r\n",
      "      Successfully uninstalled nvidia-cudnn-cu12-9.3.0.75\r\n",
      "  Attempting uninstall: nvidia-cusolver-cu12\r\n",
      "    Found existing installation: nvidia-cusolver-cu12 11.7.4.40\r\n",
      "    Uninstalling nvidia-cusolver-cu12-11.7.4.40:\r\n",
      "      Successfully uninstalled nvidia-cusolver-cu12-11.7.4.40\r\n",
      "Successfully installed nvidia-cublas-cu12-12.4.5.8 nvidia-cudnn-cu12-9.1.0.70 nvidia-cufft-cu12-11.2.1.3 nvidia-curand-cu12-10.3.5.147 nvidia-cusolver-cu12-11.6.1.9 nvidia-cusparse-cu12-12.3.1.170 nvidia-nvjitlink-cu12-12.4.127 ptflops-0.7.4\r\n"
     ]
    }
   ],
   "source": [
    "!pip install ptflops"
   ]
  },
  {
   "cell_type": "code",
   "execution_count": 2,
   "id": "4974be62",
   "metadata": {
    "execution": {
     "iopub.execute_input": "2025-06-03T02:38:42.474602Z",
     "iopub.status.busy": "2025-06-03T02:38:42.474359Z",
     "iopub.status.idle": "2025-06-03T02:38:55.834163Z",
     "shell.execute_reply": "2025-06-03T02:38:55.833512Z"
    },
    "papermill": {
     "duration": 13.379306,
     "end_time": "2025-06-03T02:38:55.835467",
     "exception": false,
     "start_time": "2025-06-03T02:38:42.456161",
     "status": "completed"
    },
    "tags": []
   },
   "outputs": [],
   "source": [
    "import pandas as pd\n",
    "import numpy as np\n",
    "import torch\n",
    "import torchvision\n",
    "import torch.nn as nn\n",
    "from torchvision import datasets, transforms, models\n",
    "from torch.utils.data import Dataset, DataLoader\n",
    "import matplotlib.pyplot as plt\n",
    "from torchvision.io import read_image\n",
    "from PIL import Image\n",
    "import copy\n",
    "import time\n",
    "import os\n",
    "from sklearn.preprocessing import LabelEncoder\n",
    "from sklearn.metrics import classification_report, accuracy_score, f1_score, precision_score, recall_score, confusion_matrix\n",
    "from tqdm import tqdm\n",
    "import seaborn as sns\n",
    "from ptflops import get_model_complexity_info"
   ]
  },
  {
   "cell_type": "code",
   "execution_count": 3,
   "id": "bc38e9d5",
   "metadata": {
    "execution": {
     "iopub.execute_input": "2025-06-03T02:38:55.872521Z",
     "iopub.status.busy": "2025-06-03T02:38:55.872102Z",
     "iopub.status.idle": "2025-06-03T02:38:55.875661Z",
     "shell.execute_reply": "2025-06-03T02:38:55.875029Z"
    },
    "papermill": {
     "duration": 0.023052,
     "end_time": "2025-06-03T02:38:55.876627",
     "exception": false,
     "start_time": "2025-06-03T02:38:55.853575",
     "status": "completed"
    },
    "tags": []
   },
   "outputs": [],
   "source": [
    "learning_rate =1e-4\n",
    "BATCH_SIZE = 32\n",
    "epoch = 100\n",
    "model_name = \"Resnet18\""
   ]
  },
  {
   "cell_type": "code",
   "execution_count": 4,
   "id": "62d8a3e6",
   "metadata": {
    "execution": {
     "iopub.execute_input": "2025-06-03T02:38:55.914471Z",
     "iopub.status.busy": "2025-06-03T02:38:55.914177Z",
     "iopub.status.idle": "2025-06-03T02:38:55.917777Z",
     "shell.execute_reply": "2025-06-03T02:38:55.917164Z"
    },
    "papermill": {
     "duration": 0.023508,
     "end_time": "2025-06-03T02:38:55.918676",
     "exception": false,
     "start_time": "2025-06-03T02:38:55.895168",
     "status": "completed"
    },
    "tags": []
   },
   "outputs": [],
   "source": [
    "path = r\"/kaggle/working/\" + f\"result_{model_name}\"\n",
    "if not os.path.exists(path):\n",
    "    os.mkdir(path)"
   ]
  },
  {
   "cell_type": "code",
   "execution_count": 5,
   "id": "cef39d58",
   "metadata": {
    "execution": {
     "iopub.execute_input": "2025-06-03T02:38:55.956229Z",
     "iopub.status.busy": "2025-06-03T02:38:55.955951Z",
     "iopub.status.idle": "2025-06-03T02:39:05.021027Z",
     "shell.execute_reply": "2025-06-03T02:39:05.020336Z"
    },
    "papermill": {
     "duration": 9.085992,
     "end_time": "2025-06-03T02:39:05.022162",
     "exception": false,
     "start_time": "2025-06-03T02:38:55.936170",
     "status": "completed"
    },
    "tags": []
   },
   "outputs": [
    {
     "name": "stdout",
     "output_type": "stream",
     "text": [
      "Classes: ['Leaf_Algal', 'Leaf_Blight', 'Leaf_Colletotrichum', 'Leaf_Healthy', 'Leaf_Phomopsis', 'Leaf_Rhizoctonia']\n",
      "Số lượng ảnh trong tập train: 1814\n",
      "Số lượng ảnh trong tập val: 387\n",
      "Số lượng ảnh trong tập test: 394\n"
     ]
    }
   ],
   "source": [
    "train_path= r\"/kaggle/input/durian-leaf/A Durian Leaf/A Durian Leaf/A_Durian_Leaf_Image_Dataset/Durian_Leaf_Diseases/train\"\n",
    "val_path = r\"/kaggle/input/durian-leaf/A Durian Leaf/A Durian Leaf/A_Durian_Leaf_Image_Dataset/Durian_Leaf_Diseases/val\"\n",
    "test_path= r\"/kaggle/input/durian-leaf/A Durian Leaf/A Durian Leaf/A_Durian_Leaf_Image_Dataset/Durian_Leaf_Diseases/test\"\n",
    "\n",
    "mean=[0.485, 0.456, 0.406]\n",
    "std=[0.229, 0.224, 0.225]\n",
    "\n",
    "data_transform = {\n",
    "    'Train':transforms.Compose([\n",
    "        transforms.Resize((224, 224), interpolation=transforms.InterpolationMode.LANCZOS),\n",
    "        transforms.RandomHorizontalFlip(p=0.5),\n",
    "        transforms.RandomVerticalFlip(p=0.5),\n",
    "        transforms.RandomRotation(30),\n",
    "        transforms.ToTensor(),\n",
    "        transforms.Normalize(mean, std)\n",
    "    ]),\n",
    "    \"Validation\": transforms.Compose([\n",
    "        transforms.Resize((224, 224), interpolation=transforms.InterpolationMode.LANCZOS),\n",
    "        transforms.ToTensor(),\n",
    "        transforms.Normalize(mean, std)\n",
    "    ]),\n",
    "    'Test': transforms.Compose([\n",
    "        transforms.Resize((224, 224), interpolation=transforms.InterpolationMode.LANCZOS),\n",
    "        transforms.ToTensor(),\n",
    "        transforms.Normalize(mean, std)\n",
    "    ])\n",
    "}\n",
    "\n",
    "train_dataset = datasets.ImageFolder(root=train_path, transform=data_transform[\"Train\"])\n",
    "val_dataset = datasets.ImageFolder(root=val_path, transform=data_transform[\"Validation\"])\n",
    "test_dataset = datasets.ImageFolder(root=test_path, transform=data_transform[\"Test\"])\n",
    "\n",
    "print(\"Classes:\", train_dataset.classes)\n",
    "\n",
    "print(f\"Số lượng ảnh trong tập train: {len(train_dataset)}\")\n",
    "print(f\"Số lượng ảnh trong tập val: {len(val_dataset)}\")\n",
    "print(f\"Số lượng ảnh trong tập test: {len(test_dataset)}\")"
   ]
  },
  {
   "cell_type": "code",
   "execution_count": 6,
   "id": "ee423ec4",
   "metadata": {
    "execution": {
     "iopub.execute_input": "2025-06-03T02:39:05.058849Z",
     "iopub.status.busy": "2025-06-03T02:39:05.058630Z",
     "iopub.status.idle": "2025-06-03T02:39:05.062821Z",
     "shell.execute_reply": "2025-06-03T02:39:05.062243Z"
    },
    "papermill": {
     "duration": 0.023541,
     "end_time": "2025-06-03T02:39:05.063976",
     "exception": false,
     "start_time": "2025-06-03T02:39:05.040435",
     "status": "completed"
    },
    "tags": []
   },
   "outputs": [],
   "source": [
    "train_loader = DataLoader(train_dataset, batch_size= BATCH_SIZE, shuffle= True)\n",
    "val_loader = DataLoader(val_dataset, batch_size= BATCH_SIZE, shuffle= True)\n",
    "test_loader = DataLoader(test_dataset, batch_size= BATCH_SIZE, shuffle= True)\n",
    "\n",
    "data_loader= {\"Train\": train_loader,\n",
    "                \"Validation\": val_loader}"
   ]
  },
  {
   "cell_type": "code",
   "execution_count": 7,
   "id": "cbf20e82",
   "metadata": {
    "execution": {
     "iopub.execute_input": "2025-06-03T02:39:05.100113Z",
     "iopub.status.busy": "2025-06-03T02:39:05.099847Z",
     "iopub.status.idle": "2025-06-03T02:39:05.108127Z",
     "shell.execute_reply": "2025-06-03T02:39:05.107239Z"
    },
    "papermill": {
     "duration": 0.027499,
     "end_time": "2025-06-03T02:39:05.109299",
     "exception": false,
     "start_time": "2025-06-03T02:39:05.081800",
     "status": "completed"
    },
    "tags": []
   },
   "outputs": [
    {
     "data": {
      "text/plain": [
       "device(type='cpu')"
      ]
     },
     "execution_count": 7,
     "metadata": {},
     "output_type": "execute_result"
    }
   ],
   "source": [
    "device = torch.device(\"cuda\" if torch.cuda.is_available() else \"cpu\")\n",
    "device"
   ]
  },
  {
   "cell_type": "code",
   "execution_count": 8,
   "id": "70040ea3",
   "metadata": {
    "execution": {
     "iopub.execute_input": "2025-06-03T02:39:05.196468Z",
     "iopub.status.busy": "2025-06-03T02:39:05.196186Z",
     "iopub.status.idle": "2025-06-03T02:39:05.749913Z",
     "shell.execute_reply": "2025-06-03T02:39:05.749358Z"
    },
    "papermill": {
     "duration": 0.573144,
     "end_time": "2025-06-03T02:39:05.751036",
     "exception": false,
     "start_time": "2025-06-03T02:39:05.177892",
     "status": "completed"
    },
    "tags": []
   },
   "outputs": [
    {
     "name": "stderr",
     "output_type": "stream",
     "text": [
      "Downloading: \"https://download.pytorch.org/models/resnet18-f37072fd.pth\" to /root/.cache/torch/hub/checkpoints/resnet18-f37072fd.pth\n",
      "100%|██████████| 44.7M/44.7M [00:00<00:00, 150MB/s]\n"
     ]
    },
    {
     "data": {
      "text/plain": [
       "ResNet(\n",
       "  (conv1): Conv2d(3, 64, kernel_size=(7, 7), stride=(2, 2), padding=(3, 3), bias=False)\n",
       "  (bn1): BatchNorm2d(64, eps=1e-05, momentum=0.1, affine=True, track_running_stats=True)\n",
       "  (relu): ReLU(inplace=True)\n",
       "  (maxpool): MaxPool2d(kernel_size=3, stride=2, padding=1, dilation=1, ceil_mode=False)\n",
       "  (layer1): Sequential(\n",
       "    (0): BasicBlock(\n",
       "      (conv1): Conv2d(64, 64, kernel_size=(3, 3), stride=(1, 1), padding=(1, 1), bias=False)\n",
       "      (bn1): BatchNorm2d(64, eps=1e-05, momentum=0.1, affine=True, track_running_stats=True)\n",
       "      (relu): ReLU(inplace=True)\n",
       "      (conv2): Conv2d(64, 64, kernel_size=(3, 3), stride=(1, 1), padding=(1, 1), bias=False)\n",
       "      (bn2): BatchNorm2d(64, eps=1e-05, momentum=0.1, affine=True, track_running_stats=True)\n",
       "    )\n",
       "    (1): BasicBlock(\n",
       "      (conv1): Conv2d(64, 64, kernel_size=(3, 3), stride=(1, 1), padding=(1, 1), bias=False)\n",
       "      (bn1): BatchNorm2d(64, eps=1e-05, momentum=0.1, affine=True, track_running_stats=True)\n",
       "      (relu): ReLU(inplace=True)\n",
       "      (conv2): Conv2d(64, 64, kernel_size=(3, 3), stride=(1, 1), padding=(1, 1), bias=False)\n",
       "      (bn2): BatchNorm2d(64, eps=1e-05, momentum=0.1, affine=True, track_running_stats=True)\n",
       "    )\n",
       "  )\n",
       "  (layer2): Sequential(\n",
       "    (0): BasicBlock(\n",
       "      (conv1): Conv2d(64, 128, kernel_size=(3, 3), stride=(2, 2), padding=(1, 1), bias=False)\n",
       "      (bn1): BatchNorm2d(128, eps=1e-05, momentum=0.1, affine=True, track_running_stats=True)\n",
       "      (relu): ReLU(inplace=True)\n",
       "      (conv2): Conv2d(128, 128, kernel_size=(3, 3), stride=(1, 1), padding=(1, 1), bias=False)\n",
       "      (bn2): BatchNorm2d(128, eps=1e-05, momentum=0.1, affine=True, track_running_stats=True)\n",
       "      (downsample): Sequential(\n",
       "        (0): Conv2d(64, 128, kernel_size=(1, 1), stride=(2, 2), bias=False)\n",
       "        (1): BatchNorm2d(128, eps=1e-05, momentum=0.1, affine=True, track_running_stats=True)\n",
       "      )\n",
       "    )\n",
       "    (1): BasicBlock(\n",
       "      (conv1): Conv2d(128, 128, kernel_size=(3, 3), stride=(1, 1), padding=(1, 1), bias=False)\n",
       "      (bn1): BatchNorm2d(128, eps=1e-05, momentum=0.1, affine=True, track_running_stats=True)\n",
       "      (relu): ReLU(inplace=True)\n",
       "      (conv2): Conv2d(128, 128, kernel_size=(3, 3), stride=(1, 1), padding=(1, 1), bias=False)\n",
       "      (bn2): BatchNorm2d(128, eps=1e-05, momentum=0.1, affine=True, track_running_stats=True)\n",
       "    )\n",
       "  )\n",
       "  (layer3): Sequential(\n",
       "    (0): BasicBlock(\n",
       "      (conv1): Conv2d(128, 256, kernel_size=(3, 3), stride=(2, 2), padding=(1, 1), bias=False)\n",
       "      (bn1): BatchNorm2d(256, eps=1e-05, momentum=0.1, affine=True, track_running_stats=True)\n",
       "      (relu): ReLU(inplace=True)\n",
       "      (conv2): Conv2d(256, 256, kernel_size=(3, 3), stride=(1, 1), padding=(1, 1), bias=False)\n",
       "      (bn2): BatchNorm2d(256, eps=1e-05, momentum=0.1, affine=True, track_running_stats=True)\n",
       "      (downsample): Sequential(\n",
       "        (0): Conv2d(128, 256, kernel_size=(1, 1), stride=(2, 2), bias=False)\n",
       "        (1): BatchNorm2d(256, eps=1e-05, momentum=0.1, affine=True, track_running_stats=True)\n",
       "      )\n",
       "    )\n",
       "    (1): BasicBlock(\n",
       "      (conv1): Conv2d(256, 256, kernel_size=(3, 3), stride=(1, 1), padding=(1, 1), bias=False)\n",
       "      (bn1): BatchNorm2d(256, eps=1e-05, momentum=0.1, affine=True, track_running_stats=True)\n",
       "      (relu): ReLU(inplace=True)\n",
       "      (conv2): Conv2d(256, 256, kernel_size=(3, 3), stride=(1, 1), padding=(1, 1), bias=False)\n",
       "      (bn2): BatchNorm2d(256, eps=1e-05, momentum=0.1, affine=True, track_running_stats=True)\n",
       "    )\n",
       "  )\n",
       "  (layer4): Sequential(\n",
       "    (0): BasicBlock(\n",
       "      (conv1): Conv2d(256, 512, kernel_size=(3, 3), stride=(2, 2), padding=(1, 1), bias=False)\n",
       "      (bn1): BatchNorm2d(512, eps=1e-05, momentum=0.1, affine=True, track_running_stats=True)\n",
       "      (relu): ReLU(inplace=True)\n",
       "      (conv2): Conv2d(512, 512, kernel_size=(3, 3), stride=(1, 1), padding=(1, 1), bias=False)\n",
       "      (bn2): BatchNorm2d(512, eps=1e-05, momentum=0.1, affine=True, track_running_stats=True)\n",
       "      (downsample): Sequential(\n",
       "        (0): Conv2d(256, 512, kernel_size=(1, 1), stride=(2, 2), bias=False)\n",
       "        (1): BatchNorm2d(512, eps=1e-05, momentum=0.1, affine=True, track_running_stats=True)\n",
       "      )\n",
       "    )\n",
       "    (1): BasicBlock(\n",
       "      (conv1): Conv2d(512, 512, kernel_size=(3, 3), stride=(1, 1), padding=(1, 1), bias=False)\n",
       "      (bn1): BatchNorm2d(512, eps=1e-05, momentum=0.1, affine=True, track_running_stats=True)\n",
       "      (relu): ReLU(inplace=True)\n",
       "      (conv2): Conv2d(512, 512, kernel_size=(3, 3), stride=(1, 1), padding=(1, 1), bias=False)\n",
       "      (bn2): BatchNorm2d(512, eps=1e-05, momentum=0.1, affine=True, track_running_stats=True)\n",
       "    )\n",
       "  )\n",
       "  (avgpool): AdaptiveAvgPool2d(output_size=(1, 1))\n",
       "  (fc): Linear(in_features=512, out_features=6, bias=True)\n",
       ")"
      ]
     },
     "execution_count": 8,
     "metadata": {},
     "output_type": "execute_result"
    }
   ],
   "source": [
    "model = models.resnet18(weights=models.ResNet18_Weights.IMAGENET1K_V1)\n",
    "        \n",
    "num_features = model.fc.in_features\n",
    "model.fc = nn.Linear(num_features, 6)\n",
    "criterion = nn.CrossEntropyLoss()\n",
    "optimizer = torch.optim.Adam(model.parameters(), lr=learning_rate)\n",
    "        \n",
    "model"
   ]
  },
  {
   "cell_type": "code",
   "execution_count": 9,
   "id": "afb36cb0",
   "metadata": {
    "execution": {
     "iopub.execute_input": "2025-06-03T02:39:05.787499Z",
     "iopub.status.busy": "2025-06-03T02:39:05.787271Z",
     "iopub.status.idle": "2025-06-03T02:39:05.796008Z",
     "shell.execute_reply": "2025-06-03T02:39:05.795396Z"
    },
    "papermill": {
     "duration": 0.027966,
     "end_time": "2025-06-03T02:39:05.797051",
     "exception": false,
     "start_time": "2025-06-03T02:39:05.769085",
     "status": "completed"
    },
    "tags": []
   },
   "outputs": [],
   "source": [
    "def train_model(data_loader, model, criterion, optimizer, num_epochs, device, early_stop= True, patience=10):\n",
    "    model= model.to(device)\n",
    "    model= torch.nn.DataParallel(model)\n",
    "\n",
    "    since =time.time()\n",
    "\n",
    "    best_model_wts = copy.deepcopy(model.state_dict())\n",
    "    best_val_acc =0.0\n",
    "    best_epoch = 0.0\n",
    "    wait = 0\n",
    "\n",
    "    history = {\"Train_Loss\":[],\"Train_Acc\":[],\"Validation_Loss\":[],\"Validation_Acc\":[],\"Time\":[]}\n",
    "\n",
    "    result_current = {\"Train_Loss\": None,\n",
    "                        \"Train_Acc\":None,\n",
    "                        \"Validition_Loss\": None,\n",
    "                        \"Validition_ACC\":None\n",
    "                     }\n",
    "    for epoch in range(num_epochs):\n",
    "        \n",
    "        print(\"-----------------------------------------------------------------------\")\n",
    "        print(f\"Epoch {epoch+1}/{num_epochs}\")\n",
    "        epoch_start = time.time()\n",
    "        \n",
    "        for phase in [\"Train\", \"Validation\"]:\n",
    "            if phase == \"Train\":\n",
    "                model.train()\n",
    "            else:\n",
    "                model.eval()\n",
    "\n",
    "            running_loss, running_correct = 0.0, 0\n",
    "            total_samples = 0\n",
    "            \n",
    "            for images, labels in tqdm(data_loader[phase], desc=\"Training And Evaluation\"):\n",
    "                images = images.to(device)\n",
    "                labels = labels.to(device)\n",
    "                \n",
    "                with torch.set_grad_enabled(phase==\"Train\"):\n",
    "                    outputs = model(images)\n",
    "                    _, predicts = torch.max(outputs, dim=1)\n",
    "                    loss = criterion(outputs, labels)\n",
    "                    \n",
    "                    if phase == \"Train\":\n",
    "                        optimizer.zero_grad()\n",
    "                        loss.backward()\n",
    "                        optimizer.step()\n",
    "                        \n",
    "                running_loss += loss.item() * images.size(0)\n",
    "                running_correct += torch.sum(predicts == labels).item()\n",
    "                total_samples += images.size(0)\n",
    "                \n",
    "            epoch_loss = running_loss / total_samples\n",
    "            epoch_acc = running_correct / total_samples\n",
    "\n",
    "            result_current[f\"{phase}_Loss\"] = epoch_loss\n",
    "            result_current[f\"{phase}_Acc\"] = epoch_acc\n",
    "            \n",
    "            history[f\"{phase}_Loss\"].append(epoch_loss)\n",
    "            history[f\"{phase}_Acc\"].append(epoch_acc)\n",
    "\n",
    "            if phase == \"Validation\":\n",
    "                if epoch_acc > best_val_acc:\n",
    "                    best_val_acc = epoch_acc\n",
    "                    best_model_wts = copy.deepcopy(model.state_dict())\n",
    "                    best_epoch = epoch\n",
    "                    wait = 0\n",
    "                else:\n",
    "                    wait += 1\n",
    "        epoch_duration= time.time()- epoch_start\n",
    "        history[\"Time\"].append(epoch_duration)\n",
    "        print(f\"Train Loss: {result_current['Train_Loss']:.4f}, Train Acc: {result_current['Train_Acc']:.4f}\")\n",
    "        print(f\"Valid Loss: {result_current['Validation_Loss']:.4f}, Valid Acc: {result_current['Validation_Acc']:.4f}\")\n",
    "        print(f\"Epoch {epoch+1} finished in {epoch_duration:.2f}s\")\n",
    "    \n",
    "        if early_stop and wait >= patience:\n",
    "            print(f\"Early stopping at epoch {epoch+1} (no improvement in {patience} epochs).\")\n",
    "            break\n",
    "    \n",
    "    print(\"-----------------------------------------------------------------------\")\n",
    "    time_elapse = time.time() - since\n",
    "    print(f\"Training Complete In {time_elapse}s\")\n",
    "    \n",
    "    model.load_state_dict(best_model_wts)\n",
    "\n",
    "    return model, pd.DataFrame(history), time_elapse, best_val_acc, best_epoch"
   ]
  },
  {
   "cell_type": "code",
   "execution_count": 10,
   "id": "8b6e2222",
   "metadata": {
    "execution": {
     "iopub.execute_input": "2025-06-03T02:39:05.833717Z",
     "iopub.status.busy": "2025-06-03T02:39:05.833511Z",
     "iopub.status.idle": "2025-06-03T03:38:02.847770Z",
     "shell.execute_reply": "2025-06-03T03:38:02.845487Z"
    },
    "papermill": {
     "duration": 3537.034279,
     "end_time": "2025-06-03T03:38:02.849363",
     "exception": false,
     "start_time": "2025-06-03T02:39:05.815084",
     "status": "completed"
    },
    "tags": []
   },
   "outputs": [
    {
     "name": "stdout",
     "output_type": "stream",
     "text": [
      "-----------------------------------------------------------------------\n",
      "Epoch 1/100\n"
     ]
    },
    {
     "name": "stderr",
     "output_type": "stream",
     "text": [
      "Training And Evaluation: 100%|██████████| 57/57 [03:01<00:00,  3.19s/it]\n",
      "Training And Evaluation: 100%|██████████| 13/13 [00:15<00:00,  1.23s/it]\n"
     ]
    },
    {
     "name": "stdout",
     "output_type": "stream",
     "text": [
      "Train Loss: 0.6874, Train Acc: 0.7679\n",
      "Valid Loss: 0.2643, Valid Acc: 0.9173\n",
      "Epoch 1 finished in 197.79s\n",
      "-----------------------------------------------------------------------\n",
      "Epoch 2/100\n"
     ]
    },
    {
     "name": "stderr",
     "output_type": "stream",
     "text": [
      "Training And Evaluation: 100%|██████████| 57/57 [02:54<00:00,  3.05s/it]\n",
      "Training And Evaluation: 100%|██████████| 13/13 [00:14<00:00,  1.10s/it]\n"
     ]
    },
    {
     "name": "stdout",
     "output_type": "stream",
     "text": [
      "Train Loss: 0.2447, Train Acc: 0.9173\n",
      "Valid Loss: 0.2219, Valid Acc: 0.9380\n",
      "Epoch 2 finished in 188.38s\n",
      "-----------------------------------------------------------------------\n",
      "Epoch 3/100\n"
     ]
    },
    {
     "name": "stderr",
     "output_type": "stream",
     "text": [
      "Training And Evaluation: 100%|██████████| 57/57 [02:50<00:00,  3.00s/it]\n",
      "Training And Evaluation: 100%|██████████| 13/13 [00:13<00:00,  1.01s/it]\n"
     ]
    },
    {
     "name": "stdout",
     "output_type": "stream",
     "text": [
      "Train Loss: 0.1544, Train Acc: 0.9542\n",
      "Valid Loss: 0.2063, Valid Acc: 0.9354\n",
      "Epoch 3 finished in 183.89s\n",
      "-----------------------------------------------------------------------\n",
      "Epoch 4/100\n"
     ]
    },
    {
     "name": "stderr",
     "output_type": "stream",
     "text": [
      "Training And Evaluation: 100%|██████████| 57/57 [02:49<00:00,  2.97s/it]\n",
      "Training And Evaluation: 100%|██████████| 13/13 [00:12<00:00,  1.01it/s]\n"
     ]
    },
    {
     "name": "stdout",
     "output_type": "stream",
     "text": [
      "Train Loss: 0.1042, Train Acc: 0.9642\n",
      "Valid Loss: 0.1793, Valid Acc: 0.9509\n",
      "Epoch 4 finished in 182.45s\n",
      "-----------------------------------------------------------------------\n",
      "Epoch 5/100\n"
     ]
    },
    {
     "name": "stderr",
     "output_type": "stream",
     "text": [
      "Training And Evaluation: 100%|██████████| 57/57 [02:57<00:00,  3.11s/it]\n",
      "Training And Evaluation: 100%|██████████| 13/13 [00:14<00:00,  1.10s/it]\n"
     ]
    },
    {
     "name": "stdout",
     "output_type": "stream",
     "text": [
      "Train Loss: 0.0920, Train Acc: 0.9713\n",
      "Valid Loss: 0.2210, Valid Acc: 0.9406\n",
      "Epoch 5 finished in 191.36s\n",
      "-----------------------------------------------------------------------\n",
      "Epoch 6/100\n"
     ]
    },
    {
     "name": "stderr",
     "output_type": "stream",
     "text": [
      "Training And Evaluation: 100%|██████████| 57/57 [02:50<00:00,  2.99s/it]\n",
      "Training And Evaluation: 100%|██████████| 13/13 [00:12<00:00,  1.05it/s]\n"
     ]
    },
    {
     "name": "stdout",
     "output_type": "stream",
     "text": [
      "Train Loss: 0.0989, Train Acc: 0.9675\n",
      "Valid Loss: 0.2034, Valid Acc: 0.9457\n",
      "Epoch 6 finished in 182.72s\n",
      "-----------------------------------------------------------------------\n",
      "Epoch 7/100\n"
     ]
    },
    {
     "name": "stderr",
     "output_type": "stream",
     "text": [
      "Training And Evaluation: 100%|██████████| 57/57 [02:52<00:00,  3.03s/it]\n",
      "Training And Evaluation: 100%|██████████| 13/13 [00:12<00:00,  1.01it/s]\n"
     ]
    },
    {
     "name": "stdout",
     "output_type": "stream",
     "text": [
      "Train Loss: 0.0798, Train Acc: 0.9746\n",
      "Valid Loss: 0.1959, Valid Acc: 0.9509\n",
      "Epoch 7 finished in 185.41s\n",
      "-----------------------------------------------------------------------\n",
      "Epoch 8/100\n"
     ]
    },
    {
     "name": "stderr",
     "output_type": "stream",
     "text": [
      "Training And Evaluation: 100%|██████████| 57/57 [02:55<00:00,  3.07s/it]\n",
      "Training And Evaluation: 100%|██████████| 13/13 [00:12<00:00,  1.01it/s]\n"
     ]
    },
    {
     "name": "stdout",
     "output_type": "stream",
     "text": [
      "Train Loss: 0.0535, Train Acc: 0.9840\n",
      "Valid Loss: 0.1587, Valid Acc: 0.9587\n",
      "Epoch 8 finished in 188.06s\n",
      "-----------------------------------------------------------------------\n",
      "Epoch 9/100\n"
     ]
    },
    {
     "name": "stderr",
     "output_type": "stream",
     "text": [
      "Training And Evaluation: 100%|██████████| 57/57 [02:52<00:00,  3.02s/it]\n",
      "Training And Evaluation: 100%|██████████| 13/13 [00:12<00:00,  1.01it/s]\n"
     ]
    },
    {
     "name": "stdout",
     "output_type": "stream",
     "text": [
      "Train Loss: 0.0454, Train Acc: 0.9868\n",
      "Valid Loss: 0.1694, Valid Acc: 0.9612\n",
      "Epoch 9 finished in 185.20s\n",
      "-----------------------------------------------------------------------\n",
      "Epoch 10/100\n"
     ]
    },
    {
     "name": "stderr",
     "output_type": "stream",
     "text": [
      "Training And Evaluation: 100%|██████████| 57/57 [02:52<00:00,  3.03s/it]\n",
      "Training And Evaluation: 100%|██████████| 13/13 [00:12<00:00,  1.00it/s]\n"
     ]
    },
    {
     "name": "stdout",
     "output_type": "stream",
     "text": [
      "Train Loss: 0.0400, Train Acc: 0.9890\n",
      "Valid Loss: 0.1931, Valid Acc: 0.9535\n",
      "Epoch 10 finished in 185.62s\n",
      "-----------------------------------------------------------------------\n",
      "Epoch 11/100\n"
     ]
    },
    {
     "name": "stderr",
     "output_type": "stream",
     "text": [
      "Training And Evaluation: 100%|██████████| 57/57 [02:52<00:00,  3.02s/it]\n",
      "Training And Evaluation: 100%|██████████| 13/13 [00:14<00:00,  1.15s/it]\n"
     ]
    },
    {
     "name": "stdout",
     "output_type": "stream",
     "text": [
      "Train Loss: 0.0439, Train Acc: 0.9868\n",
      "Valid Loss: 0.1854, Valid Acc: 0.9509\n",
      "Epoch 11 finished in 187.09s\n",
      "-----------------------------------------------------------------------\n",
      "Epoch 12/100\n"
     ]
    },
    {
     "name": "stderr",
     "output_type": "stream",
     "text": [
      "Training And Evaluation: 100%|██████████| 57/57 [02:52<00:00,  3.02s/it]\n",
      "Training And Evaluation: 100%|██████████| 13/13 [00:13<00:00,  1.02s/it]\n"
     ]
    },
    {
     "name": "stdout",
     "output_type": "stream",
     "text": [
      "Train Loss: 0.0323, Train Acc: 0.9879\n",
      "Valid Loss: 0.1743, Valid Acc: 0.9612\n",
      "Epoch 12 finished in 185.31s\n",
      "-----------------------------------------------------------------------\n",
      "Epoch 13/100\n"
     ]
    },
    {
     "name": "stderr",
     "output_type": "stream",
     "text": [
      "Training And Evaluation: 100%|██████████| 57/57 [02:52<00:00,  3.02s/it]\n",
      "Training And Evaluation: 100%|██████████| 13/13 [00:13<00:00,  1.03s/it]\n"
     ]
    },
    {
     "name": "stdout",
     "output_type": "stream",
     "text": [
      "Train Loss: 0.0272, Train Acc: 0.9934\n",
      "Valid Loss: 0.1720, Valid Acc: 0.9612\n",
      "Epoch 13 finished in 185.56s\n",
      "-----------------------------------------------------------------------\n",
      "Epoch 14/100\n"
     ]
    },
    {
     "name": "stderr",
     "output_type": "stream",
     "text": [
      "Training And Evaluation: 100%|██████████| 57/57 [02:51<00:00,  3.00s/it]\n",
      "Training And Evaluation: 100%|██████████| 13/13 [00:12<00:00,  1.02it/s]\n"
     ]
    },
    {
     "name": "stdout",
     "output_type": "stream",
     "text": [
      "Train Loss: 0.0317, Train Acc: 0.9895\n",
      "Valid Loss: 0.2243, Valid Acc: 0.9406\n",
      "Epoch 14 finished in 183.78s\n",
      "-----------------------------------------------------------------------\n",
      "Epoch 15/100\n"
     ]
    },
    {
     "name": "stderr",
     "output_type": "stream",
     "text": [
      "Training And Evaluation: 100%|██████████| 57/57 [02:51<00:00,  3.01s/it]\n",
      "Training And Evaluation: 100%|██████████| 13/13 [00:12<00:00,  1.01it/s]\n"
     ]
    },
    {
     "name": "stdout",
     "output_type": "stream",
     "text": [
      "Train Loss: 0.0284, Train Acc: 0.9912\n",
      "Valid Loss: 0.2259, Valid Acc: 0.9535\n",
      "Epoch 15 finished in 184.35s\n",
      "-----------------------------------------------------------------------\n",
      "Epoch 16/100\n"
     ]
    },
    {
     "name": "stderr",
     "output_type": "stream",
     "text": [
      "Training And Evaluation: 100%|██████████| 57/57 [02:51<00:00,  3.00s/it]\n",
      "Training And Evaluation: 100%|██████████| 13/13 [00:12<00:00,  1.01it/s]\n"
     ]
    },
    {
     "name": "stdout",
     "output_type": "stream",
     "text": [
      "Train Loss: 0.0341, Train Acc: 0.9884\n",
      "Valid Loss: 0.2307, Valid Acc: 0.9457\n",
      "Epoch 16 finished in 183.97s\n",
      "-----------------------------------------------------------------------\n",
      "Epoch 17/100\n"
     ]
    },
    {
     "name": "stderr",
     "output_type": "stream",
     "text": [
      "Training And Evaluation: 100%|██████████| 57/57 [02:51<00:00,  3.02s/it]\n",
      "Training And Evaluation: 100%|██████████| 13/13 [00:12<00:00,  1.00it/s]\n"
     ]
    },
    {
     "name": "stdout",
     "output_type": "stream",
     "text": [
      "Train Loss: 0.0571, Train Acc: 0.9813\n",
      "Valid Loss: 0.2578, Valid Acc: 0.9406\n",
      "Epoch 17 finished in 184.83s\n",
      "-----------------------------------------------------------------------\n",
      "Epoch 18/100\n"
     ]
    },
    {
     "name": "stderr",
     "output_type": "stream",
     "text": [
      "Training And Evaluation: 100%|██████████| 57/57 [02:50<00:00,  3.00s/it]\n",
      "Training And Evaluation: 100%|██████████| 13/13 [00:14<00:00,  1.08s/it]\n"
     ]
    },
    {
     "name": "stdout",
     "output_type": "stream",
     "text": [
      "Train Loss: 0.0354, Train Acc: 0.9868\n",
      "Valid Loss: 0.1915, Valid Acc: 0.9457\n",
      "Epoch 18 finished in 184.93s\n",
      "-----------------------------------------------------------------------\n",
      "Epoch 19/100\n"
     ]
    },
    {
     "name": "stderr",
     "output_type": "stream",
     "text": [
      "Training And Evaluation: 100%|██████████| 57/57 [02:51<00:00,  3.01s/it]\n",
      "Training And Evaluation: 100%|██████████| 13/13 [00:14<00:00,  1.12s/it]"
     ]
    },
    {
     "name": "stdout",
     "output_type": "stream",
     "text": [
      "Train Loss: 0.0309, Train Acc: 0.9901\n",
      "Valid Loss: 0.1770, Valid Acc: 0.9483\n",
      "Epoch 19 finished in 186.26s\n",
      "Early stopping at epoch 19 (no improvement in 10 epochs).\n",
      "-----------------------------------------------------------------------\n",
      "Training Complete In 3536.982792377472s\n"
     ]
    },
    {
     "name": "stderr",
     "output_type": "stream",
     "text": [
      "\n"
     ]
    }
   ],
   "source": [
    "model, history, time_elapse, best_val_acc, best_epoch = train_model(data_loader=data_loader, model=model, \n",
    "                                                                    criterion=criterion, optimizer=optimizer, \n",
    "                                                                    num_epochs=epoch, device=device, \n",
    "                                                                    early_stop=True, patience=10)"
   ]
  },
  {
   "cell_type": "code",
   "execution_count": 11,
   "id": "6b5f2174",
   "metadata": {
    "execution": {
     "iopub.execute_input": "2025-06-03T03:38:02.993915Z",
     "iopub.status.busy": "2025-06-03T03:38:02.993391Z",
     "iopub.status.idle": "2025-06-03T03:38:03.691982Z",
     "shell.execute_reply": "2025-06-03T03:38:03.691045Z"
    },
    "papermill": {
     "duration": 0.773166,
     "end_time": "2025-06-03T03:38:03.693336",
     "exception": false,
     "start_time": "2025-06-03T03:38:02.920170",
     "status": "completed"
    },
    "tags": []
   },
   "outputs": [
    {
     "data": {
      "image/png": "[encoded data removed]",
      "text/plain": [
       "<Figure size 1500x500 with 2 Axes>"
      ]
     },
     "metadata": {},
     "output_type": "display_data"
    }
   ],
   "source": [
    "fig, axs = plt.subplots(nrows=1, ncols=2, figsize=(15, 5))\n",
    "\n",
    "axs[0].plot(history['Train_Acc'], label='Train Accuracy')\n",
    "axs[0].plot(history['Validation_Acc'], label='Validation Accuracy')\n",
    "axs[0].set_xlabel('Epoch')\n",
    "axs[0].set_ylabel('Accuracy')\n",
    "axs[0].set_title('Training and Validation Accuracy')\n",
    "axs[0].legend()\n",
    "\n",
    "axs[1].plot(history['Train_Loss'], label='Train Loss')\n",
    "axs[1].plot(history['Validation_Loss'], label='Validation Loss')\n",
    "axs[1].set_xlabel('Epoch')\n",
    "axs[1].set_ylabel('Loss')\n",
    "axs[1].set_title('Training and Validation Loss')\n",
    "axs[1].legend()\n",
    "\n",
    "plt.tight_layout()\n",
    "plt.savefig(os.path.join(path, \"plot_loss_acc.png\"))\n",
    "plt.show()"
   ]
  },
  {
   "cell_type": "code",
   "execution_count": 12,
   "id": "51f3c1e3",
   "metadata": {
    "execution": {
     "iopub.execute_input": "2025-06-03T03:38:03.835162Z",
     "iopub.status.busy": "2025-06-03T03:38:03.834553Z",
     "iopub.status.idle": "2025-06-03T03:38:21.922078Z",
     "shell.execute_reply": "2025-06-03T03:38:21.921468Z"
    },
    "papermill": {
     "duration": 18.159269,
     "end_time": "2025-06-03T03:38:21.923340",
     "exception": false,
     "start_time": "2025-06-03T03:38:03.764071",
     "status": "completed"
    },
    "tags": []
   },
   "outputs": [
    {
     "name": "stdout",
     "output_type": "stream",
     "text": [
      "Accuracy: 0.9441624365482234\n",
      "Precision: 0.9440589757922337\n",
      "Recall: 0.9441624365482234\n",
      "F1-Score: 0.9434244010944268\n",
      "                     precision    recall  f1-score   support\n",
      "\n",
      "         Leaf_Algal     0.9855    0.9714    0.9784        70\n",
      "        Leaf_Blight     0.8906    0.8636    0.8769        66\n",
      "Leaf_Colletotrichum     0.9444    0.8500    0.8947        60\n",
      "       Leaf_Healthy     0.9737    1.0000    0.9867        74\n",
      "     Leaf_Phomopsis     0.9403    1.0000    0.9692        63\n",
      "   Leaf_Rhizoctonia     0.9219    0.9672    0.9440        61\n",
      "\n",
      "           accuracy                         0.9442       394\n",
      "          macro avg     0.9427    0.9420    0.9417       394\n",
      "       weighted avg     0.9441    0.9442    0.9434       394\n",
      "\n"
     ]
    },
    {
     "data": {
      "image/png": "[encoded data removed]",
      "text/plain": [
       "<Figure size 1000x800 with 2 Axes>"
      ]
     },
     "metadata": {},
     "output_type": "display_data"
    }
   ],
   "source": [
    "model.eval()\n",
    "\n",
    "with torch.no_grad():\n",
    "    \n",
    "    all_correct = []\n",
    "    all_predict = []\n",
    "    \n",
    "    for images, labels in test_loader:\n",
    "        images, labels = images.to(device), labels.to(device)\n",
    "        outputs = model(images)\n",
    "        _, predicts = torch.max(outputs, dim=1)\n",
    "\n",
    "        all_correct.extend(labels.cpu().numpy())\n",
    "        all_predict.extend(predicts.cpu().numpy())\n",
    "\n",
    "    acc = accuracy_score(all_correct, all_predict)\n",
    "    precision = precision_score(all_correct, all_predict, average='weighted')\n",
    "    recall = recall_score(all_correct, all_predict, average='weighted')\n",
    "    f1 = f1_score(all_correct, all_predict, average='weighted')\n",
    "    \n",
    "    input_res = (3, 224, 224)\n",
    "    flops, params = get_model_complexity_info(model, input_res, as_strings=True, print_per_layer_stat=False)\n",
    "    \n",
    "    total_params = sum(p.numel() for p in model.parameters())\n",
    "    trainable_params = sum(p.numel() for p in model.parameters() if p.requires_grad)\n",
    "    \n",
    "    print(f\"Accuracy: {acc}\")\n",
    "    print(f\"Precision: {precision}\")\n",
    "    print(f\"Recall: {recall}\")\n",
    "    print(f\"F1-Score: {f1}\")\n",
    "\n",
    "    result = {\n",
    "        \"Model\": model_name,\n",
    "        \"Optimizer\": \"Adam\",\n",
    "        \"Learning_Rate\": learning_rate,\n",
    "        \"Batch_Size\": BATCH_SIZE,\n",
    "        \"Num_Epoch\": epoch,\n",
    "        \"Early_Stop\": best_epoch,\n",
    "        \"Training_Time\": time_elapse,\n",
    "        \"Best_Val_Acc\": best_val_acc,\n",
    "        \"Accuracy\": acc,\n",
    "        \"Precision\": precision,\n",
    "        \"Recall\": recall,\n",
    "        \"F1-Score\": f1,\n",
    "        \"FLOPs\": flops,\n",
    "        \"Params\": params,\n",
    "        \"Total_Params\": total_params,\n",
    "        \"Trainable_Params\": trainable_params,\n",
    "             }\n",
    "    \n",
    "    result_df = pd.DataFrame([result])\n",
    "    result_df.to_csv(os.path.join(path, \"result.csv\"), index=False)\n",
    "    \n",
    "    report = classification_report(all_correct, all_predict, target_names=train_dataset.classes, digits=4)\n",
    "    print(report)\n",
    "    with open(os.path.join(path, \"classification_report.txt\"), \"w\") as f:\n",
    "        f.write(report)\n",
    "        \n",
    "    cm = confusion_matrix(all_correct, all_predict)\n",
    "    \n",
    "    # Hiển thị confusion matrix dưới dạng heatmap\n",
    "    plt.figure(figsize=(10, 8))\n",
    "    sns.heatmap(cm, annot=True, fmt='d', cmap='Blues', xticklabels=train_dataset.classes, yticklabels=train_dataset.classes)\n",
    "    plt.xlabel('Predicted')\n",
    "    plt.ylabel('Actual')\n",
    "    plt.title('Confusion Matrix')\n",
    "\n",
    "    plt.tight_layout()\n",
    "    plt.savefig(os.path.join(path, 'confusion_matrix.png'))\n",
    "    plt.show()\n",
    "    \n",
    "    plt.close()"
   ]
  },
  {
   "cell_type": "code",
   "execution_count": 13,
   "id": "5a34164f",
   "metadata": {
    "execution": {
     "iopub.execute_input": "2025-06-03T03:38:22.063318Z",
     "iopub.status.busy": "2025-06-03T03:38:22.063020Z",
     "iopub.status.idle": "2025-06-03T03:38:22.138735Z",
     "shell.execute_reply": "2025-06-03T03:38:22.138140Z"
    },
    "papermill": {
     "duration": 0.146799,
     "end_time": "2025-06-03T03:38:22.139989",
     "exception": false,
     "start_time": "2025-06-03T03:38:21.993190",
     "status": "completed"
    },
    "tags": []
   },
   "outputs": [],
   "source": [
    "torch.save(model.state_dict(), os.path.join(path, f'{model_name}_weights.pth'))\n",
    "history.to_csv(os.path.join(path, \"history.csv\"), index=False)"
   ]
  },
  {
   "cell_type": "code",
   "execution_count": 14,
   "id": "f6c8612a",
   "metadata": {
    "execution": {
     "iopub.execute_input": "2025-06-03T03:38:22.289562Z",
     "iopub.status.busy": "2025-06-03T03:38:22.289311Z",
     "iopub.status.idle": "2025-06-03T03:38:24.205362Z",
     "shell.execute_reply": "2025-06-03T03:38:24.204669Z"
    },
    "papermill": {
     "duration": 1.988509,
     "end_time": "2025-06-03T03:38:24.206438",
     "exception": false,
     "start_time": "2025-06-03T03:38:22.217929",
     "status": "completed"
    },
    "tags": []
   },
   "outputs": [
    {
     "data": {
      "text/plain": [
       "'/kaggle/working/result_Resnet18.zip'"
      ]
     },
     "execution_count": 14,
     "metadata": {},
     "output_type": "execute_result"
    }
   ],
   "source": [
    "import shutil\n",
    "\n",
    "shutil.make_archive(path, 'zip', path)"
   ]
  }
 ],
 "metadata": {
  "kaggle": {
   "accelerator": "none",
   "dataSources": [
    {
     "datasetId": 7562468,
     "sourceId": 12020170,
     "sourceType": "datasetVersion"
    }
   ],
   "dockerImageVersionId": 31040,
   "isGpuEnabled": false,
   "isInternetEnabled": true,
   "language": "python",
   "sourceType": "notebook"
  },
  "kernelspec": {
   "display_name": "Python 3",
   "language": "python",
   "name": "python3"
  },
  "language_info": {
   "codemirror_mode": {
    "name": "ipython",
    "version": 3
   },
   "file_extension": ".py",
   "mimetype": "text/x-python",
   "name": "python",
   "nbconvert_exporter": "python",
   "pygments_lexer": "ipython3",
   "version": "3.11.11"
  },
  "papermill": {
   "default_parameters": {},
   "duration": 3656.446503,
   "end_time": "2025-06-03T03:38:27.096774",
   "environment_variables": {},
   "exception": null,
   "input_path": "__notebook__.ipynb",
   "output_path": "__notebook__.ipynb",
   "parameters": {},
   "start_time": "2025-06-03T02:37:30.650271",
   "version": "2.6.0"
  }
 },
 "nbformat": 4,
 "nbformat_minor": 5
}
