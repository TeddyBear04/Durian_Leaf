{
 "cells": [
  {
   "cell_type": "code",
   "execution_count": 1,
   "id": "dc6f4c39",
   "metadata": {
    "_cell_guid": "b1076dfc-b9ad-4769-8c92-a6c4dae69d19",
    "_uuid": "8f2839f25d086af736a60e9eeb907d3b93b6e0e5",
    "execution": {
     "iopub.execute_input": "2025-06-03T09:30:28.009590Z",
     "iopub.status.busy": "2025-06-03T09:30:28.009317Z",
     "iopub.status.idle": "2025-06-03T09:31:44.502765Z",
     "shell.execute_reply": "2025-06-03T09:31:44.501728Z"
    },
    "papermill": {
     "duration": 76.499372,
     "end_time": "2025-06-03T09:31:44.504465",
     "exception": false,
     "start_time": "2025-06-03T09:30:28.005093",
     "status": "completed"
    },
    "tags": []
   },
   "outputs": [
    {
     "name": "stdout",
     "output_type": "stream",
     "text": [
      "Collecting ptflops\r\n",
      "  Downloading ptflops-0.7.4-py3-none-any.whl.metadata (9.4 kB)\r\n",
      "Requirement already satisfied: torch>=2.0 in /usr/local/lib/python3.11/dist-packages (from ptflops) (2.6.0+cu124)\r\n",
      "Requirement already satisfied: filelock in /usr/local/lib/python3.11/dist-packages (from torch>=2.0->ptflops) (3.18.0)\r\n",
      "Requirement already satisfied: typing-extensions>=4.10.0 in /usr/local/lib/python3.11/dist-packages (from torch>=2.0->ptflops) (4.13.2)\r\n",
      "Requirement already satisfied: networkx in /usr/local/lib/python3.11/dist-packages (from torch>=2.0->ptflops) (3.4.2)\r\n",
      "Requirement already satisfied: jinja2 in /usr/local/lib/python3.11/dist-packages (from torch>=2.0->ptflops) (3.1.6)\r\n",
      "Requirement already satisfied: fsspec in /usr/local/lib/python3.11/dist-packages (from torch>=2.0->ptflops) (2025.3.2)\r\n",
      "Requirement already satisfied: nvidia-cuda-nvrtc-cu12==12.4.127 in /usr/local/lib/python3.11/dist-packages (from torch>=2.0->ptflops) (12.4.127)\r\n",
      "Requirement already satisfied: nvidia-cuda-runtime-cu12==12.4.127 in /usr/local/lib/python3.11/dist-packages (from torch>=2.0->ptflops) (12.4.127)\r\n",
      "Requirement already satisfied: nvidia-cuda-cupti-cu12==12.4.127 in /usr/local/lib/python3.11/dist-packages (from torch>=2.0->ptflops) (12.4.127)\r\n",
      "Collecting nvidia-cudnn-cu12==9.1.0.70 (from torch>=2.0->ptflops)\r\n",
      "  Downloading nvidia_cudnn_cu12-9.1.0.70-py3-none-manylinux2014_x86_64.whl.metadata (1.6 kB)\r\n",
      "Collecting nvidia-cublas-cu12==12.4.5.8 (from torch>=2.0->ptflops)\r\n",
      "  Downloading nvidia_cublas_cu12-12.4.5.8-py3-none-manylinux2014_x86_64.whl.metadata (1.5 kB)\r\n",
      "Collecting nvidia-cufft-cu12==11.2.1.3 (from torch>=2.0->ptflops)\r\n",
      "  Downloading nvidia_cufft_cu12-11.2.1.3-py3-none-manylinux2014_x86_64.whl.metadata (1.5 kB)\r\n",
      "Collecting nvidia-curand-cu12==10.3.5.147 (from torch>=2.0->ptflops)\r\n",
      "  Downloading nvidia_curand_cu12-10.3.5.147-py3-none-manylinux2014_x86_64.whl.metadata (1.5 kB)\r\n",
      "Collecting nvidia-cusolver-cu12==11.6.1.9 (from torch>=2.0->ptflops)\r\n",
      "  Downloading nvidia_cusolver_cu12-11.6.1.9-py3-none-manylinux2014_x86_64.whl.metadata (1.6 kB)\r\n",
      "Collecting nvidia-cusparse-cu12==12.3.1.170 (from torch>=2.0->ptflops)\r\n",
      "  Downloading nvidia_cusparse_cu12-12.3.1.170-py3-none-manylinux2014_x86_64.whl.metadata (1.6 kB)\r\n",
      "Requirement already satisfied: nvidia-cusparselt-cu12==0.6.2 in /usr/local/lib/python3.11/dist-packages (from torch>=2.0->ptflops) (0.6.2)\r\n",
      "Requirement already satisfied: nvidia-nccl-cu12==2.21.5 in /usr/local/lib/python3.11/dist-packages (from torch>=2.0->ptflops) (2.21.5)\r\n",
      "Requirement already satisfied: nvidia-nvtx-cu12==12.4.127 in /usr/local/lib/python3.11/dist-packages (from torch>=2.0->ptflops) (12.4.127)\r\n",
      "Collecting nvidia-nvjitlink-cu12==12.4.127 (from torch>=2.0->ptflops)\r\n",
      "  Downloading nvidia_nvjitlink_cu12-12.4.127-py3-none-manylinux2014_x86_64.whl.metadata (1.5 kB)\r\n",
      "Requirement already satisfied: triton==3.2.0 in /usr/local/lib/python3.11/dist-packages (from torch>=2.0->ptflops) (3.2.0)\r\n",
      "Requirement already satisfied: sympy==1.13.1 in /usr/local/lib/python3.11/dist-packages (from torch>=2.0->ptflops) (1.13.1)\r\n",
      "Requirement already satisfied: mpmath<1.4,>=1.1.0 in /usr/local/lib/python3.11/dist-packages (from sympy==1.13.1->torch>=2.0->ptflops) (1.3.0)\r\n",
      "Requirement already satisfied: MarkupSafe>=2.0 in /usr/local/lib/python3.11/dist-packages (from jinja2->torch>=2.0->ptflops) (3.0.2)\r\n",
      "Downloading ptflops-0.7.4-py3-none-any.whl (19 kB)\r\n",
      "Downloading nvidia_cublas_cu12-12.4.5.8-py3-none-manylinux2014_x86_64.whl (363.4 MB)\r\n",
      "\u001b[2K   \u001b[90m━━━━━━━━━━━━━━━━━━━━━━━━━━━━━━━━━━━━━━━━\u001b[0m \u001b[32m363.4/363.4 MB\u001b[0m \u001b[31m4.7 MB/s\u001b[0m eta \u001b[36m0:00:00\u001b[0m\r\n",
      "\u001b[?25hDownloading nvidia_cudnn_cu12-9.1.0.70-py3-none-manylinux2014_x86_64.whl (664.8 MB)\r\n",
      "\u001b[2K   \u001b[90m━━━━━━━━━━━━━━━━━━━━━━━━━━━━━━━━━━━━━━━━\u001b[0m \u001b[32m664.8/664.8 MB\u001b[0m \u001b[31m2.5 MB/s\u001b[0m eta \u001b[36m0:00:00\u001b[0m\r\n",
      "\u001b[?25hDownloading nvidia_cufft_cu12-11.2.1.3-py3-none-manylinux2014_x86_64.whl (211.5 MB)\r\n",
      "\u001b[2K   \u001b[90m━━━━━━━━━━━━━━━━━━━━━━━━━━━━━━━━━━━━━━━━\u001b[0m \u001b[32m211.5/211.5 MB\u001b[0m \u001b[31m2.0 MB/s\u001b[0m eta \u001b[36m0:00:00\u001b[0m\r\n",
      "\u001b[?25hDownloading nvidia_curand_cu12-10.3.5.147-py3-none-manylinux2014_x86_64.whl (56.3 MB)\r\n",
      "\u001b[2K   \u001b[90m━━━━━━━━━━━━━━━━━━━━━━━━━━━━━━━━━━━━━━━━\u001b[0m \u001b[32m56.3/56.3 MB\u001b[0m \u001b[31m30.2 MB/s\u001b[0m eta \u001b[36m0:00:00\u001b[0m\r\n",
      "\u001b[?25hDownloading nvidia_cusolver_cu12-11.6.1.9-py3-none-manylinux2014_x86_64.whl (127.9 MB)\r\n",
      "\u001b[2K   \u001b[90m━━━━━━━━━━━━━━━━━━━━━━━━━━━━━━━━━━━━━━━━\u001b[0m \u001b[32m127.9/127.9 MB\u001b[0m \u001b[31m12.9 MB/s\u001b[0m eta \u001b[36m0:00:00\u001b[0m\r\n",
      "\u001b[?25hDownloading nvidia_cusparse_cu12-12.3.1.170-py3-none-manylinux2014_x86_64.whl (207.5 MB)\r\n",
      "\u001b[2K   \u001b[90m━━━━━━━━━━━━━━━━━━━━━━━━━━━━━━━━━━━━━━━━\u001b[0m \u001b[32m207.5/207.5 MB\u001b[0m \u001b[31m7.6 MB/s\u001b[0m eta \u001b[36m0:00:00\u001b[0m\r\n",
      "\u001b[?25hDownloading nvidia_nvjitlink_cu12-12.4.127-py3-none-manylinux2014_x86_64.whl (21.1 MB)\r\n",
      "\u001b[2K   \u001b[90m━━━━━━━━━━━━━━━━━━━━━━━━━━━━━━━━━━━━━━━━\u001b[0m \u001b[32m21.1/21.1 MB\u001b[0m \u001b[31m62.5 MB/s\u001b[0m eta \u001b[36m0:00:00\u001b[0m\r\n",
      "\u001b[?25hInstalling collected packages: nvidia-nvjitlink-cu12, nvidia-curand-cu12, nvidia-cufft-cu12, nvidia-cublas-cu12, nvidia-cusparse-cu12, nvidia-cudnn-cu12, nvidia-cusolver-cu12, ptflops\r\n",
      "  Attempting uninstall: nvidia-nvjitlink-cu12\r\n",
      "    Found existing installation: nvidia-nvjitlink-cu12 12.9.41\r\n",
      "    Uninstalling nvidia-nvjitlink-cu12-12.9.41:\r\n",
      "      Successfully uninstalled nvidia-nvjitlink-cu12-12.9.41\r\n",
      "  Attempting uninstall: nvidia-curand-cu12\r\n",
      "    Found existing installation: nvidia-curand-cu12 10.3.10.19\r\n",
      "    Uninstalling nvidia-curand-cu12-10.3.10.19:\r\n",
      "      Successfully uninstalled nvidia-curand-cu12-10.3.10.19\r\n",
      "  Attempting uninstall: nvidia-cufft-cu12\r\n",
      "    Found existing installation: nvidia-cufft-cu12 11.4.0.6\r\n",
      "    Uninstalling nvidia-cufft-cu12-11.4.0.6:\r\n",
      "      Successfully uninstalled nvidia-cufft-cu12-11.4.0.6\r\n",
      "  Attempting uninstall: nvidia-cublas-cu12\r\n",
      "    Found existing installation: nvidia-cublas-cu12 12.9.0.13\r\n",
      "    Uninstalling nvidia-cublas-cu12-12.9.0.13:\r\n",
      "      Successfully uninstalled nvidia-cublas-cu12-12.9.0.13\r\n",
      "  Attempting uninstall: nvidia-cusparse-cu12\r\n",
      "    Found existing installation: nvidia-cusparse-cu12 12.5.9.5\r\n",
      "    Uninstalling nvidia-cusparse-cu12-12.5.9.5:\r\n",
      "      Successfully uninstalled nvidia-cusparse-cu12-12.5.9.5\r\n",
      "  Attempting uninstall: nvidia-cudnn-cu12\r\n",
      "    Found existing installation: nvidia-cudnn-cu12 9.3.0.75\r\n",
      "    Uninstalling nvidia-cudnn-cu12-9.3.0.75:\r\n",
      "      Successfully uninstalled nvidia-cudnn-cu12-9.3.0.75\r\n",
      "  Attempting uninstall: nvidia-cusolver-cu12\r\n",
      "    Found existing installation: nvidia-cusolver-cu12 11.7.4.40\r\n",
      "    Uninstalling nvidia-cusolver-cu12-11.7.4.40:\r\n",
      "      Successfully uninstalled nvidia-cusolver-cu12-11.7.4.40\r\n",
      "Successfully installed nvidia-cublas-cu12-12.4.5.8 nvidia-cudnn-cu12-9.1.0.70 nvidia-cufft-cu12-11.2.1.3 nvidia-curand-cu12-10.3.5.147 nvidia-cusolver-cu12-11.6.1.9 nvidia-cusparse-cu12-12.3.1.170 nvidia-nvjitlink-cu12-12.4.127 ptflops-0.7.4\r\n"
     ]
    }
   ],
   "source": [
    "!pip install ptflops"
   ]
  },
  {
   "cell_type": "code",
   "execution_count": 2,
   "id": "a2abac82",
   "metadata": {
    "execution": {
     "iopub.execute_input": "2025-06-03T09:31:44.556144Z",
     "iopub.status.busy": "2025-06-03T09:31:44.555844Z",
     "iopub.status.idle": "2025-06-03T09:32:00.282306Z",
     "shell.execute_reply": "2025-06-03T09:32:00.281706Z"
    },
    "papermill": {
     "duration": 15.753716,
     "end_time": "2025-06-03T09:32:00.283643",
     "exception": false,
     "start_time": "2025-06-03T09:31:44.529927",
     "status": "completed"
    },
    "tags": []
   },
   "outputs": [],
   "source": [
    "import pandas as pd\n",
    "import numpy as np\n",
    "import torch\n",
    "import torchvision\n",
    "import torch.nn as nn\n",
    "from torchvision import datasets, transforms, models\n",
    "from torch.utils.data import Dataset, DataLoader\n",
    "import matplotlib.pyplot as plt\n",
    "from torchvision.io import read_image\n",
    "from PIL import Image\n",
    "import copy\n",
    "import time\n",
    "import os\n",
    "from sklearn.preprocessing import LabelEncoder\n",
    "from sklearn.metrics import classification_report, accuracy_score, f1_score, precision_score, recall_score, confusion_matrix\n",
    "from tqdm import tqdm\n",
    "import seaborn as sns\n",
    "from ptflops import get_model_complexity_info"
   ]
  },
  {
   "cell_type": "code",
   "execution_count": 3,
   "id": "156cc6df",
   "metadata": {
    "execution": {
     "iopub.execute_input": "2025-06-03T09:32:00.332243Z",
     "iopub.status.busy": "2025-06-03T09:32:00.331578Z",
     "iopub.status.idle": "2025-06-03T09:32:00.335494Z",
     "shell.execute_reply": "2025-06-03T09:32:00.334925Z"
    },
    "papermill": {
     "duration": 0.029244,
     "end_time": "2025-06-03T09:32:00.336686",
     "exception": false,
     "start_time": "2025-06-03T09:32:00.307442",
     "status": "completed"
    },
    "tags": []
   },
   "outputs": [],
   "source": [
    "learning_rate =1e-4\n",
    "BATCH_SIZE = 32\n",
    "epoch = 100\n",
    "model_name = \"EfficientNet_b0\""
   ]
  },
  {
   "cell_type": "code",
   "execution_count": 4,
   "id": "bdc47ea6",
   "metadata": {
    "execution": {
     "iopub.execute_input": "2025-06-03T09:32:00.383965Z",
     "iopub.status.busy": "2025-06-03T09:32:00.383785Z",
     "iopub.status.idle": "2025-06-03T09:32:00.387417Z",
     "shell.execute_reply": "2025-06-03T09:32:00.386648Z"
    },
    "papermill": {
     "duration": 0.028826,
     "end_time": "2025-06-03T09:32:00.388554",
     "exception": false,
     "start_time": "2025-06-03T09:32:00.359728",
     "status": "completed"
    },
    "tags": []
   },
   "outputs": [],
   "source": [
    "path = r\"/kaggle/working/\" + f\"result_{model_name}\"\n",
    "if not os.path.exists(path):\n",
    "    os.mkdir(path)"
   ]
  },
  {
   "cell_type": "code",
   "execution_count": 5,
   "id": "6d62136a",
   "metadata": {
    "execution": {
     "iopub.execute_input": "2025-06-03T09:32:00.436581Z",
     "iopub.status.busy": "2025-06-03T09:32:00.436381Z",
     "iopub.status.idle": "2025-06-03T09:32:05.481261Z",
     "shell.execute_reply": "2025-06-03T09:32:05.480245Z"
    },
    "papermill": {
     "duration": 5.070685,
     "end_time": "2025-06-03T09:32:05.482609",
     "exception": false,
     "start_time": "2025-06-03T09:32:00.411924",
     "status": "completed"
    },
    "tags": []
   },
   "outputs": [
    {
     "name": "stdout",
     "output_type": "stream",
     "text": [
      "Classes: ['Leaf_Algal', 'Leaf_Blight', 'Leaf_Colletotrichum', 'Leaf_Healthy', 'Leaf_Phomopsis', 'Leaf_Rhizoctonia']\n",
      "Số lượng ảnh trong tập train: 1814\n",
      "Số lượng ảnh trong tập val: 387\n",
      "Số lượng ảnh trong tập test: 394\n"
     ]
    }
   ],
   "source": [
    "train_path= r\"/kaggle/input/durian-leaf/A Durian Leaf/A Durian Leaf/A_Durian_Leaf_Image_Dataset/Durian_Leaf_Diseases/train\"\n",
    "val_path = r\"/kaggle/input/durian-leaf/A Durian Leaf/A Durian Leaf/A_Durian_Leaf_Image_Dataset/Durian_Leaf_Diseases/val\"\n",
    "test_path= r\"/kaggle/input/durian-leaf/A Durian Leaf/A Durian Leaf/A_Durian_Leaf_Image_Dataset/Durian_Leaf_Diseases/test\"\n",
    "\n",
    "mean=[0.485, 0.456, 0.406]\n",
    "std=[0.229, 0.224, 0.225]\n",
    "\n",
    "data_transform = {\n",
    "    'Train': transforms.Compose([\n",
    "        transforms.Resize((224, 224), interpolation=transforms.InterpolationMode.LANCZOS),\n",
    "        transforms.ColorJitter(brightness=0.2, contrast=0.2, saturation=0.2, hue=0.1),\n",
    "        transforms.RandomAffine(degrees=0, translate=(0.1, 0.1), scale=(0.8, 1.2)),\n",
    "        transforms.ToTensor(),\n",
    "        transforms.Normalize(mean, std),\n",
    "        transforms.RandomErasing(p=0.5, scale=(0.02, 0.2))  \n",
    "    ]),\n",
    "    \"Validation\": transforms.Compose([\n",
    "        transforms.Resize((224, 224), interpolation=transforms.InterpolationMode.LANCZOS),\n",
    "        transforms.ToTensor(),\n",
    "        transforms.Normalize(mean, std)\n",
    "    ]),\n",
    "    'Test': transforms.Compose([\n",
    "        transforms.Resize((224, 224), interpolation=transforms.InterpolationMode.LANCZOS),\n",
    "        transforms.ToTensor(),\n",
    "        transforms.Normalize(mean, std)\n",
    "    ])\n",
    "}\n",
    "\n",
    "train_dataset = datasets.ImageFolder(root=train_path, transform=data_transform[\"Train\"])\n",
    "val_dataset = datasets.ImageFolder(root=val_path, transform=data_transform[\"Validation\"])\n",
    "test_dataset = datasets.ImageFolder(root=test_path, transform=data_transform[\"Test\"])\n",
    "\n",
    "print(\"Classes:\", train_dataset.classes)\n",
    "\n",
    "print(f\"Số lượng ảnh trong tập train: {len(train_dataset)}\")\n",
    "print(f\"Số lượng ảnh trong tập val: {len(val_dataset)}\")\n",
    "print(f\"Số lượng ảnh trong tập test: {len(test_dataset)}\")"
   ]
  },
  {
   "cell_type": "code",
   "execution_count": 6,
   "id": "b50a70ba",
   "metadata": {
    "execution": {
     "iopub.execute_input": "2025-06-03T09:32:05.531018Z",
     "iopub.status.busy": "2025-06-03T09:32:05.530757Z",
     "iopub.status.idle": "2025-06-03T09:32:05.535292Z",
     "shell.execute_reply": "2025-06-03T09:32:05.534471Z"
    },
    "papermill": {
     "duration": 0.029975,
     "end_time": "2025-06-03T09:32:05.536457",
     "exception": false,
     "start_time": "2025-06-03T09:32:05.506482",
     "status": "completed"
    },
    "tags": []
   },
   "outputs": [],
   "source": [
    "train_loader = DataLoader(train_dataset, batch_size= BATCH_SIZE, shuffle= True)\n",
    "val_loader = DataLoader(val_dataset, batch_size= BATCH_SIZE, shuffle= True)\n",
    "test_loader = DataLoader(test_dataset, batch_size= BATCH_SIZE, shuffle= True)\n",
    "\n",
    "data_loader= {\"Train\": train_loader,\n",
    "                \"Validation\": val_loader}"
   ]
  },
  {
   "cell_type": "code",
   "execution_count": 7,
   "id": "a9dfc770",
   "metadata": {
    "execution": {
     "iopub.execute_input": "2025-06-03T09:32:05.584301Z",
     "iopub.status.busy": "2025-06-03T09:32:05.584064Z",
     "iopub.status.idle": "2025-06-03T09:32:05.672639Z",
     "shell.execute_reply": "2025-06-03T09:32:05.671814Z"
    },
    "papermill": {
     "duration": 0.113731,
     "end_time": "2025-06-03T09:32:05.673746",
     "exception": false,
     "start_time": "2025-06-03T09:32:05.560015",
     "status": "completed"
    },
    "tags": []
   },
   "outputs": [
    {
     "data": {
      "text/plain": [
       "device(type='cuda')"
      ]
     },
     "execution_count": 7,
     "metadata": {},
     "output_type": "execute_result"
    }
   ],
   "source": [
    "device = torch.device(\"cuda\" if torch.cuda.is_available() else \"cpu\")\n",
    "device"
   ]
  },
  {
   "cell_type": "code",
   "execution_count": 8,
   "id": "3cf21adf",
   "metadata": {
    "execution": {
     "iopub.execute_input": "2025-06-03T09:32:05.773117Z",
     "iopub.status.busy": "2025-06-03T09:32:05.772386Z",
     "iopub.status.idle": "2025-06-03T09:32:06.197367Z",
     "shell.execute_reply": "2025-06-03T09:32:06.196656Z"
    },
    "papermill": {
     "duration": 0.452183,
     "end_time": "2025-06-03T09:32:06.198763",
     "exception": false,
     "start_time": "2025-06-03T09:32:05.746580",
     "status": "completed"
    },
    "tags": []
   },
   "outputs": [
    {
     "name": "stderr",
     "output_type": "stream",
     "text": [
      "Downloading: \"https://download.pytorch.org/models/efficientnet_b0_rwightman-7f5810bc.pth\" to /root/.cache/torch/hub/checkpoints/efficientnet_b0_rwightman-7f5810bc.pth\n",
      "100%|██████████| 20.5M/20.5M [00:00<00:00, 122MB/s] \n"
     ]
    },
    {
     "data": {
      "text/plain": [
       "EfficientNet(\n",
       "  (features): Sequential(\n",
       "    (0): Conv2dNormActivation(\n",
       "      (0): Conv2d(3, 32, kernel_size=(3, 3), stride=(2, 2), padding=(1, 1), bias=False)\n",
       "      (1): BatchNorm2d(32, eps=1e-05, momentum=0.1, affine=True, track_running_stats=True)\n",
       "      (2): SiLU(inplace=True)\n",
       "    )\n",
       "    (1): Sequential(\n",
       "      (0): MBConv(\n",
       "        (block): Sequential(\n",
       "          (0): Conv2dNormActivation(\n",
       "            (0): Conv2d(32, 32, kernel_size=(3, 3), stride=(1, 1), padding=(1, 1), groups=32, bias=False)\n",
       "            (1): BatchNorm2d(32, eps=1e-05, momentum=0.1, affine=True, track_running_stats=True)\n",
       "            (2): SiLU(inplace=True)\n",
       "          )\n",
       "          (1): SqueezeExcitation(\n",
       "            (avgpool): AdaptiveAvgPool2d(output_size=1)\n",
       "            (fc1): Conv2d(32, 8, kernel_size=(1, 1), stride=(1, 1))\n",
       "            (fc2): Conv2d(8, 32, kernel_size=(1, 1), stride=(1, 1))\n",
       "            (activation): SiLU(inplace=True)\n",
       "            (scale_activation): Sigmoid()\n",
       "          )\n",
       "          (2): Conv2dNormActivation(\n",
       "            (0): Conv2d(32, 16, kernel_size=(1, 1), stride=(1, 1), bias=False)\n",
       "            (1): BatchNorm2d(16, eps=1e-05, momentum=0.1, affine=True, track_running_stats=True)\n",
       "          )\n",
       "        )\n",
       "        (stochastic_depth): StochasticDepth(p=0.0, mode=row)\n",
       "      )\n",
       "    )\n",
       "    (2): Sequential(\n",
       "      (0): MBConv(\n",
       "        (block): Sequential(\n",
       "          (0): Conv2dNormActivation(\n",
       "            (0): Conv2d(16, 96, kernel_size=(1, 1), stride=(1, 1), bias=False)\n",
       "            (1): BatchNorm2d(96, eps=1e-05, momentum=0.1, affine=True, track_running_stats=True)\n",
       "            (2): SiLU(inplace=True)\n",
       "          )\n",
       "          (1): Conv2dNormActivation(\n",
       "            (0): Conv2d(96, 96, kernel_size=(3, 3), stride=(2, 2), padding=(1, 1), groups=96, bias=False)\n",
       "            (1): BatchNorm2d(96, eps=1e-05, momentum=0.1, affine=True, track_running_stats=True)\n",
       "            (2): SiLU(inplace=True)\n",
       "          )\n",
       "          (2): SqueezeExcitation(\n",
       "            (avgpool): AdaptiveAvgPool2d(output_size=1)\n",
       "            (fc1): Conv2d(96, 4, kernel_size=(1, 1), stride=(1, 1))\n",
       "            (fc2): Conv2d(4, 96, kernel_size=(1, 1), stride=(1, 1))\n",
       "            (activation): SiLU(inplace=True)\n",
       "            (scale_activation): Sigmoid()\n",
       "          )\n",
       "          (3): Conv2dNormActivation(\n",
       "            (0): Conv2d(96, 24, kernel_size=(1, 1), stride=(1, 1), bias=False)\n",
       "            (1): BatchNorm2d(24, eps=1e-05, momentum=0.1, affine=True, track_running_stats=True)\n",
       "          )\n",
       "        )\n",
       "        (stochastic_depth): StochasticDepth(p=0.0125, mode=row)\n",
       "      )\n",
       "      (1): MBConv(\n",
       "        (block): Sequential(\n",
       "          (0): Conv2dNormActivation(\n",
       "            (0): Conv2d(24, 144, kernel_size=(1, 1), stride=(1, 1), bias=False)\n",
       "            (1): BatchNorm2d(144, eps=1e-05, momentum=0.1, affine=True, track_running_stats=True)\n",
       "            (2): SiLU(inplace=True)\n",
       "          )\n",
       "          (1): Conv2dNormActivation(\n",
       "            (0): Conv2d(144, 144, kernel_size=(3, 3), stride=(1, 1), padding=(1, 1), groups=144, bias=False)\n",
       "            (1): BatchNorm2d(144, eps=1e-05, momentum=0.1, affine=True, track_running_stats=True)\n",
       "            (2): SiLU(inplace=True)\n",
       "          )\n",
       "          (2): SqueezeExcitation(\n",
       "            (avgpool): AdaptiveAvgPool2d(output_size=1)\n",
       "            (fc1): Conv2d(144, 6, kernel_size=(1, 1), stride=(1, 1))\n",
       "            (fc2): Conv2d(6, 144, kernel_size=(1, 1), stride=(1, 1))\n",
       "            (activation): SiLU(inplace=True)\n",
       "            (scale_activation): Sigmoid()\n",
       "          )\n",
       "          (3): Conv2dNormActivation(\n",
       "            (0): Conv2d(144, 24, kernel_size=(1, 1), stride=(1, 1), bias=False)\n",
       "            (1): BatchNorm2d(24, eps=1e-05, momentum=0.1, affine=True, track_running_stats=True)\n",
       "          )\n",
       "        )\n",
       "        (stochastic_depth): StochasticDepth(p=0.025, mode=row)\n",
       "      )\n",
       "    )\n",
       "    (3): Sequential(\n",
       "      (0): MBConv(\n",
       "        (block): Sequential(\n",
       "          (0): Conv2dNormActivation(\n",
       "            (0): Conv2d(24, 144, kernel_size=(1, 1), stride=(1, 1), bias=False)\n",
       "            (1): BatchNorm2d(144, eps=1e-05, momentum=0.1, affine=True, track_running_stats=True)\n",
       "            (2): SiLU(inplace=True)\n",
       "          )\n",
       "          (1): Conv2dNormActivation(\n",
       "            (0): Conv2d(144, 144, kernel_size=(5, 5), stride=(2, 2), padding=(2, 2), groups=144, bias=False)\n",
       "            (1): BatchNorm2d(144, eps=1e-05, momentum=0.1, affine=True, track_running_stats=True)\n",
       "            (2): SiLU(inplace=True)\n",
       "          )\n",
       "          (2): SqueezeExcitation(\n",
       "            (avgpool): AdaptiveAvgPool2d(output_size=1)\n",
       "            (fc1): Conv2d(144, 6, kernel_size=(1, 1), stride=(1, 1))\n",
       "            (fc2): Conv2d(6, 144, kernel_size=(1, 1), stride=(1, 1))\n",
       "            (activation): SiLU(inplace=True)\n",
       "            (scale_activation): Sigmoid()\n",
       "          )\n",
       "          (3): Conv2dNormActivation(\n",
       "            (0): Conv2d(144, 40, kernel_size=(1, 1), stride=(1, 1), bias=False)\n",
       "            (1): BatchNorm2d(40, eps=1e-05, momentum=0.1, affine=True, track_running_stats=True)\n",
       "          )\n",
       "        )\n",
       "        (stochastic_depth): StochasticDepth(p=0.037500000000000006, mode=row)\n",
       "      )\n",
       "      (1): MBConv(\n",
       "        (block): Sequential(\n",
       "          (0): Conv2dNormActivation(\n",
       "            (0): Conv2d(40, 240, kernel_size=(1, 1), stride=(1, 1), bias=False)\n",
       "            (1): BatchNorm2d(240, eps=1e-05, momentum=0.1, affine=True, track_running_stats=True)\n",
       "            (2): SiLU(inplace=True)\n",
       "          )\n",
       "          (1): Conv2dNormActivation(\n",
       "            (0): Conv2d(240, 240, kernel_size=(5, 5), stride=(1, 1), padding=(2, 2), groups=240, bias=False)\n",
       "            (1): BatchNorm2d(240, eps=1e-05, momentum=0.1, affine=True, track_running_stats=True)\n",
       "            (2): SiLU(inplace=True)\n",
       "          )\n",
       "          (2): SqueezeExcitation(\n",
       "            (avgpool): AdaptiveAvgPool2d(output_size=1)\n",
       "            (fc1): Conv2d(240, 10, kernel_size=(1, 1), stride=(1, 1))\n",
       "            (fc2): Conv2d(10, 240, kernel_size=(1, 1), stride=(1, 1))\n",
       "            (activation): SiLU(inplace=True)\n",
       "            (scale_activation): Sigmoid()\n",
       "          )\n",
       "          (3): Conv2dNormActivation(\n",
       "            (0): Conv2d(240, 40, kernel_size=(1, 1), stride=(1, 1), bias=False)\n",
       "            (1): BatchNorm2d(40, eps=1e-05, momentum=0.1, affine=True, track_running_stats=True)\n",
       "          )\n",
       "        )\n",
       "        (stochastic_depth): StochasticDepth(p=0.05, mode=row)\n",
       "      )\n",
       "    )\n",
       "    (4): Sequential(\n",
       "      (0): MBConv(\n",
       "        (block): Sequential(\n",
       "          (0): Conv2dNormActivation(\n",
       "            (0): Conv2d(40, 240, kernel_size=(1, 1), stride=(1, 1), bias=False)\n",
       "            (1): BatchNorm2d(240, eps=1e-05, momentum=0.1, affine=True, track_running_stats=True)\n",
       "            (2): SiLU(inplace=True)\n",
       "          )\n",
       "          (1): Conv2dNormActivation(\n",
       "            (0): Conv2d(240, 240, kernel_size=(3, 3), stride=(2, 2), padding=(1, 1), groups=240, bias=False)\n",
       "            (1): BatchNorm2d(240, eps=1e-05, momentum=0.1, affine=True, track_running_stats=True)\n",
       "            (2): SiLU(inplace=True)\n",
       "          )\n",
       "          (2): SqueezeExcitation(\n",
       "            (avgpool): AdaptiveAvgPool2d(output_size=1)\n",
       "            (fc1): Conv2d(240, 10, kernel_size=(1, 1), stride=(1, 1))\n",
       "            (fc2): Conv2d(10, 240, kernel_size=(1, 1), stride=(1, 1))\n",
       "            (activation): SiLU(inplace=True)\n",
       "            (scale_activation): Sigmoid()\n",
       "          )\n",
       "          (3): Conv2dNormActivation(\n",
       "            (0): Conv2d(240, 80, kernel_size=(1, 1), stride=(1, 1), bias=False)\n",
       "            (1): BatchNorm2d(80, eps=1e-05, momentum=0.1, affine=True, track_running_stats=True)\n",
       "          )\n",
       "        )\n",
       "        (stochastic_depth): StochasticDepth(p=0.0625, mode=row)\n",
       "      )\n",
       "      (1): MBConv(\n",
       "        (block): Sequential(\n",
       "          (0): Conv2dNormActivation(\n",
       "            (0): Conv2d(80, 480, kernel_size=(1, 1), stride=(1, 1), bias=False)\n",
       "            (1): BatchNorm2d(480, eps=1e-05, momentum=0.1, affine=True, track_running_stats=True)\n",
       "            (2): SiLU(inplace=True)\n",
       "          )\n",
       "          (1): Conv2dNormActivation(\n",
       "            (0): Conv2d(480, 480, kernel_size=(3, 3), stride=(1, 1), padding=(1, 1), groups=480, bias=False)\n",
       "            (1): BatchNorm2d(480, eps=1e-05, momentum=0.1, affine=True, track_running_stats=True)\n",
       "            (2): SiLU(inplace=True)\n",
       "          )\n",
       "          (2): SqueezeExcitation(\n",
       "            (avgpool): AdaptiveAvgPool2d(output_size=1)\n",
       "            (fc1): Conv2d(480, 20, kernel_size=(1, 1), stride=(1, 1))\n",
       "            (fc2): Conv2d(20, 480, kernel_size=(1, 1), stride=(1, 1))\n",
       "            (activation): SiLU(inplace=True)\n",
       "            (scale_activation): Sigmoid()\n",
       "          )\n",
       "          (3): Conv2dNormActivation(\n",
       "            (0): Conv2d(480, 80, kernel_size=(1, 1), stride=(1, 1), bias=False)\n",
       "            (1): BatchNorm2d(80, eps=1e-05, momentum=0.1, affine=True, track_running_stats=True)\n",
       "          )\n",
       "        )\n",
       "        (stochastic_depth): StochasticDepth(p=0.07500000000000001, mode=row)\n",
       "      )\n",
       "      (2): MBConv(\n",
       "        (block): Sequential(\n",
       "          (0): Conv2dNormActivation(\n",
       "            (0): Conv2d(80, 480, kernel_size=(1, 1), stride=(1, 1), bias=False)\n",
       "            (1): BatchNorm2d(480, eps=1e-05, momentum=0.1, affine=True, track_running_stats=True)\n",
       "            (2): SiLU(inplace=True)\n",
       "          )\n",
       "          (1): Conv2dNormActivation(\n",
       "            (0): Conv2d(480, 480, kernel_size=(3, 3), stride=(1, 1), padding=(1, 1), groups=480, bias=False)\n",
       "            (1): BatchNorm2d(480, eps=1e-05, momentum=0.1, affine=True, track_running_stats=True)\n",
       "            (2): SiLU(inplace=True)\n",
       "          )\n",
       "          (2): SqueezeExcitation(\n",
       "            (avgpool): AdaptiveAvgPool2d(output_size=1)\n",
       "            (fc1): Conv2d(480, 20, kernel_size=(1, 1), stride=(1, 1))\n",
       "            (fc2): Conv2d(20, 480, kernel_size=(1, 1), stride=(1, 1))\n",
       "            (activation): SiLU(inplace=True)\n",
       "            (scale_activation): Sigmoid()\n",
       "          )\n",
       "          (3): Conv2dNormActivation(\n",
       "            (0): Conv2d(480, 80, kernel_size=(1, 1), stride=(1, 1), bias=False)\n",
       "            (1): BatchNorm2d(80, eps=1e-05, momentum=0.1, affine=True, track_running_stats=True)\n",
       "          )\n",
       "        )\n",
       "        (stochastic_depth): StochasticDepth(p=0.08750000000000001, mode=row)\n",
       "      )\n",
       "    )\n",
       "    (5): Sequential(\n",
       "      (0): MBConv(\n",
       "        (block): Sequential(\n",
       "          (0): Conv2dNormActivation(\n",
       "            (0): Conv2d(80, 480, kernel_size=(1, 1), stride=(1, 1), bias=False)\n",
       "            (1): BatchNorm2d(480, eps=1e-05, momentum=0.1, affine=True, track_running_stats=True)\n",
       "            (2): SiLU(inplace=True)\n",
       "          )\n",
       "          (1): Conv2dNormActivation(\n",
       "            (0): Conv2d(480, 480, kernel_size=(5, 5), stride=(1, 1), padding=(2, 2), groups=480, bias=False)\n",
       "            (1): BatchNorm2d(480, eps=1e-05, momentum=0.1, affine=True, track_running_stats=True)\n",
       "            (2): SiLU(inplace=True)\n",
       "          )\n",
       "          (2): SqueezeExcitation(\n",
       "            (avgpool): AdaptiveAvgPool2d(output_size=1)\n",
       "            (fc1): Conv2d(480, 20, kernel_size=(1, 1), stride=(1, 1))\n",
       "            (fc2): Conv2d(20, 480, kernel_size=(1, 1), stride=(1, 1))\n",
       "            (activation): SiLU(inplace=True)\n",
       "            (scale_activation): Sigmoid()\n",
       "          )\n",
       "          (3): Conv2dNormActivation(\n",
       "            (0): Conv2d(480, 112, kernel_size=(1, 1), stride=(1, 1), bias=False)\n",
       "            (1): BatchNorm2d(112, eps=1e-05, momentum=0.1, affine=True, track_running_stats=True)\n",
       "          )\n",
       "        )\n",
       "        (stochastic_depth): StochasticDepth(p=0.1, mode=row)\n",
       "      )\n",
       "      (1): MBConv(\n",
       "        (block): Sequential(\n",
       "          (0): Conv2dNormActivation(\n",
       "            (0): Conv2d(112, 672, kernel_size=(1, 1), stride=(1, 1), bias=False)\n",
       "            (1): BatchNorm2d(672, eps=1e-05, momentum=0.1, affine=True, track_running_stats=True)\n",
       "            (2): SiLU(inplace=True)\n",
       "          )\n",
       "          (1): Conv2dNormActivation(\n",
       "            (0): Conv2d(672, 672, kernel_size=(5, 5), stride=(1, 1), padding=(2, 2), groups=672, bias=False)\n",
       "            (1): BatchNorm2d(672, eps=1e-05, momentum=0.1, affine=True, track_running_stats=True)\n",
       "            (2): SiLU(inplace=True)\n",
       "          )\n",
       "          (2): SqueezeExcitation(\n",
       "            (avgpool): AdaptiveAvgPool2d(output_size=1)\n",
       "            (fc1): Conv2d(672, 28, kernel_size=(1, 1), stride=(1, 1))\n",
       "            (fc2): Conv2d(28, 672, kernel_size=(1, 1), stride=(1, 1))\n",
       "            (activation): SiLU(inplace=True)\n",
       "            (scale_activation): Sigmoid()\n",
       "          )\n",
       "          (3): Conv2dNormActivation(\n",
       "            (0): Conv2d(672, 112, kernel_size=(1, 1), stride=(1, 1), bias=False)\n",
       "            (1): BatchNorm2d(112, eps=1e-05, momentum=0.1, affine=True, track_running_stats=True)\n",
       "          )\n",
       "        )\n",
       "        (stochastic_depth): StochasticDepth(p=0.1125, mode=row)\n",
       "      )\n",
       "      (2): MBConv(\n",
       "        (block): Sequential(\n",
       "          (0): Conv2dNormActivation(\n",
       "            (0): Conv2d(112, 672, kernel_size=(1, 1), stride=(1, 1), bias=False)\n",
       "            (1): BatchNorm2d(672, eps=1e-05, momentum=0.1, affine=True, track_running_stats=True)\n",
       "            (2): SiLU(inplace=True)\n",
       "          )\n",
       "          (1): Conv2dNormActivation(\n",
       "            (0): Conv2d(672, 672, kernel_size=(5, 5), stride=(1, 1), padding=(2, 2), groups=672, bias=False)\n",
       "            (1): BatchNorm2d(672, eps=1e-05, momentum=0.1, affine=True, track_running_stats=True)\n",
       "            (2): SiLU(inplace=True)\n",
       "          )\n",
       "          (2): SqueezeExcitation(\n",
       "            (avgpool): AdaptiveAvgPool2d(output_size=1)\n",
       "            (fc1): Conv2d(672, 28, kernel_size=(1, 1), stride=(1, 1))\n",
       "            (fc2): Conv2d(28, 672, kernel_size=(1, 1), stride=(1, 1))\n",
       "            (activation): SiLU(inplace=True)\n",
       "            (scale_activation): Sigmoid()\n",
       "          )\n",
       "          (3): Conv2dNormActivation(\n",
       "            (0): Conv2d(672, 112, kernel_size=(1, 1), stride=(1, 1), bias=False)\n",
       "            (1): BatchNorm2d(112, eps=1e-05, momentum=0.1, affine=True, track_running_stats=True)\n",
       "          )\n",
       "        )\n",
       "        (stochastic_depth): StochasticDepth(p=0.125, mode=row)\n",
       "      )\n",
       "    )\n",
       "    (6): Sequential(\n",
       "      (0): MBConv(\n",
       "        (block): Sequential(\n",
       "          (0): Conv2dNormActivation(\n",
       "            (0): Conv2d(112, 672, kernel_size=(1, 1), stride=(1, 1), bias=False)\n",
       "            (1): BatchNorm2d(672, eps=1e-05, momentum=0.1, affine=True, track_running_stats=True)\n",
       "            (2): SiLU(inplace=True)\n",
       "          )\n",
       "          (1): Conv2dNormActivation(\n",
       "            (0): Conv2d(672, 672, kernel_size=(5, 5), stride=(2, 2), padding=(2, 2), groups=672, bias=False)\n",
       "            (1): BatchNorm2d(672, eps=1e-05, momentum=0.1, affine=True, track_running_stats=True)\n",
       "            (2): SiLU(inplace=True)\n",
       "          )\n",
       "          (2): SqueezeExcitation(\n",
       "            (avgpool): AdaptiveAvgPool2d(output_size=1)\n",
       "            (fc1): Conv2d(672, 28, kernel_size=(1, 1), stride=(1, 1))\n",
       "            (fc2): Conv2d(28, 672, kernel_size=(1, 1), stride=(1, 1))\n",
       "            (activation): SiLU(inplace=True)\n",
       "            (scale_activation): Sigmoid()\n",
       "          )\n",
       "          (3): Conv2dNormActivation(\n",
       "            (0): Conv2d(672, 192, kernel_size=(1, 1), stride=(1, 1), bias=False)\n",
       "            (1): BatchNorm2d(192, eps=1e-05, momentum=0.1, affine=True, track_running_stats=True)\n",
       "          )\n",
       "        )\n",
       "        (stochastic_depth): StochasticDepth(p=0.1375, mode=row)\n",
       "      )\n",
       "      (1): MBConv(\n",
       "        (block): Sequential(\n",
       "          (0): Conv2dNormActivation(\n",
       "            (0): Conv2d(192, 1152, kernel_size=(1, 1), stride=(1, 1), bias=False)\n",
       "            (1): BatchNorm2d(1152, eps=1e-05, momentum=0.1, affine=True, track_running_stats=True)\n",
       "            (2): SiLU(inplace=True)\n",
       "          )\n",
       "          (1): Conv2dNormActivation(\n",
       "            (0): Conv2d(1152, 1152, kernel_size=(5, 5), stride=(1, 1), padding=(2, 2), groups=1152, bias=False)\n",
       "            (1): BatchNorm2d(1152, eps=1e-05, momentum=0.1, affine=True, track_running_stats=True)\n",
       "            (2): SiLU(inplace=True)\n",
       "          )\n",
       "          (2): SqueezeExcitation(\n",
       "            (avgpool): AdaptiveAvgPool2d(output_size=1)\n",
       "            (fc1): Conv2d(1152, 48, kernel_size=(1, 1), stride=(1, 1))\n",
       "            (fc2): Conv2d(48, 1152, kernel_size=(1, 1), stride=(1, 1))\n",
       "            (activation): SiLU(inplace=True)\n",
       "            (scale_activation): Sigmoid()\n",
       "          )\n",
       "          (3): Conv2dNormActivation(\n",
       "            (0): Conv2d(1152, 192, kernel_size=(1, 1), stride=(1, 1), bias=False)\n",
       "            (1): BatchNorm2d(192, eps=1e-05, momentum=0.1, affine=True, track_running_stats=True)\n",
       "          )\n",
       "        )\n",
       "        (stochastic_depth): StochasticDepth(p=0.15000000000000002, mode=row)\n",
       "      )\n",
       "      (2): MBConv(\n",
       "        (block): Sequential(\n",
       "          (0): Conv2dNormActivation(\n",
       "            (0): Conv2d(192, 1152, kernel_size=(1, 1), stride=(1, 1), bias=False)\n",
       "            (1): BatchNorm2d(1152, eps=1e-05, momentum=0.1, affine=True, track_running_stats=True)\n",
       "            (2): SiLU(inplace=True)\n",
       "          )\n",
       "          (1): Conv2dNormActivation(\n",
       "            (0): Conv2d(1152, 1152, kernel_size=(5, 5), stride=(1, 1), padding=(2, 2), groups=1152, bias=False)\n",
       "            (1): BatchNorm2d(1152, eps=1e-05, momentum=0.1, affine=True, track_running_stats=True)\n",
       "            (2): SiLU(inplace=True)\n",
       "          )\n",
       "          (2): SqueezeExcitation(\n",
       "            (avgpool): AdaptiveAvgPool2d(output_size=1)\n",
       "            (fc1): Conv2d(1152, 48, kernel_size=(1, 1), stride=(1, 1))\n",
       "            (fc2): Conv2d(48, 1152, kernel_size=(1, 1), stride=(1, 1))\n",
       "            (activation): SiLU(inplace=True)\n",
       "            (scale_activation): Sigmoid()\n",
       "          )\n",
       "          (3): Conv2dNormActivation(\n",
       "            (0): Conv2d(1152, 192, kernel_size=(1, 1), stride=(1, 1), bias=False)\n",
       "            (1): BatchNorm2d(192, eps=1e-05, momentum=0.1, affine=True, track_running_stats=True)\n",
       "          )\n",
       "        )\n",
       "        (stochastic_depth): StochasticDepth(p=0.1625, mode=row)\n",
       "      )\n",
       "      (3): MBConv(\n",
       "        (block): Sequential(\n",
       "          (0): Conv2dNormActivation(\n",
       "            (0): Conv2d(192, 1152, kernel_size=(1, 1), stride=(1, 1), bias=False)\n",
       "            (1): BatchNorm2d(1152, eps=1e-05, momentum=0.1, affine=True, track_running_stats=True)\n",
       "            (2): SiLU(inplace=True)\n",
       "          )\n",
       "          (1): Conv2dNormActivation(\n",
       "            (0): Conv2d(1152, 1152, kernel_size=(5, 5), stride=(1, 1), padding=(2, 2), groups=1152, bias=False)\n",
       "            (1): BatchNorm2d(1152, eps=1e-05, momentum=0.1, affine=True, track_running_stats=True)\n",
       "            (2): SiLU(inplace=True)\n",
       "          )\n",
       "          (2): SqueezeExcitation(\n",
       "            (avgpool): AdaptiveAvgPool2d(output_size=1)\n",
       "            (fc1): Conv2d(1152, 48, kernel_size=(1, 1), stride=(1, 1))\n",
       "            (fc2): Conv2d(48, 1152, kernel_size=(1, 1), stride=(1, 1))\n",
       "            (activation): SiLU(inplace=True)\n",
       "            (scale_activation): Sigmoid()\n",
       "          )\n",
       "          (3): Conv2dNormActivation(\n",
       "            (0): Conv2d(1152, 192, kernel_size=(1, 1), stride=(1, 1), bias=False)\n",
       "            (1): BatchNorm2d(192, eps=1e-05, momentum=0.1, affine=True, track_running_stats=True)\n",
       "          )\n",
       "        )\n",
       "        (stochastic_depth): StochasticDepth(p=0.17500000000000002, mode=row)\n",
       "      )\n",
       "    )\n",
       "    (7): Sequential(\n",
       "      (0): MBConv(\n",
       "        (block): Sequential(\n",
       "          (0): Conv2dNormActivation(\n",
       "            (0): Conv2d(192, 1152, kernel_size=(1, 1), stride=(1, 1), bias=False)\n",
       "            (1): BatchNorm2d(1152, eps=1e-05, momentum=0.1, affine=True, track_running_stats=True)\n",
       "            (2): SiLU(inplace=True)\n",
       "          )\n",
       "          (1): Conv2dNormActivation(\n",
       "            (0): Conv2d(1152, 1152, kernel_size=(3, 3), stride=(1, 1), padding=(1, 1), groups=1152, bias=False)\n",
       "            (1): BatchNorm2d(1152, eps=1e-05, momentum=0.1, affine=True, track_running_stats=True)\n",
       "            (2): SiLU(inplace=True)\n",
       "          )\n",
       "          (2): SqueezeExcitation(\n",
       "            (avgpool): AdaptiveAvgPool2d(output_size=1)\n",
       "            (fc1): Conv2d(1152, 48, kernel_size=(1, 1), stride=(1, 1))\n",
       "            (fc2): Conv2d(48, 1152, kernel_size=(1, 1), stride=(1, 1))\n",
       "            (activation): SiLU(inplace=True)\n",
       "            (scale_activation): Sigmoid()\n",
       "          )\n",
       "          (3): Conv2dNormActivation(\n",
       "            (0): Conv2d(1152, 320, kernel_size=(1, 1), stride=(1, 1), bias=False)\n",
       "            (1): BatchNorm2d(320, eps=1e-05, momentum=0.1, affine=True, track_running_stats=True)\n",
       "          )\n",
       "        )\n",
       "        (stochastic_depth): StochasticDepth(p=0.1875, mode=row)\n",
       "      )\n",
       "    )\n",
       "    (8): Conv2dNormActivation(\n",
       "      (0): Conv2d(320, 1280, kernel_size=(1, 1), stride=(1, 1), bias=False)\n",
       "      (1): BatchNorm2d(1280, eps=1e-05, momentum=0.1, affine=True, track_running_stats=True)\n",
       "      (2): SiLU(inplace=True)\n",
       "    )\n",
       "  )\n",
       "  (avgpool): AdaptiveAvgPool2d(output_size=1)\n",
       "  (classifier): Sequential(\n",
       "    (0): Dropout(p=0.2, inplace=True)\n",
       "    (1): Linear(in_features=1280, out_features=6, bias=True)\n",
       "  )\n",
       ")"
      ]
     },
     "execution_count": 8,
     "metadata": {},
     "output_type": "execute_result"
    }
   ],
   "source": [
    "model = models.efficientnet_b0(weights=models.EfficientNet_B0_Weights.IMAGENET1K_V1)\n",
    "\n",
    "num_features =model.classifier[1].in_features\n",
    "model.classifier[1]= nn.Linear(num_features, 6)\n",
    "criterion = nn.CrossEntropyLoss()\n",
    "optimizer = torch.optim.Adam(model.parameters(), lr=learning_rate)\n",
    "\n",
    "model\n"
   ]
  },
  {
   "cell_type": "code",
   "execution_count": 9,
   "id": "1bc5bff7",
   "metadata": {
    "execution": {
     "iopub.execute_input": "2025-06-03T09:32:06.253023Z",
     "iopub.status.busy": "2025-06-03T09:32:06.252465Z",
     "iopub.status.idle": "2025-06-03T09:32:06.263451Z",
     "shell.execute_reply": "2025-06-03T09:32:06.262741Z"
    },
    "papermill": {
     "duration": 0.038032,
     "end_time": "2025-06-03T09:32:06.264505",
     "exception": false,
     "start_time": "2025-06-03T09:32:06.226473",
     "status": "completed"
    },
    "tags": []
   },
   "outputs": [],
   "source": [
    "def train_model(data_loader, model, criterion, optimizer, num_epochs, device, early_stop= True, patience=10):\n",
    "    model= model.to(device)\n",
    "    model= torch.nn.DataParallel(model)\n",
    "\n",
    "    since =time.time()\n",
    "\n",
    "    best_model_wts = copy.deepcopy(model.state_dict())\n",
    "    best_val_acc =0.0\n",
    "    best_epoch = 0.0\n",
    "    wait = 0\n",
    "\n",
    "    history = {\"Train_Loss\":[],\"Train_Acc\":[],\"Validation_Loss\":[],\"Validation_Acc\":[],\"Time\":[]}\n",
    "\n",
    "    result_current = {\"Train_Loss\": None,\n",
    "                        \"Train_Acc\":None,\n",
    "                        \"Validition_Loss\": None,\n",
    "                        \"Validition_ACC\":None\n",
    "                     }\n",
    "    for epoch in range(num_epochs):\n",
    "        \n",
    "        print(\"-----------------------------------------------------------------------\")\n",
    "        print(f\"Epoch {epoch+1}/{num_epochs}\")\n",
    "        epoch_start = time.time()\n",
    "        \n",
    "        for phase in [\"Train\", \"Validation\"]:\n",
    "            if phase == \"Train\":\n",
    "                model.train()\n",
    "            else:\n",
    "                model.eval()\n",
    "\n",
    "            running_loss, running_correct = 0.0, 0\n",
    "            total_samples = 0\n",
    "            \n",
    "            for images, labels in tqdm(data_loader[phase], desc=\"Training And Evaluation\"):\n",
    "                images = images.to(device)\n",
    "                labels = labels.to(device)\n",
    "                \n",
    "                with torch.set_grad_enabled(phase==\"Train\"):\n",
    "                    outputs = model(images)\n",
    "                    _, predicts = torch.max(outputs, dim=1)\n",
    "                    loss = criterion(outputs, labels)\n",
    "                    \n",
    "                    if phase == \"Train\":\n",
    "                        optimizer.zero_grad()\n",
    "                        loss.backward()\n",
    "                        optimizer.step()\n",
    "                        \n",
    "                running_loss += loss.item() * images.size(0)\n",
    "                running_correct += torch.sum(predicts == labels).item()\n",
    "                total_samples += images.size(0)\n",
    "                \n",
    "            epoch_loss = running_loss / total_samples\n",
    "            epoch_acc = running_correct / total_samples\n",
    "\n",
    "            result_current[f\"{phase}_Loss\"] = epoch_loss\n",
    "            result_current[f\"{phase}_Acc\"] = epoch_acc\n",
    "            \n",
    "            history[f\"{phase}_Loss\"].append(epoch_loss)\n",
    "            history[f\"{phase}_Acc\"].append(epoch_acc)\n",
    "\n",
    "            if phase == \"Validation\":\n",
    "                if epoch_acc > best_val_acc:\n",
    "                    best_val_acc = epoch_acc\n",
    "                    best_model_wts = copy.deepcopy(model.state_dict())\n",
    "                    best_epoch = epoch\n",
    "                    wait = 0\n",
    "                else:\n",
    "                    wait += 1\n",
    "        epoch_duration= time.time()- epoch_start\n",
    "        history[\"Time\"].append(epoch_duration)\n",
    "        print(f\"Train Loss: {result_current['Train_Loss']:.4f}, Train Acc: {result_current['Train_Acc']:.4f}\")\n",
    "        print(f\"Valid Loss: {result_current['Validation_Loss']:.4f}, Valid Acc: {result_current['Validation_Acc']:.4f}\")\n",
    "        print(f\"Epoch {epoch+1} finished in {epoch_duration:.2f}s\")\n",
    "    \n",
    "        if early_stop and wait >= patience:\n",
    "            print(f\"Early stopping at epoch {epoch+1} (no improvement in {patience} epochs).\")\n",
    "            break\n",
    "    \n",
    "    print(\"-----------------------------------------------------------------------\")\n",
    "    time_elapse = time.time() - since\n",
    "    print(f\"Training Complete In {time_elapse}s\")\n",
    "    \n",
    "    model.load_state_dict(best_model_wts)\n",
    "\n",
    "    return model, pd.DataFrame(history), time_elapse, best_val_acc, best_epoch"
   ]
  },
  {
   "cell_type": "code",
   "execution_count": 10,
   "id": "dd35ba2a",
   "metadata": {
    "execution": {
     "iopub.execute_input": "2025-06-03T09:32:06.316015Z",
     "iopub.status.busy": "2025-06-03T09:32:06.315553Z",
     "iopub.status.idle": "2025-06-03T09:50:02.055554Z",
     "shell.execute_reply": "2025-06-03T09:50:02.054696Z"
    },
    "papermill": {
     "duration": 1075.767394,
     "end_time": "2025-06-03T09:50:02.056892",
     "exception": false,
     "start_time": "2025-06-03T09:32:06.289498",
     "status": "completed"
    },
    "tags": []
   },
   "outputs": [
    {
     "name": "stdout",
     "output_type": "stream",
     "text": [
      "-----------------------------------------------------------------------\n",
      "Epoch 1/100\n"
     ]
    },
    {
     "name": "stderr",
     "output_type": "stream",
     "text": [
      "Training And Evaluation: 100%|██████████| 57/57 [00:43<00:00,  1.32it/s]\n",
      "Training And Evaluation: 100%|██████████| 13/13 [00:05<00:00,  2.32it/s]\n"
     ]
    },
    {
     "name": "stdout",
     "output_type": "stream",
     "text": [
      "Train Loss: 1.4202, Train Acc: 0.5474\n",
      "Valid Loss: 0.7494, Valid Acc: 0.7881\n",
      "Epoch 1 finished in 48.97s\n",
      "-----------------------------------------------------------------------\n",
      "Epoch 2/100\n"
     ]
    },
    {
     "name": "stderr",
     "output_type": "stream",
     "text": [
      "Training And Evaluation: 100%|██████████| 57/57 [00:33<00:00,  1.72it/s]\n",
      "Training And Evaluation: 100%|██████████| 13/13 [00:03<00:00,  3.45it/s]\n"
     ]
    },
    {
     "name": "stdout",
     "output_type": "stream",
     "text": [
      "Train Loss: 0.6529, Train Acc: 0.8170\n",
      "Valid Loss: 0.3276, Valid Acc: 0.8863\n",
      "Epoch 2 finished in 36.97s\n",
      "-----------------------------------------------------------------------\n",
      "Epoch 3/100\n"
     ]
    },
    {
     "name": "stderr",
     "output_type": "stream",
     "text": [
      "Training And Evaluation: 100%|██████████| 57/57 [00:33<00:00,  1.70it/s]\n",
      "Training And Evaluation: 100%|██████████| 13/13 [00:03<00:00,  3.49it/s]\n"
     ]
    },
    {
     "name": "stdout",
     "output_type": "stream",
     "text": [
      "Train Loss: 0.3707, Train Acc: 0.8859\n",
      "Valid Loss: 0.2364, Valid Acc: 0.9199\n",
      "Epoch 3 finished in 37.36s\n",
      "-----------------------------------------------------------------------\n",
      "Epoch 4/100\n"
     ]
    },
    {
     "name": "stderr",
     "output_type": "stream",
     "text": [
      "Training And Evaluation: 100%|██████████| 57/57 [00:33<00:00,  1.71it/s]\n",
      "Training And Evaluation: 100%|██████████| 13/13 [00:03<00:00,  3.48it/s]\n"
     ]
    },
    {
     "name": "stdout",
     "output_type": "stream",
     "text": [
      "Train Loss: 0.2715, Train Acc: 0.9129\n",
      "Valid Loss: 0.1838, Valid Acc: 0.9380\n",
      "Epoch 4 finished in 37.02s\n",
      "-----------------------------------------------------------------------\n",
      "Epoch 5/100\n"
     ]
    },
    {
     "name": "stderr",
     "output_type": "stream",
     "text": [
      "Training And Evaluation: 100%|██████████| 57/57 [00:32<00:00,  1.73it/s]\n",
      "Training And Evaluation: 100%|██████████| 13/13 [00:03<00:00,  3.67it/s]\n"
     ]
    },
    {
     "name": "stdout",
     "output_type": "stream",
     "text": [
      "Train Loss: 0.2494, Train Acc: 0.9157\n",
      "Valid Loss: 0.1747, Valid Acc: 0.9354\n",
      "Epoch 5 finished in 36.46s\n",
      "-----------------------------------------------------------------------\n",
      "Epoch 6/100\n"
     ]
    },
    {
     "name": "stderr",
     "output_type": "stream",
     "text": [
      "Training And Evaluation: 100%|██████████| 57/57 [00:32<00:00,  1.74it/s]\n",
      "Training And Evaluation: 100%|██████████| 13/13 [00:03<00:00,  3.60it/s]\n"
     ]
    },
    {
     "name": "stdout",
     "output_type": "stream",
     "text": [
      "Train Loss: 0.1982, Train Acc: 0.9316\n",
      "Valid Loss: 0.1555, Valid Acc: 0.9509\n",
      "Epoch 6 finished in 36.45s\n",
      "-----------------------------------------------------------------------\n",
      "Epoch 7/100\n"
     ]
    },
    {
     "name": "stderr",
     "output_type": "stream",
     "text": [
      "Training And Evaluation: 100%|██████████| 57/57 [00:33<00:00,  1.69it/s]\n",
      "Training And Evaluation: 100%|██████████| 13/13 [00:03<00:00,  3.58it/s]\n"
     ]
    },
    {
     "name": "stdout",
     "output_type": "stream",
     "text": [
      "Train Loss: 0.1594, Train Acc: 0.9493\n",
      "Valid Loss: 0.1485, Valid Acc: 0.9535\n",
      "Epoch 7 finished in 37.36s\n",
      "-----------------------------------------------------------------------\n",
      "Epoch 8/100\n"
     ]
    },
    {
     "name": "stderr",
     "output_type": "stream",
     "text": [
      "Training And Evaluation: 100%|██████████| 57/57 [00:33<00:00,  1.72it/s]\n",
      "Training And Evaluation: 100%|██████████| 13/13 [00:03<00:00,  3.45it/s]\n"
     ]
    },
    {
     "name": "stdout",
     "output_type": "stream",
     "text": [
      "Train Loss: 0.1442, Train Acc: 0.9526\n",
      "Valid Loss: 0.1365, Valid Acc: 0.9587\n",
      "Epoch 8 finished in 37.03s\n",
      "-----------------------------------------------------------------------\n",
      "Epoch 9/100\n"
     ]
    },
    {
     "name": "stderr",
     "output_type": "stream",
     "text": [
      "Training And Evaluation: 100%|██████████| 57/57 [00:32<00:00,  1.75it/s]\n",
      "Training And Evaluation: 100%|██████████| 13/13 [00:04<00:00,  3.22it/s]\n"
     ]
    },
    {
     "name": "stdout",
     "output_type": "stream",
     "text": [
      "Train Loss: 0.1337, Train Acc: 0.9559\n",
      "Valid Loss: 0.1407, Valid Acc: 0.9664\n",
      "Epoch 9 finished in 36.66s\n",
      "-----------------------------------------------------------------------\n",
      "Epoch 10/100\n"
     ]
    },
    {
     "name": "stderr",
     "output_type": "stream",
     "text": [
      "Training And Evaluation: 100%|██████████| 57/57 [00:32<00:00,  1.73it/s]\n",
      "Training And Evaluation: 100%|██████████| 13/13 [00:03<00:00,  3.70it/s]\n"
     ]
    },
    {
     "name": "stdout",
     "output_type": "stream",
     "text": [
      "Train Loss: 0.0942, Train Acc: 0.9691\n",
      "Valid Loss: 0.1245, Valid Acc: 0.9638\n",
      "Epoch 10 finished in 36.38s\n",
      "-----------------------------------------------------------------------\n",
      "Epoch 11/100\n"
     ]
    },
    {
     "name": "stderr",
     "output_type": "stream",
     "text": [
      "Training And Evaluation: 100%|██████████| 57/57 [00:32<00:00,  1.74it/s]\n",
      "Training And Evaluation: 100%|██████████| 13/13 [00:03<00:00,  3.56it/s]\n"
     ]
    },
    {
     "name": "stdout",
     "output_type": "stream",
     "text": [
      "Train Loss: 0.0968, Train Acc: 0.9713\n",
      "Valid Loss: 0.1280, Valid Acc: 0.9664\n",
      "Epoch 11 finished in 36.35s\n",
      "-----------------------------------------------------------------------\n",
      "Epoch 12/100\n"
     ]
    },
    {
     "name": "stderr",
     "output_type": "stream",
     "text": [
      "Training And Evaluation: 100%|██████████| 57/57 [00:32<00:00,  1.74it/s]\n",
      "Training And Evaluation: 100%|██████████| 13/13 [00:03<00:00,  3.47it/s]\n"
     ]
    },
    {
     "name": "stdout",
     "output_type": "stream",
     "text": [
      "Train Loss: 0.0879, Train Acc: 0.9768\n",
      "Valid Loss: 0.1349, Valid Acc: 0.9690\n",
      "Epoch 12 finished in 36.57s\n",
      "-----------------------------------------------------------------------\n",
      "Epoch 13/100\n"
     ]
    },
    {
     "name": "stderr",
     "output_type": "stream",
     "text": [
      "Training And Evaluation: 100%|██████████| 57/57 [00:32<00:00,  1.75it/s]\n",
      "Training And Evaluation: 100%|██████████| 13/13 [00:03<00:00,  3.76it/s]\n"
     ]
    },
    {
     "name": "stdout",
     "output_type": "stream",
     "text": [
      "Train Loss: 0.0834, Train Acc: 0.9752\n",
      "Valid Loss: 0.1214, Valid Acc: 0.9690\n",
      "Epoch 13 finished in 36.09s\n",
      "-----------------------------------------------------------------------\n",
      "Epoch 14/100\n"
     ]
    },
    {
     "name": "stderr",
     "output_type": "stream",
     "text": [
      "Training And Evaluation: 100%|██████████| 57/57 [00:32<00:00,  1.76it/s]\n",
      "Training And Evaluation: 100%|██████████| 13/13 [00:03<00:00,  3.58it/s]\n"
     ]
    },
    {
     "name": "stdout",
     "output_type": "stream",
     "text": [
      "Train Loss: 0.0726, Train Acc: 0.9752\n",
      "Valid Loss: 0.1320, Valid Acc: 0.9612\n",
      "Epoch 14 finished in 36.08s\n",
      "-----------------------------------------------------------------------\n",
      "Epoch 15/100\n"
     ]
    },
    {
     "name": "stderr",
     "output_type": "stream",
     "text": [
      "Training And Evaluation: 100%|██████████| 57/57 [00:32<00:00,  1.75it/s]\n",
      "Training And Evaluation: 100%|██████████| 13/13 [00:03<00:00,  3.67it/s]\n"
     ]
    },
    {
     "name": "stdout",
     "output_type": "stream",
     "text": [
      "Train Loss: 0.0565, Train Acc: 0.9824\n",
      "Valid Loss: 0.1229, Valid Acc: 0.9690\n",
      "Epoch 15 finished in 36.12s\n",
      "-----------------------------------------------------------------------\n",
      "Epoch 16/100\n"
     ]
    },
    {
     "name": "stderr",
     "output_type": "stream",
     "text": [
      "Training And Evaluation: 100%|██████████| 57/57 [00:33<00:00,  1.71it/s]\n",
      "Training And Evaluation: 100%|██████████| 13/13 [00:04<00:00,  3.22it/s]\n"
     ]
    },
    {
     "name": "stdout",
     "output_type": "stream",
     "text": [
      "Train Loss: 0.0631, Train Acc: 0.9785\n",
      "Valid Loss: 0.1425, Valid Acc: 0.9664\n",
      "Epoch 16 finished in 37.40s\n",
      "-----------------------------------------------------------------------\n",
      "Epoch 17/100\n"
     ]
    },
    {
     "name": "stderr",
     "output_type": "stream",
     "text": [
      "Training And Evaluation: 100%|██████████| 57/57 [00:32<00:00,  1.77it/s]\n",
      "Training And Evaluation: 100%|██████████| 13/13 [00:03<00:00,  3.64it/s]\n"
     ]
    },
    {
     "name": "stdout",
     "output_type": "stream",
     "text": [
      "Train Loss: 0.0682, Train Acc: 0.9785\n",
      "Valid Loss: 0.1216, Valid Acc: 0.9664\n",
      "Epoch 17 finished in 35.74s\n",
      "-----------------------------------------------------------------------\n",
      "Epoch 18/100\n"
     ]
    },
    {
     "name": "stderr",
     "output_type": "stream",
     "text": [
      "Training And Evaluation: 100%|██████████| 57/57 [00:32<00:00,  1.74it/s]\n",
      "Training And Evaluation: 100%|██████████| 13/13 [00:03<00:00,  3.61it/s]\n"
     ]
    },
    {
     "name": "stdout",
     "output_type": "stream",
     "text": [
      "Train Loss: 0.0398, Train Acc: 0.9895\n",
      "Valid Loss: 0.1476, Valid Acc: 0.9690\n",
      "Epoch 18 finished in 36.39s\n",
      "-----------------------------------------------------------------------\n",
      "Epoch 19/100\n"
     ]
    },
    {
     "name": "stderr",
     "output_type": "stream",
     "text": [
      "Training And Evaluation: 100%|██████████| 57/57 [00:32<00:00,  1.73it/s]\n",
      "Training And Evaluation: 100%|██████████| 13/13 [00:03<00:00,  3.57it/s]\n"
     ]
    },
    {
     "name": "stdout",
     "output_type": "stream",
     "text": [
      "Train Loss: 0.0550, Train Acc: 0.9824\n",
      "Valid Loss: 0.1331, Valid Acc: 0.9716\n",
      "Epoch 19 finished in 36.62s\n",
      "-----------------------------------------------------------------------\n",
      "Epoch 20/100\n"
     ]
    },
    {
     "name": "stderr",
     "output_type": "stream",
     "text": [
      "Training And Evaluation: 100%|██████████| 57/57 [00:33<00:00,  1.72it/s]\n",
      "Training And Evaluation: 100%|██████████| 13/13 [00:03<00:00,  3.68it/s]\n"
     ]
    },
    {
     "name": "stdout",
     "output_type": "stream",
     "text": [
      "Train Loss: 0.0482, Train Acc: 0.9857\n",
      "Valid Loss: 0.1441, Valid Acc: 0.9638\n",
      "Epoch 20 finished in 36.64s\n",
      "-----------------------------------------------------------------------\n",
      "Epoch 21/100\n"
     ]
    },
    {
     "name": "stderr",
     "output_type": "stream",
     "text": [
      "Training And Evaluation: 100%|██████████| 57/57 [00:32<00:00,  1.74it/s]\n",
      "Training And Evaluation: 100%|██████████| 13/13 [00:03<00:00,  3.68it/s]\n"
     ]
    },
    {
     "name": "stdout",
     "output_type": "stream",
     "text": [
      "Train Loss: 0.0409, Train Acc: 0.9868\n",
      "Valid Loss: 0.1327, Valid Acc: 0.9664\n",
      "Epoch 21 finished in 36.35s\n",
      "-----------------------------------------------------------------------\n",
      "Epoch 22/100\n"
     ]
    },
    {
     "name": "stderr",
     "output_type": "stream",
     "text": [
      "Training And Evaluation: 100%|██████████| 57/57 [00:33<00:00,  1.72it/s]\n",
      "Training And Evaluation: 100%|██████████| 13/13 [00:03<00:00,  3.56it/s]\n"
     ]
    },
    {
     "name": "stdout",
     "output_type": "stream",
     "text": [
      "Train Loss: 0.0451, Train Acc: 0.9846\n",
      "Valid Loss: 0.1346, Valid Acc: 0.9664\n",
      "Epoch 22 finished in 36.83s\n",
      "-----------------------------------------------------------------------\n",
      "Epoch 23/100\n"
     ]
    },
    {
     "name": "stderr",
     "output_type": "stream",
     "text": [
      "Training And Evaluation: 100%|██████████| 57/57 [00:33<00:00,  1.72it/s]\n",
      "Training And Evaluation: 100%|██████████| 13/13 [00:03<00:00,  3.59it/s]\n"
     ]
    },
    {
     "name": "stdout",
     "output_type": "stream",
     "text": [
      "Train Loss: 0.0459, Train Acc: 0.9890\n",
      "Valid Loss: 0.1422, Valid Acc: 0.9638\n",
      "Epoch 23 finished in 36.69s\n",
      "-----------------------------------------------------------------------\n",
      "Epoch 24/100\n"
     ]
    },
    {
     "name": "stderr",
     "output_type": "stream",
     "text": [
      "Training And Evaluation: 100%|██████████| 57/57 [00:33<00:00,  1.72it/s]\n",
      "Training And Evaluation: 100%|██████████| 13/13 [00:03<00:00,  3.63it/s]\n"
     ]
    },
    {
     "name": "stdout",
     "output_type": "stream",
     "text": [
      "Train Loss: 0.0469, Train Acc: 0.9879\n",
      "Valid Loss: 0.1500, Valid Acc: 0.9612\n",
      "Epoch 24 finished in 36.73s\n",
      "-----------------------------------------------------------------------\n",
      "Epoch 25/100\n"
     ]
    },
    {
     "name": "stderr",
     "output_type": "stream",
     "text": [
      "Training And Evaluation: 100%|██████████| 57/57 [00:32<00:00,  1.74it/s]\n",
      "Training And Evaluation: 100%|██████████| 13/13 [00:04<00:00,  3.23it/s]\n"
     ]
    },
    {
     "name": "stdout",
     "output_type": "stream",
     "text": [
      "Train Loss: 0.0366, Train Acc: 0.9912\n",
      "Valid Loss: 0.1496, Valid Acc: 0.9716\n",
      "Epoch 25 finished in 36.74s\n",
      "-----------------------------------------------------------------------\n",
      "Epoch 26/100\n"
     ]
    },
    {
     "name": "stderr",
     "output_type": "stream",
     "text": [
      "Training And Evaluation: 100%|██████████| 57/57 [00:33<00:00,  1.72it/s]\n",
      "Training And Evaluation: 100%|██████████| 13/13 [00:03<00:00,  3.68it/s]\n"
     ]
    },
    {
     "name": "stdout",
     "output_type": "stream",
     "text": [
      "Train Loss: 0.0426, Train Acc: 0.9868\n",
      "Valid Loss: 0.1478, Valid Acc: 0.9638\n",
      "Epoch 26 finished in 36.78s\n",
      "-----------------------------------------------------------------------\n",
      "Epoch 27/100\n"
     ]
    },
    {
     "name": "stderr",
     "output_type": "stream",
     "text": [
      "Training And Evaluation: 100%|██████████| 57/57 [00:32<00:00,  1.73it/s]\n",
      "Training And Evaluation: 100%|██████████| 13/13 [00:03<00:00,  3.62it/s]\n"
     ]
    },
    {
     "name": "stdout",
     "output_type": "stream",
     "text": [
      "Train Loss: 0.0419, Train Acc: 0.9884\n",
      "Valid Loss: 0.1916, Valid Acc: 0.9535\n",
      "Epoch 27 finished in 36.52s\n",
      "-----------------------------------------------------------------------\n",
      "Epoch 28/100\n"
     ]
    },
    {
     "name": "stderr",
     "output_type": "stream",
     "text": [
      "Training And Evaluation: 100%|██████████| 57/57 [00:33<00:00,  1.71it/s]\n",
      "Training And Evaluation: 100%|██████████| 13/13 [00:03<00:00,  3.57it/s]\n"
     ]
    },
    {
     "name": "stdout",
     "output_type": "stream",
     "text": [
      "Train Loss: 0.0250, Train Acc: 0.9939\n",
      "Valid Loss: 0.1444, Valid Acc: 0.9664\n",
      "Epoch 28 finished in 37.05s\n",
      "-----------------------------------------------------------------------\n",
      "Epoch 29/100\n"
     ]
    },
    {
     "name": "stderr",
     "output_type": "stream",
     "text": [
      "Training And Evaluation: 100%|██████████| 57/57 [00:33<00:00,  1.72it/s]\n",
      "Training And Evaluation: 100%|██████████| 13/13 [00:03<00:00,  3.29it/s]"
     ]
    },
    {
     "name": "stdout",
     "output_type": "stream",
     "text": [
      "Train Loss: 0.0303, Train Acc: 0.9912\n",
      "Valid Loss: 0.1565, Valid Acc: 0.9612\n",
      "Epoch 29 finished in 37.12s\n",
      "Early stopping at epoch 29 (no improvement in 10 epochs).\n",
      "-----------------------------------------------------------------------\n",
      "Training Complete In 1075.5131285190582s\n"
     ]
    },
    {
     "name": "stderr",
     "output_type": "stream",
     "text": [
      "\n"
     ]
    }
   ],
   "source": [
    "model, history, time_elapse, best_val_acc, best_epoch = train_model(data_loader=data_loader, model=model, \n",
    "                                                                    criterion=criterion, optimizer=optimizer, \n",
    "                                                                    num_epochs=epoch, device=device, \n",
    "                                                                    early_stop=True, patience=10)"
   ]
  },
  {
   "cell_type": "code",
   "execution_count": 11,
   "id": "e4ecad80",
   "metadata": {
    "execution": {
     "iopub.execute_input": "2025-06-03T09:50:02.298599Z",
     "iopub.status.busy": "2025-06-03T09:50:02.298071Z",
     "iopub.status.idle": "2025-06-03T09:50:02.983905Z",
     "shell.execute_reply": "2025-06-03T09:50:02.983115Z"
    },
    "papermill": {
     "duration": 0.811302,
     "end_time": "2025-06-03T09:50:02.985455",
     "exception": false,
     "start_time": "2025-06-03T09:50:02.174153",
     "status": "completed"
    },
    "tags": []
   },
   "outputs": [
    {
     "data": {
      "image/png": "[encoded data removed]",
      "text/plain": [
       "<Figure size 1500x500 with 2 Axes>"
      ]
     },
     "metadata": {},
     "output_type": "display_data"
    }
   ],
   "source": [
    "fig, axs = plt.subplots(nrows=1, ncols=2, figsize=(15, 5))\n",
    "\n",
    "axs[0].plot(history['Train_Acc'], label='Train Accuracy')\n",
    "axs[0].plot(history['Validation_Acc'], label='Validation Accuracy')\n",
    "axs[0].set_xlabel('Epoch')\n",
    "axs[0].set_ylabel('Accuracy')\n",
    "axs[0].set_title('Training and Validation Accuracy')\n",
    "axs[0].legend()\n",
    "\n",
    "axs[1].plot(history['Train_Loss'], label='Train Loss')\n",
    "axs[1].plot(history['Validation_Loss'], label='Validation Loss')\n",
    "axs[1].set_xlabel('Epoch')\n",
    "axs[1].set_ylabel('Loss')\n",
    "axs[1].set_title('Training and Validation Loss')\n",
    "axs[1].legend()\n",
    "\n",
    "plt.tight_layout()\n",
    "plt.savefig(os.path.join(path, \"plot_loss_acc.png\"))\n",
    "plt.show()"
   ]
  },
  {
   "cell_type": "code",
   "execution_count": 12,
   "id": "e203baab",
   "metadata": {
    "execution": {
     "iopub.execute_input": "2025-06-03T09:50:03.222181Z",
     "iopub.status.busy": "2025-06-03T09:50:03.221758Z",
     "iopub.status.idle": "2025-06-03T09:50:09.488708Z",
     "shell.execute_reply": "2025-06-03T09:50:09.487869Z"
    },
    "papermill": {
     "duration": 6.384394,
     "end_time": "2025-06-03T09:50:09.490213",
     "exception": false,
     "start_time": "2025-06-03T09:50:03.105819",
     "status": "completed"
    },
    "tags": []
   },
   "outputs": [
    {
     "name": "stdout",
     "output_type": "stream",
     "text": [
      "Accuracy: 0.9593908629441624\n",
      "Precision: 0.9598016888722278\n",
      "Recall: 0.9593908629441624\n",
      "F1-Score: 0.9589272225979159\n",
      "                     precision    recall  f1-score   support\n",
      "\n",
      "         Leaf_Algal     1.0000    0.9857    0.9928        70\n",
      "        Leaf_Blight     0.9492    0.8485    0.8960        66\n",
      "Leaf_Colletotrichum     0.9048    0.9500    0.9268        60\n",
      "       Leaf_Healthy     0.9867    1.0000    0.9933        74\n",
      "     Leaf_Phomopsis     0.9688    0.9841    0.9764        63\n",
      "   Leaf_Rhizoctonia     0.9375    0.9836    0.9600        61\n",
      "\n",
      "           accuracy                         0.9594       394\n",
      "          macro avg     0.9578    0.9587    0.9576       394\n",
      "       weighted avg     0.9598    0.9594    0.9589       394\n",
      "\n"
     ]
    },
    {
     "data": {
      "image/png": "[encoded data removed]",
      "text/plain": [
       "<Figure size 1000x800 with 2 Axes>"
      ]
     },
     "metadata": {},
     "output_type": "display_data"
    }
   ],
   "source": [
    "model.eval()\n",
    "\n",
    "with torch.no_grad():\n",
    "    \n",
    "    all_correct = []\n",
    "    all_predict = []\n",
    "    \n",
    "    for images, labels in test_loader:\n",
    "        images, labels = images.to(device), labels.to(device)\n",
    "        outputs = model(images)\n",
    "        _, predicts = torch.max(outputs, dim=1)\n",
    "\n",
    "        all_correct.extend(labels.cpu().numpy())\n",
    "        all_predict.extend(predicts.cpu().numpy())\n",
    "\n",
    "    acc = accuracy_score(all_correct, all_predict)\n",
    "    precision = precision_score(all_correct, all_predict, average='weighted')\n",
    "    recall = recall_score(all_correct, all_predict, average='weighted')\n",
    "    f1 = f1_score(all_correct, all_predict, average='weighted')\n",
    "    \n",
    "    input_res = (3, 224, 224)\n",
    "    flops, params = get_model_complexity_info(model, input_res, as_strings=True, print_per_layer_stat=False)\n",
    "    \n",
    "    total_params = sum(p.numel() for p in model.parameters())\n",
    "    trainable_params = sum(p.numel() for p in model.parameters() if p.requires_grad)\n",
    "    \n",
    "    print(f\"Accuracy: {acc}\")\n",
    "    print(f\"Precision: {precision}\")\n",
    "    print(f\"Recall: {recall}\")\n",
    "    print(f\"F1-Score: {f1}\")\n",
    "\n",
    "    result = {\n",
    "        \"Model\": model_name,\n",
    "        \"Optimizer\": \"Adam\",\n",
    "        \"Learning_Rate\": learning_rate,\n",
    "        \"Batch_Size\": BATCH_SIZE,\n",
    "        \"Num_Epoch\": epoch,\n",
    "        \"Early_Stop\": best_epoch,\n",
    "        \"Training_Time\": time_elapse,\n",
    "        \"Best_Val_Acc\": best_val_acc,\n",
    "        \"Accuracy\": acc,\n",
    "        \"Precision\": precision,\n",
    "        \"Recall\": recall,\n",
    "        \"F1-Score\": f1,\n",
    "        \"FLOPs\": flops,\n",
    "        \"Params\": params,\n",
    "        \"Total_Params\": total_params,\n",
    "        \"Trainable_Params\": trainable_params,\n",
    "             }\n",
    "    \n",
    "    result_df = pd.DataFrame([result])\n",
    "    result_df.to_csv(os.path.join(path, \"result.csv\"), index=False)\n",
    "    \n",
    "    report = classification_report(all_correct, all_predict, target_names=train_dataset.classes, digits=4)\n",
    "    print(report)\n",
    "    with open(os.path.join(path, \"classification_report.txt\"), \"w\") as f:\n",
    "        f.write(report)\n",
    "        \n",
    "    cm = confusion_matrix(all_correct, all_predict)\n",
    "    \n",
    "    # Hiển thị confusion matrix dưới dạng heatmap\n",
    "    plt.figure(figsize=(10, 8))\n",
    "    sns.heatmap(cm, annot=True, fmt='d', cmap='Blues', xticklabels=train_dataset.classes, yticklabels=train_dataset.classes)\n",
    "    plt.xlabel('Predicted')\n",
    "    plt.ylabel('Actual')\n",
    "    plt.title('Confusion Matrix')\n",
    "\n",
    "    plt.tight_layout()\n",
    "    plt.savefig(os.path.join(path, 'confusion_matrix.png'))\n",
    "    plt.show()\n",
    "    \n",
    "    plt.close()"
   ]
  },
  {
   "cell_type": "code",
   "execution_count": 13,
   "id": "68b7425e",
   "metadata": {
    "execution": {
     "iopub.execute_input": "2025-06-03T09:50:09.727424Z",
     "iopub.status.busy": "2025-06-03T09:50:09.727137Z",
     "iopub.status.idle": "2025-06-03T09:50:09.783481Z",
     "shell.execute_reply": "2025-06-03T09:50:09.782892Z"
    },
    "papermill": {
     "duration": 0.172536,
     "end_time": "2025-06-03T09:50:09.784835",
     "exception": false,
     "start_time": "2025-06-03T09:50:09.612299",
     "status": "completed"
    },
    "tags": []
   },
   "outputs": [],
   "source": [
    "torch.save(model.state_dict(), os.path.join(path, f'{model_name}_weights.pth'))\n",
    "history.to_csv(os.path.join(path, \"history.csv\"), index=False)"
   ]
  },
  {
   "cell_type": "code",
   "execution_count": 14,
   "id": "69f8548d",
   "metadata": {
    "execution": {
     "iopub.execute_input": "2025-06-03T09:50:10.019384Z",
     "iopub.status.busy": "2025-06-03T09:50:10.018746Z",
     "iopub.status.idle": "2025-06-03T09:50:10.894560Z",
     "shell.execute_reply": "2025-06-03T09:50:10.893811Z"
    },
    "papermill": {
     "duration": 0.99322,
     "end_time": "2025-06-03T09:50:10.895757",
     "exception": false,
     "start_time": "2025-06-03T09:50:09.902537",
     "status": "completed"
    },
    "tags": []
   },
   "outputs": [
    {
     "data": {
      "text/plain": [
       "'/kaggle/working/result_EfficientNet_b0.zip'"
      ]
     },
     "execution_count": 14,
     "metadata": {},
     "output_type": "execute_result"
    }
   ],
   "source": [
    "import shutil\n",
    "\n",
    "shutil.make_archive(path, 'zip', path)"
   ]
  }
 ],
 "metadata": {
  "kaggle": {
   "accelerator": "nvidiaTeslaT4",
   "dataSources": [
    {
     "datasetId": 7562468,
     "sourceId": 12020170,
     "sourceType": "datasetVersion"
    }
   ],
   "dockerImageVersionId": 31040,
   "isGpuEnabled": true,
   "isInternetEnabled": true,
   "language": "python",
   "sourceType": "notebook"
  },
  "kernelspec": {
   "display_name": "Python 3",
   "language": "python",
   "name": "python3"
  },
  "language_info": {
   "codemirror_mode": {
    "name": "ipython",
    "version": 3
   },
   "file_extension": ".py",
   "mimetype": "text/x-python",
   "name": "python",
   "nbconvert_exporter": "python",
   "pygments_lexer": "ipython3",
   "version": "3.11.11"
  },
  "papermill": {
   "default_parameters": {},
   "duration": 1189.799212,
   "end_time": "2025-06-03T09:50:13.373274",
   "environment_variables": {},
   "exception": null,
   "input_path": "__notebook__.ipynb",
   "output_path": "__notebook__.ipynb",
   "parameters": {},
   "start_time": "2025-06-03T09:30:23.574062",
   "version": "2.6.0"
  }
 },
 "nbformat": 4,
 "nbformat_minor": 5
}
